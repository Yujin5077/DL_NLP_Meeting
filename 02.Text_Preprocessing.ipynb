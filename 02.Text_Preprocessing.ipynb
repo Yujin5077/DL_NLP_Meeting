{
 "cells": [
  {
   "cell_type": "markdown",
   "id": "989c31cc",
   "metadata": {},
   "source": [
    "### 2. Tokenization\n",
    "#### word_tokenizer 실행 예시\n",
    "    - nltk와 keras를 사용"
   ]
  },
  {
   "cell_type": "code",
   "execution_count": 1,
   "id": "7bdce255",
   "metadata": {},
   "outputs": [],
   "source": [
    "#NLTK를 사용한 영어 word tokenization\n",
    "from nltk.tokenize import word_tokenize\n",
    "from nltk.tokenize import WordPunctTokenizer\n",
    "from tensorflow.keras.preprocessing.text import text_to_word_sequence"
   ]
  },
  {
   "cell_type": "code",
   "execution_count": 2,
   "id": "b0b935e0",
   "metadata": {
    "scrolled": false
   },
   "outputs": [
    {
     "name": "stdout",
     "output_type": "stream",
     "text": [
      "단어 토큰화 1: ['Do', \"n't\", 'be', 'fooled', 'by', 'the', 'dark', 'sounding', 'name', ',', 'Mr.Jone', \"'s\", 'Orphanage', 'is', 'as', 'cheery', 'goes', 'for', 'a', 'pastry', 'shop']\n",
      "단어 토큰화 2: ['Don', \"'\", 't', 'be', 'fooled', 'by', 'the', 'dark', 'sounding', 'name', ',', 'Mr', '.', 'Jone', \"'\", 's', 'Orphanage', 'is', 'as', 'cheery', 'goes', 'for', 'a', 'pastry', 'shop']\n",
      "단어 토큰화 3: [\"don't\", 'be', 'fooled', 'by', 'the', 'dark', 'sounding', 'name', 'mr', \"jone's\", 'orphanage', 'is', 'as', 'cheery', 'goes', 'for', 'a', 'pastry', 'shop']\n"
     ]
    }
   ],
   "source": [
    "sentence = \"Don't be fooled by the dark sounding name, Mr.Jone's Orphanage is as cheery goes for a pastry shop\"\n",
    "\n",
    "print(\"단어 토큰화 1:\", word_tokenize(sentence))\n",
    "print(\"단어 토큰화 2:\", WordPunctTokenizer().tokenize(sentence))\n",
    "print(\"단어 토큰화 3:\", text_to_word_sequence(sentence))"
   ]
  },
  {
   "cell_type": "markdown",
   "id": "d41bc57f",
   "metadata": {},
   "source": [
    "    - 단어 토큰화 1(nltk의 word_tokenize): Don't를 Do과 n't, Mr.Jone과 's로 분리\n",
    "    - 단어 토큰화 2(nltk의 WordPunctTokenizer().tokenize): 구두점을 별도로 분리하는 특징을 가지고 있어, Don과 '와 t, Jone과 .와 s로 분리\n",
    "    - 단어 토큰화 3(keras의 text_to_word_sequence: 모든 알파벳을 소문자로 변환하고, 구두점들을 제거하지만 don't와 jone's로 아스트로피는 보존)"
   ]
  },
  {
   "cell_type": "markdown",
   "id": "c01b110c",
   "metadata": {},
   "source": [
    "----------------------------"
   ]
  },
  {
   "cell_type": "markdown",
   "id": "626300cb",
   "metadata": {},
   "source": [
    "#### 표준 토큰화 방법인 Penn Treebank Tokenization\n",
    "    - 실행 후 규칙에 따라 구분하고 있는지 확인 \n",
    "    - 규칙은 다음과 같다\n",
    "        1. 하이푼으로 구성된 단어는 하나로 유지한다.\n",
    "        2. dosen't와 같이 아포스트로피로 접어가 함께하는 단어는 분리해준다."
   ]
  },
  {
   "cell_type": "code",
   "execution_count": 3,
   "id": "c56b7838",
   "metadata": {
    "scrolled": true
   },
   "outputs": [
    {
     "name": "stdout",
     "output_type": "stream",
     "text": [
      "트리뱅크 토크나이저: ['Starting', 'a', 'home-based', 'restaurant', 'may', 'be', 'an', 'ideal.', 'it', 'does', \"n't\", 'have', 'a', 'food', 'chain', 'or', 'restrant', 'of', 'their', 'own']\n"
     ]
    }
   ],
   "source": [
    "from nltk.tokenize import TreebankWordTokenizer\n",
    "\n",
    "tokenizer = TreebankWordTokenizer()\n",
    "\n",
    "text = \"Starting a home-based restaurant may be an ideal. it doesn't have a food chain or restrant of their own\"\n",
    "\n",
    "print(\"트리뱅크 토크나이저:\", tokenizer.tokenize(text))"
   ]
  },
  {
   "cell_type": "markdown",
   "id": "5f30fab1",
   "metadata": {},
   "source": [
    "    - 결과를 확인해보면 규칙 1에 따라 home-based는 하나의 단어로 취급되고 있다.\n",
    "    - doesn't는 규칙 2에 따라 does와 n't로 분리된다."
   ]
  },
  {
   "cell_type": "markdown",
   "id": "58cfa516",
   "metadata": {},
   "source": [
    "------------------------------------------"
   ]
  },
  {
   "cell_type": "markdown",
   "id": "dbb1509f",
   "metadata": {},
   "source": [
    "#### 문장 토큰화(Sentence Tokenize)\n",
    "    - 가지고 있는 코퍼스를 문장 단위로 나누는 작업\n",
    "    - 문장 분류(sentence segmentation)이라고도 불림\n",
    "    - 코퍼스가 정제된 상태가 아니라면 문장 단위로 구분되어 있지 않아, 종종 사용됨"
   ]
  },
  {
   "cell_type": "code",
   "execution_count": 4,
   "id": "0f225d42",
   "metadata": {},
   "outputs": [
    {
     "name": "stdout",
     "output_type": "stream",
     "text": [
      "문장 토큰화1: ['His barber kept his word.', 'But keeping such a huge secret to himself was driving hime crazy.', 'Finally, the barber went up a mountatin and almost to the edge of a cliff.', 'He dug a hole in the midst of some reads.', 'He looked about, to make sure no one was near.']\n"
     ]
    }
   ],
   "source": [
    "from nltk.tokenize import sent_tokenize\n",
    "\n",
    "text = \"His barber kept his word. But keeping such a huge secret to himself was driving hime crazy. Finally, the barber went up a mountatin and almost to the edge of a cliff. He dug a hole in the midst of some reads. He looked about, to make sure no one was near.\"\n",
    "\n",
    "print(\"문장 토큰화1:\", sent_tokenize(text))"
   ]
  },
  {
   "cell_type": "code",
   "execution_count": 5,
   "id": "805e6ecb",
   "metadata": {
    "scrolled": true
   },
   "outputs": [
    {
     "name": "stdout",
     "output_type": "stream",
     "text": [
      "문장 토큰화2: ['I am actively looking for Ph.D students.', 'and you are a Ph.D student.']\n"
     ]
    }
   ],
   "source": [
    "text = \"I am actively looking for Ph.D students. and you are a Ph.D student.\"\n",
    "\n",
    "print(\"문장 토큰화2:\", sent_tokenize(text))"
   ]
  },
  {
   "cell_type": "markdown",
   "id": "d7f60983",
   "metadata": {},
   "source": [
    "nltk의 문장 토크나이저의 경우 마침표(.)를 기준으로 문장을 분리하지 않는 다는 것을 확인 가능하다. "
   ]
  },
  {
   "cell_type": "markdown",
   "id": "6cd2f52a",
   "metadata": {},
   "source": [
    "    - 한국어 버전의 문장 토크나이저도 존재한다. \n",
    "    - KSS(Korean Sentence Splitter)"
   ]
  },
  {
   "cell_type": "code",
   "execution_count": 6,
   "id": "93aa0464",
   "metadata": {},
   "outputs": [
    {
     "name": "stderr",
     "output_type": "stream",
     "text": [
      "[Kss]: Because there's no supported C++ morpheme analyzer, Kss will take pecab as a backend. :D\n",
      "For your information, Kss also supports mecab backend.\n",
      "We recommend you to install mecab or konlpy.tag.Mecab for faster execution of Kss.\n",
      "Please refer to following web sites for details:\n",
      "- mecab: https://cleancode-ws.tistory.com/97\n",
      "- konlpy.tag.Mecab: https://uwgdqo.tistory.com/363\n",
      "\n"
     ]
    },
    {
     "name": "stdout",
     "output_type": "stream",
     "text": [
      "한국어 문장 토큰화: ['딥 러닝 자연어 처리가 재미있기는 합니다.', '그런데 문제는 영어보다 한국어로 할 때 너무 어렵습니다.', '이제 해보면 알걸요?']\n"
     ]
    }
   ],
   "source": [
    "import kss\n",
    "\n",
    "text = \"딥 러닝 자연어 처리가 재미있기는 합니다. 그런데 문제는 영어보다 한국어로 할 때 너무 어렵습니다. 이제 해보면 알걸요?\"\n",
    "\n",
    "print(\"한국어 문장 토큰화:\", kss.split_sentences(text))"
   ]
  },
  {
   "cell_type": "markdown",
   "id": "948a6a42",
   "metadata": {},
   "source": [
    "-------------------------------------------------------"
   ]
  },
  {
   "cell_type": "markdown",
   "id": "cff99197",
   "metadata": {},
   "source": [
    "#### 영어 토큰화 실습\n",
    "    - 단어 토큰화 후 품사 태깅"
   ]
  },
  {
   "cell_type": "code",
   "execution_count": 7,
   "id": "76f32edf",
   "metadata": {
    "scrolled": false
   },
   "outputs": [
    {
     "name": "stdout",
     "output_type": "stream",
     "text": [
      "단어 토큰화: ['I', 'am', 'actively', 'looking', 'for', 'Ph.D', 'students', '.', 'and', 'you', 'are', 'a', 'Ph.D', 'student', '.']\n",
      "품사 태깅: [('I', 'PRP'), ('am', 'VBP'), ('actively', 'RB'), ('looking', 'VBG'), ('for', 'IN'), ('Ph.D', 'NNP'), ('students', 'NNS'), ('.', '.'), ('and', 'CC'), ('you', 'PRP'), ('are', 'VBP'), ('a', 'DT'), ('Ph.D', 'NNP'), ('student', 'NN'), ('.', '.')]\n"
     ]
    }
   ],
   "source": [
    "from nltk.tokenize import word_tokenize\n",
    "from nltk.tag import pos_tag\n",
    "\n",
    "text = \"I am actively looking for Ph.D students. and you are a Ph.D student.\"\n",
    "tokenized_sentence = word_tokenize(text)\n",
    "\n",
    "print(\"단어 토큰화:\", tokenized_sentence)\n",
    "print(\"품사 태깅:\", pos_tag(tokenized_sentence))"
   ]
  },
  {
   "cell_type": "markdown",
   "id": "0f4de610",
   "metadata": {},
   "source": [
    "    - Penn Treebank POG Tags에서는 인칭 대명사는 PRP, 동사는 VBP, 현재부사는 VBG, 전치사는 IN, 고유명사는 NNP, 복수형명사는 NNS, 접속사는 CC, 관사는 DT를 의미한다."
   ]
  },
  {
   "cell_type": "markdown",
   "id": "7bdcc037",
   "metadata": {},
   "source": [
    "#### 한국어 단어 토큰화 실습\n",
    "    - 단어 토큰화라 말했지만 정확하게는 형태소 토큰화(morpheme tokenization)\n",
    "    - KoNLPy에서 Okt와 Kkma를 사용하여 실습\n",
    "    - 형태소 분석, 품사 태깅, 명사 추출"
   ]
  },
  {
   "cell_type": "code",
   "execution_count": 8,
   "id": "9f26f1e9",
   "metadata": {},
   "outputs": [
    {
     "name": "stdout",
     "output_type": "stream",
     "text": [
      "OKT 형태소 분석: ['열심히', '코딩', '한', '당신', ',', '연휴', '에는', '여행', '을', '가봐요', '.']\n",
      "OKT 품사 태깅: [('열심히', 'Adverb'), ('코딩', 'Noun'), ('한', 'Josa'), ('당신', 'Noun'), (',', 'Punctuation'), ('연휴', 'Noun'), ('에는', 'Josa'), ('여행', 'Noun'), ('을', 'Josa'), ('가봐요', 'Verb'), ('.', 'Punctuation')]\n",
      "OKT 명사 추출: ['코딩', '당신', '연휴', '여행']\n"
     ]
    }
   ],
   "source": [
    "from konlpy.tag import Okt\n",
    "from konlpy.tag import Kkma\n",
    "\n",
    "okt = Okt()\n",
    "kkma = Kkma()\n",
    "\n",
    "text = \"열심히 코딩한 당신, 연휴에는 여행을 가봐요.\"\n",
    "\n",
    "print(\"OKT 형태소 분석:\", okt.morphs(text))\n",
    "print(\"OKT 품사 태깅:\", okt.pos(text))\n",
    "print(\"OKT 명사 추출:\", okt.nouns(text))"
   ]
  },
  {
   "cell_type": "code",
   "execution_count": 9,
   "id": "602bcabd",
   "metadata": {},
   "outputs": [
    {
     "name": "stdout",
     "output_type": "stream",
     "text": [
      "KKMA 형태소 분석: ['열심히', '코딩', '하', 'ㄴ', '당신', ',', '연휴', '에', '는', '여행', '을', '가보', '아요', '.']\n",
      "KKMA 품사 태깅: [('열심히', 'MAG'), ('코딩', 'NNG'), ('하', 'XSV'), ('ㄴ', 'ETD'), ('당신', 'NP'), (',', 'SP'), ('연휴', 'NNG'), ('에', 'JKM'), ('는', 'JX'), ('여행', 'NNG'), ('을', 'JKO'), ('가보', 'VV'), ('아요', 'EFN'), ('.', 'SF')]\n",
      "KKMA 명사 추출: ['코딩', '당신', '연휴', '여행']\n"
     ]
    }
   ],
   "source": [
    "print(\"KKMA 형태소 분석:\", kkma.morphs(text))\n",
    "print(\"KKMA 품사 태깅:\", kkma.pos(text))\n",
    "print(\"KKMA 명사 추출:\", kkma.nouns(text))"
   ]
  },
  {
   "cell_type": "markdown",
   "id": "0f8d7676",
   "metadata": {},
   "source": [
    "    - okt와 kkma를 사용하였는데 보다 싶이 결과가 다른 것을 확인 할 수 있다.\n",
    "    - 형태소 분석기는 성능과 결과가 다르기 때문에, 사용하고자 하는 필요에 따라 어떤 형태소 분석기가 적합한지 판단하고 사용하면 된다. 예를 들어 속도를 중시한다면 메캅을 사용할 수 있다. "
   ]
  },
  {
   "cell_type": "markdown",
   "id": "8508ddba",
   "metadata": {},
   "source": [
    "-----------------------------------------------------"
   ]
  },
  {
   "cell_type": "markdown",
   "id": "7d3b347d",
   "metadata": {},
   "source": [
    "### 3. cleaning and normalization\n",
    "#### 길이가 짧은 단어 제거 "
   ]
  },
  {
   "cell_type": "code",
   "execution_count": 10,
   "id": "367a87ab",
   "metadata": {},
   "outputs": [
    {
     "name": "stdout",
     "output_type": "stream",
     "text": [
      " was wndering  anyone there could enlighten   this car.\n"
     ]
    }
   ],
   "source": [
    "import re\n",
    "\n",
    "text = \"I was wndering if anyone there could enlighten me on this car.\"\n",
    "\n",
    "# 길이가 1~2인 단어들을 정규표현식을 이용하여 삭제\n",
    "shortword = re.compile(r'\\w*\\b\\w{1,2}\\b')\n",
    "print(shortword.sub('', text))"
   ]
  },
  {
   "cell_type": "markdown",
   "id": "31ba2abd",
   "metadata": {},
   "source": [
    "### lemmatization\n",
    "    - 표제어 추출은 단어의 표제어(기본 사전형 단어)를 찾아가는 작업이다.\n",
    "    - 가장 섬세한 방법은 형택학적 파싱을 먼저 진행하는 것이다.\n",
    "    - 형태학적 파싱은 어간과 접사를 분리하는 작업이다."
   ]
  },
  {
   "cell_type": "code",
   "execution_count": 11,
   "id": "33f7c23e",
   "metadata": {
    "scrolled": true
   },
   "outputs": [
    {
     "name": "stdout",
     "output_type": "stream",
     "text": [
      "표제어 추출 전: ['policy', 'doing', 'organization', 'have', 'going', 'love', 'lives', 'fly', 'dies', 'watched', 'has', 'starting']\n",
      "표제어 추출 후: ['policy', 'doing', 'organization', 'have', 'going', 'love', 'life', 'fly', 'dy', 'watched', 'ha', 'starting']\n"
     ]
    }
   ],
   "source": [
    "from nltk.stem import WordNetLemmatizer\n",
    "\n",
    "lemmatizer = WordNetLemmatizer()\n",
    "\n",
    "words = ['policy', 'doing', 'organization', 'have', 'going', 'love', 'lives', 'fly', 'dies', 'watched', 'has', 'starting']\n",
    "\n",
    "print(\"표제어 추출 전:\", words)\n",
    "print(\"표제어 추출 후:\", [lemmatizer.lemmatize(word) for word in words])"
   ]
  },
  {
   "cell_type": "code",
   "execution_count": 12,
   "id": "c759bcb7",
   "metadata": {},
   "outputs": [
    {
     "data": {
      "text/plain": [
       "'die'"
      ]
     },
     "execution_count": 12,
     "metadata": {},
     "output_type": "execute_result"
    }
   ],
   "source": [
    "lemmatizer.lemmatize('dies', 'v')"
   ]
  },
  {
   "cell_type": "code",
   "execution_count": 13,
   "id": "3359d35b",
   "metadata": {},
   "outputs": [
    {
     "data": {
      "text/plain": [
       "'watch'"
      ]
     },
     "execution_count": 13,
     "metadata": {},
     "output_type": "execute_result"
    }
   ],
   "source": [
    "lemmatizer.lemmatize('watched', 'v')"
   ]
  },
  {
   "cell_type": "code",
   "execution_count": 14,
   "id": "58e6894e",
   "metadata": {},
   "outputs": [
    {
     "data": {
      "text/plain": [
       "'have'"
      ]
     },
     "execution_count": 14,
     "metadata": {},
     "output_type": "execute_result"
    }
   ],
   "source": [
    "lemmatizer.lemmatize('has', 'v')"
   ]
  },
  {
   "cell_type": "markdown",
   "id": "0dd3aa64",
   "metadata": {},
   "source": [
    "    - 표제어 추출기는 단어의 품사를 알아야 정확한 정보를 얻을 수 있다.\n",
    "    - 위의 경우도 has가 동사라는 사실을 알려주니 정확한 결과가 나왔다."
   ]
  },
  {
   "cell_type": "markdown",
   "id": "ca9ac6e4",
   "metadata": {},
   "source": [
    "--------------------------------"
   ]
  },
  {
   "cell_type": "markdown",
   "id": "24a1586d",
   "metadata": {},
   "source": [
    "#### stemming\n",
    "    - 어간(stem)을 추출하는 작업\n",
    "    - 형태학적 분석을 단순화한 버전\n",
    "    - 어간 추출 후 나온 결과 단어는 사전에 존재 하지 않을 수 있다."
   ]
  },
  {
   "cell_type": "code",
   "execution_count": 15,
   "id": "66515652",
   "metadata": {},
   "outputs": [
    {
     "name": "stdout",
     "output_type": "stream",
     "text": [
      "어간 추출 전: This was not the map we found in Billy Bones's chest, but an accurate copy, complete in all things--names and heights and soundings--with the single exception of the red crosses and the written notes.\n",
      "어간 추출 후: ['thi', 'wa', 'not', 'the', 'map', 'we', 'found', 'in', 'billi', 'bone', \"'s\", 'chest', ',', 'but', 'an', 'accur', 'copi', ',', 'complet', 'in', 'all', 'thing', '--', 'name', 'and', 'height', 'and', 'sound', '--', 'with', 'the', 'singl', 'except', 'of', 'the', 'red', 'cross', 'and', 'the', 'written', 'note', '.']\n"
     ]
    }
   ],
   "source": [
    "from nltk.stem import PorterStemmer\n",
    "from nltk.tokenize import word_tokenize\n",
    "\n",
    "stemmer = PorterStemmer()\n",
    "\n",
    "sentence = \"This was not the map we found in Billy Bones's chest, but an accurate copy, complete in all things--names and heights and soundings--with the single exception of the red crosses and the written notes.\"\n",
    "\n",
    "tokenized_sentence = word_tokenize(sentence)\n",
    "\n",
    "print(\"어간 추출 전:\", sentence)\n",
    "print(\"어간 추출 후:\", [stemmer.stem(word) for word in tokenized_sentence])"
   ]
  },
  {
   "cell_type": "markdown",
   "id": "6ab7b3ee",
   "metadata": {},
   "source": [
    "    - 규칙 기반의 접근을 하고 있어 어간 추출 후의 결과에는 사전에 없는 단어들도 포함하고 있다. "
   ]
  },
  {
   "cell_type": "markdown",
   "id": "78cbac4f",
   "metadata": {},
   "source": [
    "    - poter algorithm은 다음과 같은 규칙들을 가지고 있다\n",
    "        1. ALIZE -> AL\n",
    "        2. ANCE -> 제거\n",
    "        3. ICAL -> IC"
   ]
  },
  {
   "cell_type": "code",
   "execution_count": 16,
   "id": "ac1759f4",
   "metadata": {},
   "outputs": [
    {
     "name": "stdout",
     "output_type": "stream",
     "text": [
      "어간 추출 전: ['formlize', 'allowance', 'electiricical']\n",
      "어간 추출 후: ['formliz', 'allow', 'electiric']\n"
     ]
    }
   ],
   "source": [
    "words = [\"formlize\", \"allowance\", \"electiricical\"]\n",
    "\n",
    "print(\"어간 추출 전:\", words)\n",
    "print(\"어간 추출 후:\", [stemmer.stem(word) for word in words])"
   ]
  },
  {
   "cell_type": "code",
   "execution_count": 17,
   "id": "2074ca6c",
   "metadata": {},
   "outputs": [
    {
     "name": "stdout",
     "output_type": "stream",
     "text": [
      "어간 추출 전: ['policy', 'doing', 'origanization', 'have', 'going', 'love', 'lives', 'fly', 'dies', 'watched', 'has', 'starting']\n",
      "포터 스테머의 어간 추출 후: ['polici', 'do', 'origan', 'have', 'go', 'love', 'live', 'fli', 'die', 'watch', 'ha', 'start']\n",
      "랭커스터 스테머의 어간 추출 후: ['policy', 'doing', 'orig', 'hav', 'going', 'lov', 'liv', 'fly', 'die', 'watch', 'has', 'start']\n"
     ]
    }
   ],
   "source": [
    "from nltk.stem import PorterStemmer\n",
    "from nltk.stem import LancasterStemmer\n",
    "\n",
    "porter_stemmer = PorterStemmer()\n",
    "lancaster_stemmer = LancasterStemmer()\n",
    "\n",
    "words = ['policy', 'doing', 'origanization', 'have', 'going', 'love', 'lives', 'fly', 'dies', 'watched', 'has', 'starting']\n",
    "\n",
    "print('어간 추출 전:', words)\n",
    "print('포터 스테머의 어간 추출 후:', [porter_stemmer.stem(w) for w in words])\n",
    "print('랭커스터 스테머의 어간 추출 후:', [lancaster_stemmer.stem(w) for w in words])"
   ]
  },
  {
   "cell_type": "markdown",
   "id": "5f4af8fd",
   "metadata": {},
   "source": [
    "    - 두 스테머를 비교하면 전혀 다른 결과를 보여준다. \n",
    "    - 그렇기 때문에 이미 알려진 알고리즘을 사용할 때는, 사용하고자 하는 코퍼스에 스태머를 적용해보고 어떤 알고리즘이 적합한지 판단해야한다."
   ]
  },
  {
   "cell_type": "markdown",
   "id": "0c961cf2",
   "metadata": {},
   "source": [
    "------------------"
   ]
  },
  {
   "cell_type": "markdown",
   "id": "c4b0d657",
   "metadata": {},
   "source": [
    "### 불용어(Stopword)"
   ]
  },
  {
   "cell_type": "code",
   "execution_count": 18,
   "id": "6e5f0a61",
   "metadata": {},
   "outputs": [
    {
     "name": "stdout",
     "output_type": "stream",
     "text": [
      "불용어 개수: 179\n",
      "불용어 10개 출력: ['i', 'me', 'my', 'myself', 'we', 'our', 'ours', 'ourselves', 'you', \"you're\"]\n"
     ]
    }
   ],
   "source": [
    "from nltk.corpus import stopwords\n",
    "from nltk.tokenize import word_tokenize\n",
    "from konlpy.tag import Okt\n",
    "\n",
    "stop_words_list = stopwords.words('english')\n",
    "\n",
    "print(\"불용어 개수:\", len(stop_words_list))\n",
    "print(\"불용어 10개 출력:\", stop_words_list[:10])"
   ]
  },
  {
   "cell_type": "code",
   "execution_count": 19,
   "id": "6a8c0d06",
   "metadata": {
    "scrolled": true
   },
   "outputs": [
    {
     "name": "stdout",
     "output_type": "stream",
     "text": [
      "불용어 제거 전: ['Family', 'is', 'not', 'an', 'important', 'thing', ',', 'It', \"'s\", 'everything', '.']\n",
      "불용어 제거 후: ['Family', 'important', 'thing', ',', 'It', \"'s\", 'everything', '.']\n"
     ]
    }
   ],
   "source": [
    "example = \"Family is not an important thing, It's everything.\"\n",
    "stop_words = set(stopwords.words('english'))\n",
    "\n",
    "word_tokens = word_tokenize(example)\n",
    "\n",
    "result = []\n",
    "for word in word_tokens:\n",
    "    if word not in stop_words:\n",
    "        result.append(word)\n",
    "\n",
    "print(\"불용어 제거 전:\", word_tokens)\n",
    "print(\"불용어 제거 후:\", result)"
   ]
  },
  {
   "cell_type": "code",
   "execution_count": 20,
   "id": "9d509fab",
   "metadata": {
    "scrolled": true
   },
   "outputs": [
    {
     "name": "stdout",
     "output_type": "stream",
     "text": [
      "불용어 제거 전: ['고기', '를', '아무렇게나', '구', '우려', '고', '하면', '안', '돼', '.', '고기', '라고', '다', '같은게', '아니거든', ',', '예컨데', '삼겹살', '을', '구울', '때', '는', '중요한게', '있지', '.']\n",
      "불용어 제거 후: ['고기', '하면', '.', '고기', '라고', '다', '같은게', '아니거든', ',', '예컨데', '삼겹살', '을', '중요한게', '있지', '.']\n"
     ]
    }
   ],
   "source": [
    "okt = Okt()\n",
    "\n",
    "example = \"고기를 아무렇게나 구우려고 하면 안 돼. 고기라고 다 같은게 아니거든, 예컨데 삼겹살을 구울 때는 중요한게 있지.\"\n",
    "stop_words = \"를 아무렇게나 구 우려 고 안 돼 같은 게 구울 때 는\"\n",
    "\n",
    "stop_words = set(stop_words.split(' '))\n",
    "word_tokens = okt.morphs(example)\n",
    "\n",
    "result = [word for word in word_tokens if not word in stop_words]\n",
    "\n",
    "print(\"불용어 제거 전:\", word_tokens)\n",
    "print(\"불용어 제거 후:\", result)"
   ]
  },
  {
   "cell_type": "markdown",
   "id": "5361ac95",
   "metadata": {},
   "source": [
    "    - 한국어 불용어 리스트 링크: https://www.ranks.nl/stopwords/korean\n",
    "    - 절대적인 건 아니기 때문에 참고만 하자.\n",
    "    - csv 파일이나 txt 파일로 정리해놓고 불러오기도 한다."
   ]
  },
  {
   "cell_type": "markdown",
   "id": "849ee1e2",
   "metadata": {},
   "source": [
    "-------------------"
   ]
  },
  {
   "cell_type": "markdown",
   "id": "9ff5869f",
   "metadata": {},
   "source": [
    "### 정규표현식(Regular Expression)\n",
    "    - 텍스트 데이터를 빠르게 정제할 수 있는 방법\n",
    "    - 문법과 모듈 함수 실습을 할 것이다. "
   ]
  },
  {
   "cell_type": "code",
   "execution_count": 21,
   "id": "4f951877",
   "metadata": {},
   "outputs": [
    {
     "data": {
      "text/plain": [
       "<re.Match object; span=(0, 3), match='abc'>"
      ]
     },
     "execution_count": 21,
     "metadata": {},
     "output_type": "execute_result"
    }
   ],
   "source": [
    "# 기호 .\n",
    "import re\n",
    "\n",
    "r = re.compile(\"a.c\")\n",
    "\n",
    "r.search(\"kkk\") #아무런 결과도 출력되지 않는다\n",
    "r.search(\"abc\") #.은 어떤 문자로도 인식 가능하기 때문에 a.c에 매치 가능"
   ]
  },
  {
   "cell_type": "code",
   "execution_count": 22,
   "id": "d55d4abb",
   "metadata": {},
   "outputs": [],
   "source": [
    "# 기호 ?\n",
    "# b가 존재할 수도 있고 없을 수도 있다.\n",
    "# abc 또는 ac 매치 가능\n",
    "r = re.compile(\"ab?c\")\n",
    "\n",
    "r.search(\"abbc\") #아무런 결과도 출력되지 않는다."
   ]
  },
  {
   "cell_type": "code",
   "execution_count": 23,
   "id": "a727efef",
   "metadata": {
    "scrolled": true
   },
   "outputs": [
    {
     "data": {
      "text/plain": [
       "<re.Match object; span=(0, 3), match='abc'>"
      ]
     },
     "execution_count": 23,
     "metadata": {},
     "output_type": "execute_result"
    }
   ],
   "source": [
    "r.search(\"abc\") #b가 있다는 걸로 매치가 되었다."
   ]
  },
  {
   "cell_type": "code",
   "execution_count": 24,
   "id": "2cbcd29d",
   "metadata": {
    "scrolled": true
   },
   "outputs": [
    {
     "data": {
      "text/plain": [
       "<re.Match object; span=(0, 2), match='ac'>"
      ]
     },
     "execution_count": 24,
     "metadata": {},
     "output_type": "execute_result"
    }
   ],
   "source": [
    "r.search(\"ac\") #b가 없다는 걸로 ac를 매치하였다."
   ]
  },
  {
   "cell_type": "code",
   "execution_count": 25,
   "id": "fd012932",
   "metadata": {},
   "outputs": [],
   "source": [
    "# 기호 *\n",
    "#앞의 문자가 0개 이상일 경우\n",
    "\n",
    "r = re.compile(\"ab*c\")\n",
    "\n",
    "r.search(\"a\") #아무런 결과가 출력되지 않는다. "
   ]
  },
  {
   "cell_type": "code",
   "execution_count": 26,
   "id": "8ecf39cc",
   "metadata": {},
   "outputs": [
    {
     "data": {
      "text/plain": [
       "<re.Match object; span=(0, 2), match='ac'>"
      ]
     },
     "execution_count": 26,
     "metadata": {},
     "output_type": "execute_result"
    }
   ],
   "source": [
    "r.search(\"ac\")"
   ]
  },
  {
   "cell_type": "code",
   "execution_count": 27,
   "id": "6ae7ca4b",
   "metadata": {},
   "outputs": [
    {
     "data": {
      "text/plain": [
       "<re.Match object; span=(0, 3), match='abc'>"
      ]
     },
     "execution_count": 27,
     "metadata": {},
     "output_type": "execute_result"
    }
   ],
   "source": [
    "r.search(\"abc\")"
   ]
  },
  {
   "cell_type": "code",
   "execution_count": 28,
   "id": "ec30c9ca",
   "metadata": {
    "scrolled": true
   },
   "outputs": [
    {
     "data": {
      "text/plain": [
       "<re.Match object; span=(0, 9), match='abbbbbbbc'>"
      ]
     },
     "execution_count": 28,
     "metadata": {},
     "output_type": "execute_result"
    }
   ],
   "source": [
    "r.search(\"abbbbbbbc\")"
   ]
  },
  {
   "cell_type": "code",
   "execution_count": 29,
   "id": "afab5dd1",
   "metadata": {},
   "outputs": [],
   "source": [
    "# 기호 +\n",
    "# 앞의 문자가 1개 이상이어야 한다.(*과 유사)\n",
    "r = re.compile(\"ab+c\")\n",
    "\n",
    "r.search(\"ac\")"
   ]
  },
  {
   "cell_type": "code",
   "execution_count": 30,
   "id": "cd52b654",
   "metadata": {
    "scrolled": true
   },
   "outputs": [
    {
     "data": {
      "text/plain": [
       "<re.Match object; span=(0, 3), match='abc'>"
      ]
     },
     "execution_count": 30,
     "metadata": {},
     "output_type": "execute_result"
    }
   ],
   "source": [
    "r.search(\"abc\")"
   ]
  },
  {
   "cell_type": "code",
   "execution_count": 31,
   "id": "8107786e",
   "metadata": {},
   "outputs": [
    {
     "data": {
      "text/plain": [
       "<re.Match object; span=(0, 6), match='abbbbc'>"
      ]
     },
     "execution_count": 31,
     "metadata": {},
     "output_type": "execute_result"
    }
   ],
   "source": [
    "r.search(\"abbbbc\")"
   ]
  },
  {
   "cell_type": "code",
   "execution_count": 32,
   "id": "52292917",
   "metadata": {},
   "outputs": [],
   "source": [
    "# ^ 기호\n",
    "# 시작되는 문자열을 지정한다.\n",
    "# 정규표현식이 ^ab라면 문자열 ab로 시작되는 경우와 매치한다.\n",
    "r = re.compile(\"^ab\")\n",
    "\n",
    "r.match(\"bbc\")\n",
    "r.match(\"zab\")"
   ]
  },
  {
   "cell_type": "code",
   "execution_count": 33,
   "id": "9fa40d95",
   "metadata": {},
   "outputs": [
    {
     "data": {
      "text/plain": [
       "<re.Match object; span=(0, 2), match='ab'>"
      ]
     },
     "execution_count": 33,
     "metadata": {},
     "output_type": "execute_result"
    }
   ],
   "source": [
    "r.match(\"abxx\")"
   ]
  },
  {
   "cell_type": "code",
   "execution_count": 34,
   "id": "da9f6111",
   "metadata": {},
   "outputs": [],
   "source": [
    "# {숫자} 기호\n",
    "# 문자에 해당 기호를 붙이면 해당 문자를 숫자만큼 반복한 것을 의미\n",
    "r = re.compile(\"ab{2}c\")\n",
    "\n",
    "r.search(\"ac\")\n",
    "r.search(\"abc\")\n",
    "r.search(\"abbbbbc\")"
   ]
  },
  {
   "cell_type": "code",
   "execution_count": 35,
   "id": "4868cacb",
   "metadata": {},
   "outputs": [
    {
     "data": {
      "text/plain": [
       "<re.Match object; span=(0, 4), match='abbc'>"
      ]
     },
     "execution_count": 35,
     "metadata": {},
     "output_type": "execute_result"
    }
   ],
   "source": [
    "r.search(\"abbc\")"
   ]
  },
  {
   "cell_type": "code",
   "execution_count": 36,
   "id": "33562029",
   "metadata": {},
   "outputs": [],
   "source": [
    "# {숫자1, 숫자2} 기호\n",
    "r = re.compile(\"ab{2,8}c\")\n",
    "\n",
    "r.search(\"ac\")\n",
    "r.search(\"abc\")\n",
    "r.search(\"abbbbbbbbbc\") #b 9개"
   ]
  },
  {
   "cell_type": "code",
   "execution_count": 37,
   "id": "5503b5ad",
   "metadata": {},
   "outputs": [
    {
     "data": {
      "text/plain": [
       "<re.Match object; span=(0, 4), match='abbc'>"
      ]
     },
     "execution_count": 37,
     "metadata": {},
     "output_type": "execute_result"
    }
   ],
   "source": [
    "r.search(\"abbc\")"
   ]
  },
  {
   "cell_type": "code",
   "execution_count": 38,
   "id": "7a181028",
   "metadata": {},
   "outputs": [
    {
     "data": {
      "text/plain": [
       "<re.Match object; span=(0, 10), match='abbbbbbbbc'>"
      ]
     },
     "execution_count": 38,
     "metadata": {},
     "output_type": "execute_result"
    }
   ],
   "source": [
    "r.search(\"abbbbbbbbc\")"
   ]
  },
  {
   "cell_type": "code",
   "execution_count": 39,
   "id": "440879bd",
   "metadata": {},
   "outputs": [],
   "source": [
    "#{숫자, } 기호\n",
    "#문자에 해당 기호를 붙이면 해당 문자를 숫자이상 만큼 반복한다.\n",
    "r = re.compile(\"a{2,}bc\")\n",
    "\n",
    "r.search(\"bc\")\n",
    "r.search(\"aa\")"
   ]
  },
  {
   "cell_type": "code",
   "execution_count": 40,
   "id": "ca6eb8aa",
   "metadata": {},
   "outputs": [
    {
     "data": {
      "text/plain": [
       "<re.Match object; span=(0, 4), match='aabc'>"
      ]
     },
     "execution_count": 40,
     "metadata": {},
     "output_type": "execute_result"
    }
   ],
   "source": [
    "r.search(\"aabc\")"
   ]
  },
  {
   "cell_type": "code",
   "execution_count": 41,
   "id": "60481e59",
   "metadata": {},
   "outputs": [
    {
     "data": {
      "text/plain": [
       "<re.Match object; span=(0, 18), match='aaaaaaaaaaaaaaaabc'>"
      ]
     },
     "execution_count": 41,
     "metadata": {},
     "output_type": "execute_result"
    }
   ],
   "source": [
    "r.search(\"aaaaaaaaaaaaaaaabc\")"
   ]
  },
  {
   "cell_type": "code",
   "execution_count": 42,
   "id": "ba9a96ef",
   "metadata": {},
   "outputs": [],
   "source": [
    "# [] 기호\n",
    "# 괄호 안에 문자를 넣으면 그 중 한개의 문자와 매치라는 의미를 가진다.\n",
    "# [a-zA-Z]와 같이 범위 지정도 가능하다.\n",
    "r = re.compile(\"[abc]\")\n",
    "\n",
    "r.match(\"zzz\")"
   ]
  },
  {
   "cell_type": "code",
   "execution_count": 43,
   "id": "f97fb45f",
   "metadata": {},
   "outputs": [
    {
     "data": {
      "text/plain": [
       "<re.Match object; span=(0, 1), match='a'>"
      ]
     },
     "execution_count": 43,
     "metadata": {},
     "output_type": "execute_result"
    }
   ],
   "source": [
    "r.match(\"a\")"
   ]
  },
  {
   "cell_type": "code",
   "execution_count": 44,
   "id": "8cf46939",
   "metadata": {},
   "outputs": [
    {
     "data": {
      "text/plain": [
       "<re.Match object; span=(0, 1), match='a'>"
      ]
     },
     "execution_count": 44,
     "metadata": {},
     "output_type": "execute_result"
    }
   ],
   "source": [
    "r.match(\"aaaaaaaaaa\")"
   ]
  },
  {
   "cell_type": "code",
   "execution_count": 45,
   "id": "3dba1e64",
   "metadata": {},
   "outputs": [
    {
     "data": {
      "text/plain": [
       "<re.Match object; span=(0, 1), match='b'>"
      ]
     },
     "execution_count": 45,
     "metadata": {},
     "output_type": "execute_result"
    }
   ],
   "source": [
    "r.match(\"baaaaaaac\")"
   ]
  },
  {
   "cell_type": "code",
   "execution_count": 46,
   "id": "633f6e7a",
   "metadata": {},
   "outputs": [
    {
     "data": {
      "text/plain": [
       "<re.Match object; span=(0, 1), match='b'>"
      ]
     },
     "execution_count": 46,
     "metadata": {},
     "output_type": "execute_result"
    }
   ],
   "source": [
    "r.match(\"baac\")"
   ]
  },
  {
   "cell_type": "code",
   "execution_count": 47,
   "id": "6481263b",
   "metadata": {},
   "outputs": [],
   "source": [
    "# 이번에는 범위를 지정하여 정규표현식을 만들어 문자열과 매치\n",
    "r = re.compile(\"[a-z]\")\n",
    "\n",
    "r.match(\"AAA\")\n",
    "r.match(\"111\")"
   ]
  },
  {
   "cell_type": "code",
   "execution_count": 48,
   "id": "feafb848",
   "metadata": {},
   "outputs": [
    {
     "data": {
      "text/plain": [
       "<re.Match object; span=(0, 1), match='a'>"
      ]
     },
     "execution_count": 48,
     "metadata": {},
     "output_type": "execute_result"
    }
   ],
   "source": [
    "r.match(\"aBC\")"
   ]
  },
  {
   "cell_type": "code",
   "execution_count": 49,
   "id": "a3a27bb1",
   "metadata": {},
   "outputs": [],
   "source": [
    "# [^ 문자] 기호\n",
    "# ^문자 뒤에 붙은 문자를 제외한 모든 문자를 매치한다.(범위도 가능)\n",
    "r = re.compile(\"[^abc]\")\n",
    "\n",
    "r.search(\"a\")\n",
    "r.search(\"b\")\n",
    "r.search(\"c\")"
   ]
  },
  {
   "cell_type": "code",
   "execution_count": 50,
   "id": "8293ff9d",
   "metadata": {},
   "outputs": [
    {
     "data": {
      "text/plain": [
       "<re.Match object; span=(0, 1), match='d'>"
      ]
     },
     "execution_count": 50,
     "metadata": {},
     "output_type": "execute_result"
    }
   ],
   "source": [
    "r.search(\"d\")"
   ]
  },
  {
   "cell_type": "code",
   "execution_count": 51,
   "id": "35278b15",
   "metadata": {},
   "outputs": [
    {
     "data": {
      "text/plain": [
       "<re.Match object; span=(0, 1), match='1'>"
      ]
     },
     "execution_count": 51,
     "metadata": {},
     "output_type": "execute_result"
    }
   ],
   "source": [
    "r.search(\"1\")"
   ]
  },
  {
   "cell_type": "markdown",
   "id": "9bde6d59",
   "metadata": {},
   "source": [
    "### 정규표현식 모듈함수 예제\n",
    "    - 앞에서 re.complie( ), re.search( )를 사용해보았다."
   ]
  },
  {
   "cell_type": "markdown",
   "id": "d73492a8",
   "metadata": {},
   "source": [
    "**1. re.match()와 re.search()의 차이** <br>\n",
    "search가 정규표현식 전체에 대하여 문자열이 매치하는지를 본다면, match는 문자열의 첫 부분부터 정규표현식과 매치하는지를 확인한다. 문자열 중간에 찾을 패턴이더라도 match는 시작에서 패턴이 일치 않는다면 찾지 않는다."
   ]
  },
  {
   "cell_type": "code",
   "execution_count": 52,
   "id": "e9443a7f",
   "metadata": {},
   "outputs": [],
   "source": [
    "r = re.compile(\"ab.\")\n",
    "\n",
    "r.match(\"kkkkabc\") #아무런 결과도 출력되지 않는다."
   ]
  },
  {
   "cell_type": "code",
   "execution_count": 53,
   "id": "3436ee0f",
   "metadata": {},
   "outputs": [
    {
     "data": {
      "text/plain": [
       "<re.Match object; span=(4, 7), match='abc'>"
      ]
     },
     "execution_count": 53,
     "metadata": {},
     "output_type": "execute_result"
    }
   ],
   "source": [
    "r.search(\"kkkkabc\")"
   ]
  },
  {
   "cell_type": "code",
   "execution_count": 54,
   "id": "79d0a021",
   "metadata": {},
   "outputs": [
    {
     "data": {
      "text/plain": [
       "<re.Match object; span=(0, 3), match='abc'>"
      ]
     },
     "execution_count": 54,
     "metadata": {},
     "output_type": "execute_result"
    }
   ],
   "source": [
    "r.match(\"abckkkk\")"
   ]
  },
  {
   "cell_type": "markdown",
   "id": "e09877cf",
   "metadata": {},
   "source": [
    "**re.split()**\n",
    "<br>입력된 정규 표현식을 기준으로 문자열들을 분리하여 리스트로 리턴한다."
   ]
  },
  {
   "cell_type": "code",
   "execution_count": 55,
   "id": "c1518dda",
   "metadata": {},
   "outputs": [
    {
     "data": {
      "text/plain": [
       "['사과', '딸기', '수박', '메론', '바나나']"
      ]
     },
     "execution_count": 55,
     "metadata": {},
     "output_type": "execute_result"
    }
   ],
   "source": [
    "# 공백 기준 분리\n",
    "text = \"사과 딸기 수박 메론 바나나\"\n",
    "re.split(\" \", text)"
   ]
  },
  {
   "cell_type": "code",
   "execution_count": 56,
   "id": "07eba3f7",
   "metadata": {},
   "outputs": [
    {
     "data": {
      "text/plain": [
       "['사과', '딸기', '수박', '메론', '바나나', '']"
      ]
     },
     "execution_count": 56,
     "metadata": {},
     "output_type": "execute_result"
    }
   ],
   "source": [
    "#줄바꿈 기준 분리\n",
    "text = \"\"\"사과\n",
    "딸기\n",
    "수박\n",
    "메론\n",
    "바나나\n",
    "\"\"\"\n",
    "\n",
    "re.split(\"\\n\", text)"
   ]
  },
  {
   "cell_type": "code",
   "execution_count": 57,
   "id": "6efdb887",
   "metadata": {
    "scrolled": true
   },
   "outputs": [
    {
     "data": {
      "text/plain": [
       "['사과', '딸기', '수박', '메론', '바나나']"
      ]
     },
     "execution_count": 57,
     "metadata": {},
     "output_type": "execute_result"
    }
   ],
   "source": [
    "text = \"사과+딸기+수박+메론+바나나\"\n",
    "\n",
    "re.split(\"\\+\", text)"
   ]
  },
  {
   "cell_type": "markdown",
   "id": "08e24ffc",
   "metadata": {},
   "source": [
    "**re.findall()**\n",
    "<br> 정규표현식에 매치되는 모든 문자열들을 리스트로 리턴한다. 매치되는 문자열이 없다면 빈 리스트로 리턴한다. 임의의 텍스트에 정규표현식으로 숫자를 의미하는 규칙으로 findall()을 수행하면 전체 텍스트로부터 숫자만 찾아내서 리스트로 리턴한다"
   ]
  },
  {
   "cell_type": "code",
   "execution_count": 58,
   "id": "08116440",
   "metadata": {},
   "outputs": [
    {
     "data": {
      "text/plain": [
       "['010', '1234', '1234', '30']"
      ]
     },
     "execution_count": 58,
     "metadata": {},
     "output_type": "execute_result"
    }
   ],
   "source": [
    "text = \"\"\"이름: 김철수\n",
    "전화번호 : 010 - 1234 - 1234\n",
    "나이 : 30\n",
    "성별 : 남\"\"\"\n",
    "\n",
    "re.findall(\"\\d+\", text)"
   ]
  },
  {
   "cell_type": "code",
   "execution_count": 59,
   "id": "4ac2eb6e",
   "metadata": {},
   "outputs": [
    {
     "data": {
      "text/plain": [
       "[]"
      ]
     },
     "execution_count": 59,
     "metadata": {},
     "output_type": "execute_result"
    }
   ],
   "source": [
    "re.findall(\"\\d+\", \"문자열입니다.\")"
   ]
  },
  {
   "cell_type": "markdown",
   "id": "cb52659d",
   "metadata": {},
   "source": [
    "**re.sub()**<br>\n",
    "정규표현식 패턴과 일치하는 문자열을 찾아 다른 문자열로 대체할 수 있다. 데이터 정제 작업에 많이 사용된다. 제거하고 싶은 부분이 있다면 공백으로 처리하는 등의 용도로 사용 가능하다."
   ]
  },
  {
   "cell_type": "code",
   "execution_count": 60,
   "id": "b57718b6",
   "metadata": {
    "scrolled": true
   },
   "outputs": [
    {
     "name": "stdout",
     "output_type": "stream",
     "text": [
      "Regular expression   A regular expression  regex or regexp     sometimes called a rational expression        is  in theoretical computer science and formal language theory  a sequence of characters that define a search pattern \n"
     ]
    }
   ],
   "source": [
    "text = \"Regular expression : A regular expression, regex or regexp[1] (sometimes called a rational expression)[2][3] is, in theoretical computer science and formal language theory, a sequence of characters that define a search pattern.\"\n",
    "\n",
    "preprocessed_text = re.sub('[^a-zA-Z]', ' ', text)\n",
    "print(preprocessed_text)"
   ]
  },
  {
   "cell_type": "markdown",
   "id": "45a835e4",
   "metadata": {},
   "source": [
    "#### 정규표현식 텍스트 전처리 예제"
   ]
  },
  {
   "cell_type": "code",
   "execution_count": 61,
   "id": "72e84ba9",
   "metadata": {},
   "outputs": [],
   "source": [
    "text = \"\"\"100 John   PROF\n",
    "101 James   STUD\n",
    "102 Mac   STUD\"\"\""
   ]
  },
  {
   "cell_type": "code",
   "execution_count": 62,
   "id": "326b0e58",
   "metadata": {},
   "outputs": [
    {
     "data": {
      "text/plain": [
       "['100', 'John', 'PROF', '101', 'James', 'STUD', '102', 'Mac', 'STUD']"
      ]
     },
     "execution_count": 62,
     "metadata": {},
     "output_type": "execute_result"
    }
   ],
   "source": [
    "# \\s+는 공백을 찾아내는 정규표현식\n",
    "# 최소 한개 이상의 공백인 패턴을 찾아낸다\n",
    "re.split(\"\\s+\", text)"
   ]
  },
  {
   "cell_type": "code",
   "execution_count": 63,
   "id": "541c1d43",
   "metadata": {},
   "outputs": [
    {
     "data": {
      "text/plain": [
       "['100', '101', '102']"
      ]
     },
     "execution_count": 63,
     "metadata": {},
     "output_type": "execute_result"
    }
   ],
   "source": [
    "re.findall(\"\\d+\", text)"
   ]
  },
  {
   "cell_type": "code",
   "execution_count": 64,
   "id": "13387a2f",
   "metadata": {},
   "outputs": [
    {
     "data": {
      "text/plain": [
       "['J', 'P', 'R', 'O', 'F', 'J', 'S', 'T', 'U', 'D', 'M', 'S', 'T', 'U', 'D']"
      ]
     },
     "execution_count": 64,
     "metadata": {},
     "output_type": "execute_result"
    }
   ],
   "source": [
    "re.findall(\"[A-Z]\", text)"
   ]
  },
  {
   "cell_type": "code",
   "execution_count": 65,
   "id": "ff02bcc4",
   "metadata": {},
   "outputs": [
    {
     "data": {
      "text/plain": [
       "['PROF', 'STUD', 'STUD']"
      ]
     },
     "execution_count": 65,
     "metadata": {},
     "output_type": "execute_result"
    }
   ],
   "source": [
    "#대문자가 연속 4번 나오는 경우\n",
    "re.findall(\"[A-Z]{4}\", text)"
   ]
  },
  {
   "cell_type": "code",
   "execution_count": 66,
   "id": "db7c68dd",
   "metadata": {},
   "outputs": [
    {
     "data": {
      "text/plain": [
       "['John', 'James', 'Mac']"
      ]
     },
     "execution_count": 66,
     "metadata": {},
     "output_type": "execute_result"
    }
   ],
   "source": [
    "#처음 대문자가 등장한 후 소문자가 여러번 등장하는 경우\n",
    "re.findall(\"[A-Z][a-z]+\", text)"
   ]
  },
  {
   "cell_type": "markdown",
   "id": "05b90689",
   "metadata": {},
   "source": [
    "#### 정규 표현식을 이용한 토큰화<br>\n",
    "NLTK에서는 정규표현식을 이용한 RegexpTokenizer를 지원한다. "
   ]
  },
  {
   "cell_type": "code",
   "execution_count": 67,
   "id": "1a1bd071",
   "metadata": {},
   "outputs": [
    {
     "name": "stdout",
     "output_type": "stream",
     "text": [
      "['Don', 't', 'be', 'fooled', 'by', 'the', 'dark', 'sounding', 'name', 'Mr', 'Jone', 's', 'Orphanage', 'is', 'as', 'cheery', 'as', 'cheery', 'goes', 'for', 'a', 'pastry', 'shop']\n",
      "[\"Don't\", 'be', 'fooled', 'by', 'the', 'dark', 'sounding', 'name,', 'Mr.', \"Jone's\", 'Orphanage', 'is', 'as', 'cheery', 'as', 'cheery', 'goes', 'for', 'a', 'pastry', 'shop']\n"
     ]
    }
   ],
   "source": [
    "from nltk.tokenize import RegexpTokenizer\n",
    "\n",
    "text = \"Don't be fooled by the dark sounding name, Mr. Jone's Orphanage is as cheery as cheery goes for a pastry shop\"\n",
    "\n",
    "# 문자 또는 숫자가 1개 이상인 경우 의미\n",
    "tokenizer1 = RegexpTokenizer(\"[\\w]+\")\n",
    "\n",
    "# 공백을 기준으로 토큰화\n",
    "tokenizer2 = RegexpTokenizer(\"\\s+\", gaps=True)\n",
    "\n",
    "print(tokenizer1.tokenize(text))\n",
    "print(tokenizer2.tokenize(text))"
   ]
  },
  {
   "cell_type": "markdown",
   "id": "a569ed34",
   "metadata": {},
   "source": [
    "-------------------"
   ]
  },
  {
   "cell_type": "markdown",
   "id": "507c9714",
   "metadata": {},
   "source": [
    "### 정수 인코딩(Integer Encoding)\n",
    "    - 텍스트를 정수로 맵핑시키는 전처리 작업"
   ]
  },
  {
   "cell_type": "markdown",
   "id": "6f91fe5c",
   "metadata": {},
   "source": [
    "**dictionary 사용하기**<br>\n",
    "    - 단어를 정수로 부여하는 방법 중 하나인 단어를 빈도 수 순으로 정렬한 단어 집합(vocabulary)을 만들고, 빈도수가 높은 순서대로 차례로 낮은 숫자부터 부여하는 방법"
   ]
  },
  {
   "cell_type": "code",
   "execution_count": 68,
   "id": "daabd023",
   "metadata": {},
   "outputs": [],
   "source": [
    "from nltk.tokenize import sent_tokenize\n",
    "from nltk.tokenize import word_tokenize\n",
    "from nltk.corpus import stopwords"
   ]
  },
  {
   "cell_type": "code",
   "execution_count": 69,
   "id": "f31c79c1",
   "metadata": {},
   "outputs": [],
   "source": [
    "raw_text = \"A barber is a person. a barber is good person. a barber is huge person. he Knew A Secret! The Secret He Kept is huge secret. Huge secret. His barber kept his word. a barber kept his word. His barber kept his secret. But keeping and keeping such a huge secret to himself was driving the barber crazy. the barber went up a huge mountain.\""
   ]
  },
  {
   "cell_type": "code",
   "execution_count": 70,
   "id": "d541f6b6",
   "metadata": {},
   "outputs": [
    {
     "name": "stdout",
     "output_type": "stream",
     "text": [
      "['A barber is a person.', 'a barber is good person.', 'a barber is huge person.', 'he Knew A Secret!', 'The Secret He Kept is huge secret.', 'Huge secret.', 'His barber kept his word.', 'a barber kept his word.', 'His barber kept his secret.', 'But keeping and keeping such a huge secret to himself was driving the barber crazy.', 'the barber went up a huge mountain.']\n"
     ]
    }
   ],
   "source": [
    "sentence = sent_tokenize(raw_text)\n",
    "print(sentence)"
   ]
  },
  {
   "cell_type": "code",
   "execution_count": 71,
   "id": "7c0e92de",
   "metadata": {},
   "outputs": [
    {
     "name": "stdout",
     "output_type": "stream",
     "text": [
      "[['barber', 'person'], ['barber', 'good', 'person'], ['barber', 'huge', 'person'], ['knew', 'secret'], ['secret', 'kept', 'huge', 'secret'], ['huge', 'secret'], ['barber', 'kept', 'word'], ['barber', 'kept', 'word'], ['barber', 'kept', 'secret'], ['keeping', 'keeping', 'huge', 'secret', 'driving', 'barber', 'crazy'], ['barber', 'went', 'huge', 'mountain']]\n"
     ]
    }
   ],
   "source": [
    "vocab = {}\n",
    "preprocessed_sentence = []\n",
    "stop_words = set(stopwords.words('english'))\n",
    "\n",
    "for sent in sentence:\n",
    "    tokenized_sentence = word_tokenize(sent)\n",
    "    result = []\n",
    "    for word in tokenized_sentence:\n",
    "        #소문자 변환\n",
    "        word = word.lower()\n",
    "        \n",
    "        #불용어 제거\n",
    "        if word not in stop_words:\n",
    "            #단어의 길이가 2이하인 경우 단어 제거\n",
    "            if len(word) > 2:\n",
    "                result.append(word)\n",
    "                if word not in vocab:\n",
    "                    vocab[word] = 0\n",
    "                vocab[word] += 1\n",
    "    preprocessed_sentence.append(result)\n",
    "\n",
    "print(preprocessed_sentence)"
   ]
  },
  {
   "cell_type": "code",
   "execution_count": 72,
   "id": "51514ada",
   "metadata": {},
   "outputs": [
    {
     "name": "stdout",
     "output_type": "stream",
     "text": [
      "단어 집합: {'barber': 8, 'person': 3, 'good': 1, 'huge': 5, 'knew': 1, 'secret': 6, 'kept': 4, 'word': 2, 'keeping': 2, 'driving': 1, 'crazy': 1, 'went': 1, 'mountain': 1}\n"
     ]
    }
   ],
   "source": [
    "print(\"단어 집합:\", vocab)"
   ]
  },
  {
   "cell_type": "code",
   "execution_count": 73,
   "id": "b7abc4ac",
   "metadata": {},
   "outputs": [
    {
     "name": "stdout",
     "output_type": "stream",
     "text": [
      "8\n"
     ]
    }
   ],
   "source": [
    "# 'barber'라는 단어의 빈도수\n",
    "print(vocab[\"barber\"])"
   ]
  },
  {
   "cell_type": "code",
   "execution_count": 74,
   "id": "849a534e",
   "metadata": {
    "scrolled": false
   },
   "outputs": [
    {
     "name": "stdout",
     "output_type": "stream",
     "text": [
      "[('barber', 8), ('secret', 6), ('huge', 5), ('kept', 4), ('person', 3), ('word', 2), ('keeping', 2), ('good', 1), ('knew', 1), ('driving', 1), ('crazy', 1), ('went', 1), ('mountain', 1)]\n"
     ]
    }
   ],
   "source": [
    "vocab_sorted = sorted(vocab.items(), key = lambda x:x[1], reverse= True)\n",
    "print(vocab_sorted)"
   ]
  },
  {
   "cell_type": "code",
   "execution_count": 75,
   "id": "795fef45",
   "metadata": {},
   "outputs": [
    {
     "name": "stdout",
     "output_type": "stream",
     "text": [
      "{'barber': 1, 'secret': 2, 'huge': 3, 'kept': 4, 'person': 5, 'word': 6, 'keeping': 7}\n"
     ]
    }
   ],
   "source": [
    "# 빈도수가 높은 순으로 인덱스를 달아준다. \n",
    "word_to_index = {}\n",
    "i = 0\n",
    "for (word, frequency) in vocab_sorted:\n",
    "    if frequency > 1:\n",
    "        i = i + 1\n",
    "        word_to_index[word] = i\n",
    "        \n",
    "print(word_to_index)"
   ]
  },
  {
   "cell_type": "code",
   "execution_count": 76,
   "id": "b5899da1",
   "metadata": {
    "scrolled": true
   },
   "outputs": [
    {
     "name": "stdout",
     "output_type": "stream",
     "text": [
      "{'barber': 1, 'secret': 2, 'huge': 3, 'kept': 4, 'person': 5}\n"
     ]
    }
   ],
   "source": [
    "# 빈도수가 높은 n개의 단어만을 사용하고 싶을 때\n",
    "\n",
    "vocab_size = 5\n",
    "\n",
    "# 인덱스가 5 초과인 단어 제거\n",
    "word_frequency = [word for word,\n",
    "                  index in word_to_index.items() if index >= vocab_size + 1]\n",
    "\n",
    "# 해당 단어에 대한 인덱스 정보 삭제\n",
    "for w in word_frequency:\n",
    "    del word_to_index[w]\n",
    "    \n",
    "print(word_to_index)"
   ]
  },
  {
   "cell_type": "markdown",
   "id": "447131d9",
   "metadata": {},
   "source": [
    "    - word_to_index를 사용하여 단어 토큰화가 된 상태로 저장된 sentence에 있는 각 단어를 정수로 바꾸는 작업을 할 것 이다. \n",
    "    - 단어 집합에 존재하지 않는 단어(OOV, Out Of Vocabulary)들을 word_to_index란에 OOV를 추가하고, 단어집합에 존재하지 않는 단어들을 OOV의 인덱스로 인코딩한다."
   ]
  },
  {
   "cell_type": "code",
   "execution_count": 77,
   "id": "b6f82c6e",
   "metadata": {},
   "outputs": [
    {
     "name": "stdout",
     "output_type": "stream",
     "text": [
      "{'barber': 1, 'secret': 2, 'huge': 3, 'kept': 4, 'person': 5, 'OOV': 6}\n"
     ]
    }
   ],
   "source": [
    "word_to_index[\"OOV\"] = len(word_to_index) + 1\n",
    "print(word_to_index)"
   ]
  },
  {
   "cell_type": "code",
   "execution_count": 78,
   "id": "247e35c6",
   "metadata": {},
   "outputs": [
    {
     "name": "stdout",
     "output_type": "stream",
     "text": [
      "[[1, 5], [1, 6, 5], [1, 3, 5], [6, 2], [2, 4, 3, 2], [3, 2], [1, 4, 6], [1, 4, 6], [1, 4, 2], [6, 6, 3, 2, 6, 1, 6], [1, 6, 3, 6]]\n"
     ]
    }
   ],
   "source": [
    "encoded_sentences = []\n",
    "\n",
    "for sentence in preprocessed_sentence:\n",
    "    encoded_sentence = []\n",
    "    for word in sentence:\n",
    "        try:\n",
    "            #단어 집합에 있는 단어라면 해당 단어의 정수를 리턴\n",
    "            encoded_sentence.append(word_to_index[word])\n",
    "        except:\n",
    "            #단어 집합에 없다면 OOV의 정수를 리턴\n",
    "            encoded_sentence.append(word_to_index[\"OOV\"])\n",
    "    encoded_sentences.append(encoded_sentence)\n",
    "\n",
    "print(encoded_sentences)"
   ]
  },
  {
   "cell_type": "markdown",
   "id": "0562399c",
   "metadata": {},
   "source": [
    "    - 지금까지 dictionary 자료형으로 정수 인코딩을 진행하였다. \n",
    "    - 쉽게 하기 위해서 Counter, FreqDist, enumerate를 사용하거나, 케라스 토크나이저를 사용하는 것을 권장한다."
   ]
  },
  {
   "cell_type": "markdown",
   "id": "bca0aa2f",
   "metadata": {},
   "source": [
    "**Counter 사용하기**"
   ]
  },
  {
   "cell_type": "code",
   "execution_count": 79,
   "id": "dd72b438",
   "metadata": {},
   "outputs": [],
   "source": [
    "from collections import Counter"
   ]
  },
  {
   "cell_type": "code",
   "execution_count": 80,
   "id": "3e5511d5",
   "metadata": {},
   "outputs": [
    {
     "name": "stdout",
     "output_type": "stream",
     "text": [
      "[['barber', 'person'], ['barber', 'good', 'person'], ['barber', 'huge', 'person'], ['knew', 'secret'], ['secret', 'kept', 'huge', 'secret'], ['huge', 'secret'], ['barber', 'kept', 'word'], ['barber', 'kept', 'word'], ['barber', 'kept', 'secret'], ['keeping', 'keeping', 'huge', 'secret', 'driving', 'barber', 'crazy'], ['barber', 'went', 'huge', 'mountain']]\n"
     ]
    }
   ],
   "source": [
    "print(preprocessed_sentence)"
   ]
  },
  {
   "cell_type": "markdown",
   "id": "82425cd9",
   "metadata": {},
   "source": [
    "    -단어 집합을 만들기 위해서 sentences에서 문장 경계인[,]을 제거하고 단어들을 하나의 리스트로 만든다."
   ]
  },
  {
   "cell_type": "code",
   "execution_count": 81,
   "id": "0dbedb7e",
   "metadata": {},
   "outputs": [
    {
     "name": "stdout",
     "output_type": "stream",
     "text": [
      "['barber', 'person', 'barber', 'good', 'person', 'barber', 'huge', 'person', 'knew', 'secret', 'secret', 'kept', 'huge', 'secret', 'huge', 'secret', 'barber', 'kept', 'word', 'barber', 'kept', 'word', 'barber', 'kept', 'secret', 'keeping', 'keeping', 'huge', 'secret', 'driving', 'barber', 'crazy', 'barber', 'went', 'huge', 'mountain']\n"
     ]
    }
   ],
   "source": [
    "# words = np.hstack(preprocessed_sentences)으로 수행가능\n",
    "all_words_list = sum(preprocessed_sentence, [])\n",
    "print(all_words_list)"
   ]
  },
  {
   "cell_type": "markdown",
   "id": "305c2b0f",
   "metadata": {},
   "source": [
    "    - 파이썬의 Counter()의 입력으로 사용하면 중복을 제거하고 단어의 빈도수를 기록한다"
   ]
  },
  {
   "cell_type": "code",
   "execution_count": 82,
   "id": "3e860227",
   "metadata": {},
   "outputs": [
    {
     "name": "stdout",
     "output_type": "stream",
     "text": [
      "Counter({'barber': 8, 'secret': 6, 'huge': 5, 'kept': 4, 'person': 3, 'word': 2, 'keeping': 2, 'good': 1, 'knew': 1, 'driving': 1, 'crazy': 1, 'went': 1, 'mountain': 1})\n"
     ]
    }
   ],
   "source": [
    "vocab = Counter(all_words_list)\n",
    "print(vocab)"
   ]
  },
  {
   "cell_type": "code",
   "execution_count": 83,
   "id": "e9e8d749",
   "metadata": {},
   "outputs": [
    {
     "name": "stdout",
     "output_type": "stream",
     "text": [
      "8\n"
     ]
    }
   ],
   "source": [
    "print(vocab[\"barber\"])"
   ]
  },
  {
   "cell_type": "code",
   "execution_count": 84,
   "id": "6481d537",
   "metadata": {},
   "outputs": [
    {
     "name": "stdout",
     "output_type": "stream",
     "text": [
      "[('barber', 8), ('secret', 6), ('huge', 5), ('kept', 4), ('person', 3)]\n"
     ]
    }
   ],
   "source": [
    "vocab_size = 5\n",
    "vocab = vocab.most_common(vocab_size)\n",
    "\n",
    "print(vocab)"
   ]
  },
  {
   "cell_type": "code",
   "execution_count": 85,
   "id": "9a2cc4a0",
   "metadata": {},
   "outputs": [
    {
     "name": "stdout",
     "output_type": "stream",
     "text": [
      "{'barber': 1, 'secret': 2, 'huge': 3, 'kept': 4, 'person': 5}\n"
     ]
    }
   ],
   "source": [
    "word_to_index = {}\n",
    "\n",
    "i = 0\n",
    "for (word, frequency) in vocab:\n",
    "    i = i + 1\n",
    "    word_to_index[word] = i\n",
    "    \n",
    "print(word_to_index)"
   ]
  },
  {
   "cell_type": "markdown",
   "id": "1cc48702",
   "metadata": {},
   "source": [
    "**NLTK의 FreqDist 사용하기**\n",
    "<br>빈도수 계산 도구인 FreqDist를 사용하여 Counter()랑 같은 방법으로 사용한다. "
   ]
  },
  {
   "cell_type": "code",
   "execution_count": 86,
   "id": "b1e524cb",
   "metadata": {},
   "outputs": [],
   "source": [
    "from nltk import FreqDist\n",
    "import numpy as np"
   ]
  },
  {
   "cell_type": "code",
   "execution_count": 87,
   "id": "15565578",
   "metadata": {},
   "outputs": [],
   "source": [
    "# np.hstack으로 문장 구분 제거\n",
    "vocab = FreqDist(np.hstack(preprocessed_sentence))"
   ]
  },
  {
   "cell_type": "code",
   "execution_count": 88,
   "id": "3d5b9f72",
   "metadata": {},
   "outputs": [
    {
     "name": "stdout",
     "output_type": "stream",
     "text": [
      "8\n"
     ]
    }
   ],
   "source": [
    "print(vocab[\"barber\"])"
   ]
  },
  {
   "cell_type": "code",
   "execution_count": 89,
   "id": "7e4510ea",
   "metadata": {
    "scrolled": true
   },
   "outputs": [
    {
     "name": "stdout",
     "output_type": "stream",
     "text": [
      "[('barber', 8), ('secret', 6), ('huge', 5), ('kept', 4), ('person', 3)]\n"
     ]
    }
   ],
   "source": [
    "vocab_size = 5\n",
    "vocab = vocab.most_common(vocab_size)\n",
    "\n",
    "print(vocab)"
   ]
  },
  {
   "cell_type": "code",
   "execution_count": 90,
   "id": "1bd01640",
   "metadata": {
    "scrolled": true
   },
   "outputs": [
    {
     "name": "stdout",
     "output_type": "stream",
     "text": [
      "{'barber': 1, 'secret': 2, 'huge': 3, 'kept': 4, 'person': 5}\n"
     ]
    }
   ],
   "source": [
    "word_to_index = {word[0] : index + 1 for index, word in enumerate(vocab)}\n",
    "\n",
    "print(word_to_index)"
   ]
  },
  {
   "cell_type": "markdown",
   "id": "d434e81b",
   "metadata": {},
   "source": [
    "**enumerate**는 순서가 있는 자료형(list, set, tuple, dictionary, string)을 입력으로 받아 인덱스를 순차적으로 함께 리턴한다는 특징이 있다."
   ]
  },
  {
   "cell_type": "markdown",
   "id": "dda44c9f",
   "metadata": {},
   "source": [
    "#### 케라스(keras)의 텍스트 전처리"
   ]
  },
  {
   "cell_type": "code",
   "execution_count": 91,
   "id": "76d7f0d4",
   "metadata": {},
   "outputs": [],
   "source": [
    "from tensorflow.keras.preprocessing.text import Tokenizer"
   ]
  },
  {
   "cell_type": "code",
   "execution_count": 92,
   "id": "15444b1d",
   "metadata": {},
   "outputs": [],
   "source": [
    "preprocessed_sentences = [['barber', 'person'], ['barber', 'good', 'person'], ['barber', 'huge', 'person'], ['knew', 'secret'], ['secret', 'kept', 'huge', 'secret'], ['huge', 'secret'], ['barber', 'kept', 'word'], ['barber', 'kept', 'word'], ['barber', 'kept', 'secret'], ['keeping', 'keeping', 'huge', 'secret', 'driving', 'barber', 'crazy'], ['barber', 'went', 'huge', 'mountain']]"
   ]
  },
  {
   "cell_type": "code",
   "execution_count": 93,
   "id": "24b52519",
   "metadata": {},
   "outputs": [],
   "source": [
    "tokenizer = Tokenizer()\n",
    "\n",
    "# fit_on_texts는 입력한 텍스트로부터 단어 빈도수가 높은 순으로 낮은 정수 인덱스를 부여\n",
    "tokenizer.fit_on_texts(preprocessed_sentences)"
   ]
  },
  {
   "cell_type": "code",
   "execution_count": 94,
   "id": "0e66251b",
   "metadata": {
    "scrolled": true
   },
   "outputs": [
    {
     "name": "stdout",
     "output_type": "stream",
     "text": [
      "{'barber': 1, 'secret': 2, 'huge': 3, 'kept': 4, 'person': 5, 'word': 6, 'keeping': 7, 'good': 8, 'knew': 9, 'driving': 10, 'crazy': 11, 'went': 12, 'mountain': 13}\n"
     ]
    }
   ],
   "source": [
    "print(tokenizer.word_index)"
   ]
  },
  {
   "cell_type": "code",
   "execution_count": 95,
   "id": "b1068af8",
   "metadata": {},
   "outputs": [
    {
     "name": "stdout",
     "output_type": "stream",
     "text": [
      "OrderedDict([('barber', 8), ('person', 3), ('good', 1), ('huge', 5), ('knew', 1), ('secret', 6), ('kept', 4), ('word', 2), ('keeping', 2), ('driving', 1), ('crazy', 1), ('went', 1), ('mountain', 1)])\n"
     ]
    }
   ],
   "source": [
    "print(tokenizer.word_counts)"
   ]
  },
  {
   "cell_type": "code",
   "execution_count": 96,
   "id": "f94e046d",
   "metadata": {
    "scrolled": true
   },
   "outputs": [
    {
     "name": "stdout",
     "output_type": "stream",
     "text": [
      "[[1, 5], [1, 8, 5], [1, 3, 5], [9, 2], [2, 4, 3, 2], [3, 2], [1, 4, 6], [1, 4, 6], [1, 4, 2], [7, 7, 3, 2, 10, 1, 11], [1, 12, 3, 13]]\n"
     ]
    }
   ],
   "source": [
    "print(tokenizer.texts_to_sequences(preprocessed_sentence))"
   ]
  },
  {
   "cell_type": "markdown",
   "id": "bbdc4934",
   "metadata": {},
   "source": [
    "상위 5개의 단어만을 사용하겠다고 선언"
   ]
  },
  {
   "cell_type": "code",
   "execution_count": 97,
   "id": "de7959bb",
   "metadata": {},
   "outputs": [],
   "source": [
    "vocab_size = 5\n",
    "\n",
    "tokenizer = Tokenizer(num_words= vocab_size + 1) #상위 5개만 사용\n",
    "tokenizer.fit_on_texts(preprocessed_sentences)"
   ]
  },
  {
   "cell_type": "markdown",
   "id": "c8f661cf",
   "metadata": {},
   "source": [
    "word_index와 word_count를 사용할때는 적용이 안된 것을 확인할 수 있다"
   ]
  },
  {
   "cell_type": "code",
   "execution_count": 98,
   "id": "b25cfdea",
   "metadata": {
    "scrolled": true
   },
   "outputs": [
    {
     "name": "stdout",
     "output_type": "stream",
     "text": [
      "{'barber': 1, 'secret': 2, 'huge': 3, 'kept': 4, 'person': 5, 'word': 6, 'keeping': 7, 'good': 8, 'knew': 9, 'driving': 10, 'crazy': 11, 'went': 12, 'mountain': 13}\n"
     ]
    }
   ],
   "source": [
    "print(tokenizer.word_index)"
   ]
  },
  {
   "cell_type": "code",
   "execution_count": 99,
   "id": "a3bf75d1",
   "metadata": {},
   "outputs": [
    {
     "name": "stdout",
     "output_type": "stream",
     "text": [
      "OrderedDict([('barber', 8), ('person', 3), ('good', 1), ('huge', 5), ('knew', 1), ('secret', 6), ('kept', 4), ('word', 2), ('keeping', 2), ('driving', 1), ('crazy', 1), ('went', 1), ('mountain', 1)])\n"
     ]
    }
   ],
   "source": [
    "print(tokenizer.word_counts)"
   ]
  },
  {
   "cell_type": "code",
   "execution_count": 100,
   "id": "59ff3b6c",
   "metadata": {
    "scrolled": true
   },
   "outputs": [
    {
     "name": "stdout",
     "output_type": "stream",
     "text": [
      "[[1, 5], [1, 5], [1, 3, 5], [2], [2, 4, 3, 2], [3, 2], [1, 4], [1, 4], [1, 4, 2], [3, 2, 1], [1, 3]]\n"
     ]
    }
   ],
   "source": [
    "print(tokenizer.texts_to_sequences(preprocessed_sentences))"
   ]
  },
  {
   "cell_type": "markdown",
   "id": "b4b59846",
   "metadata": {},
   "source": [
    "    - keras 토크나이저는 기본적으로 단어 집합에 없는 단어인 oov에 대해서는 단어를 정수로 바꾸는 과정에서 아예 단어를 제거한다는 특징이 있다. \n",
    "    - 단어에 없는 단어들은 OOV로 간주하여 보존하고 싶다면 oov_token을 사용하면 된다"
   ]
  },
  {
   "cell_type": "code",
   "execution_count": 101,
   "id": "004d7c1c",
   "metadata": {},
   "outputs": [],
   "source": [
    "# 숫자 0과 OOV를 고려해서 단어 집합의 크기는 +2\n",
    "vocab_size = 5\n",
    "tokenizer = Tokenizer(num_words= vocab_size + 2, oov_token=\"OOV\")\n",
    "tokenizer.fit_on_texts(preprocessed_sentences)"
   ]
  },
  {
   "cell_type": "code",
   "execution_count": 102,
   "id": "e30da133",
   "metadata": {},
   "outputs": [
    {
     "name": "stdout",
     "output_type": "stream",
     "text": [
      "단어의 인덱스: 1\n"
     ]
    }
   ],
   "source": [
    "print('단어의 인덱스: {}'.format(tokenizer.word_index['OOV']))"
   ]
  },
  {
   "cell_type": "code",
   "execution_count": 103,
   "id": "ef859c10",
   "metadata": {},
   "outputs": [
    {
     "name": "stdout",
     "output_type": "stream",
     "text": [
      "[[2, 6], [2, 1, 6], [2, 4, 6], [1, 3], [3, 5, 4, 3], [4, 3], [2, 5, 1], [2, 5, 1], [2, 5, 3], [1, 1, 4, 3, 1, 2, 1], [2, 1, 4, 1]]\n"
     ]
    }
   ],
   "source": [
    "print(tokenizer.texts_to_sequences(preprocessed_sentences))"
   ]
  },
  {
   "cell_type": "markdown",
   "id": "386d39f3",
   "metadata": {},
   "source": [
    "빈도수 상위 5개의 단어는 인덱스 2 ~ 6을 사용하였으며, OOV는 인덱스 1을 사용하였다."
   ]
  },
  {
   "cell_type": "markdown",
   "id": "3f202924",
   "metadata": {},
   "source": [
    "---------------"
   ]
  },
  {
   "cell_type": "code",
   "execution_count": 104,
   "id": "d22304be",
   "metadata": {},
   "outputs": [],
   "source": [
    "import numpy as np\n",
    "from tensorflow.keras.preprocessing.text import Tokenizer"
   ]
  },
  {
   "cell_type": "code",
   "execution_count": 105,
   "id": "0be75e11",
   "metadata": {},
   "outputs": [],
   "source": [
    "preprocessed_sentences = [['barber', 'person'], ['barber', 'good', 'person'], \n",
    "                          ['barber', 'huge', 'person'], ['knew', 'secret'], \n",
    "                          ['secret', 'kept', 'huge', 'secret'], ['huge', 'secret'], \n",
    "                          ['barber', 'kept', 'word'], ['barber', 'kept', 'word'], \n",
    "                          ['barber', 'kept', 'secret'], ['keeping', 'keeping', 'huge', 'secret', 'driving', 'barber', 'crazy'], \n",
    "                          ['barber', 'went', 'huge', 'mountain']]"
   ]
  },
  {
   "cell_type": "code",
   "execution_count": 106,
   "id": "ee1e25a4",
   "metadata": {},
   "outputs": [
    {
     "name": "stdout",
     "output_type": "stream",
     "text": [
      "[[1, 5], [1, 8, 5], [1, 3, 5], [9, 2], [2, 4, 3, 2], [3, 2], [1, 4, 6], [1, 4, 6], [1, 4, 2], [7, 7, 3, 2, 10, 1, 11], [1, 12, 3, 13]]\n"
     ]
    }
   ],
   "source": [
    "tokenizer = Tokenizer()\n",
    "tokenizer.fit_on_texts(preprocessed_sentences)\n",
    "encoded = tokenizer.texts_to_sequences(preprocessed_sentences)\n",
    "print(encoded)"
   ]
  },
  {
   "cell_type": "code",
   "execution_count": 107,
   "id": "855716fa",
   "metadata": {},
   "outputs": [
    {
     "name": "stdout",
     "output_type": "stream",
     "text": [
      "최대 길이: 7\n"
     ]
    }
   ],
   "source": [
    "max_len = max(len(item) for item in encoded)\n",
    "print('최대 길이:', max_len)"
   ]
  },
  {
   "cell_type": "markdown",
   "id": "6cc68012",
   "metadata": {},
   "source": [
    "    - 가상의 단어 'PAD'가 있다고 가정하고, 이 단어는 0번 단어라고 정의한다. 길이가 짧은 문장에는 0을 채워 길이를 7로 맞추어 준다."
   ]
  },
  {
   "cell_type": "code",
   "execution_count": 108,
   "id": "e2d105ce",
   "metadata": {},
   "outputs": [
    {
     "data": {
      "text/plain": [
       "array([[ 1,  5,  0,  0,  0,  0,  0],\n",
       "       [ 1,  8,  5,  0,  0,  0,  0],\n",
       "       [ 1,  3,  5,  0,  0,  0,  0],\n",
       "       [ 9,  2,  0,  0,  0,  0,  0],\n",
       "       [ 2,  4,  3,  2,  0,  0,  0],\n",
       "       [ 3,  2,  0,  0,  0,  0,  0],\n",
       "       [ 1,  4,  6,  0,  0,  0,  0],\n",
       "       [ 1,  4,  6,  0,  0,  0,  0],\n",
       "       [ 1,  4,  2,  0,  0,  0,  0],\n",
       "       [ 7,  7,  3,  2, 10,  1, 11],\n",
       "       [ 1, 12,  3, 13,  0,  0,  0]])"
      ]
     },
     "execution_count": 108,
     "metadata": {},
     "output_type": "execute_result"
    }
   ],
   "source": [
    "for sentence in encoded:\n",
    "    while len(sentence) < max_len:\n",
    "        sentence.append(0)\n",
    "\n",
    "padd_np = np.array(encoded)\n",
    "padd_np"
   ]
  },
  {
   "cell_type": "markdown",
   "id": "b1cdad1a",
   "metadata": {},
   "source": [
    "    - 0은 아무런 의미도 없는 단어이기 때문에 컴퓨터가 자연어 처리를 하는 과정에서 무시해줄 것이다. 이와 같이 데이터에 특정값을 채워서 데이터의 크기(shape)를 조정하는 것을 패딩(padding)이라고 하고 0을 사용하고 있다면 제로 패딩(zero padding)이라고 한다."
   ]
  },
  {
   "cell_type": "markdown",
   "id": "7e4bb678",
   "metadata": {},
   "source": [
    "**케라스 전처리 도구로 패딩하기**<br>\n",
    "keras에서는 이러한 패딩을 위해 pad_sequence()를 제공하고 있다."
   ]
  },
  {
   "cell_type": "code",
   "execution_count": 109,
   "id": "30c8b0c1",
   "metadata": {},
   "outputs": [],
   "source": [
    "from tensorflow.keras.preprocessing.sequence import pad_sequences"
   ]
  },
  {
   "cell_type": "code",
   "execution_count": 110,
   "id": "7321c54c",
   "metadata": {},
   "outputs": [
    {
     "name": "stdout",
     "output_type": "stream",
     "text": [
      "[[1, 5], [1, 8, 5], [1, 3, 5], [9, 2], [2, 4, 3, 2], [3, 2], [1, 4, 6], [1, 4, 6], [1, 4, 2], [7, 7, 3, 2, 10, 1, 11], [1, 12, 3, 13]]\n"
     ]
    }
   ],
   "source": [
    "encoded = tokenizer.texts_to_sequences(preprocessed_sentences)\n",
    "print(encoded)"
   ]
  },
  {
   "cell_type": "code",
   "execution_count": 111,
   "id": "54ae1871",
   "metadata": {},
   "outputs": [
    {
     "data": {
      "text/plain": [
       "array([[ 0,  0,  0,  0,  0,  1,  5],\n",
       "       [ 0,  0,  0,  0,  1,  8,  5],\n",
       "       [ 0,  0,  0,  0,  1,  3,  5],\n",
       "       [ 0,  0,  0,  0,  0,  9,  2],\n",
       "       [ 0,  0,  0,  2,  4,  3,  2],\n",
       "       [ 0,  0,  0,  0,  0,  3,  2],\n",
       "       [ 0,  0,  0,  0,  1,  4,  6],\n",
       "       [ 0,  0,  0,  0,  1,  4,  6],\n",
       "       [ 0,  0,  0,  0,  1,  4,  2],\n",
       "       [ 7,  7,  3,  2, 10,  1, 11],\n",
       "       [ 0,  0,  0,  1, 12,  3, 13]])"
      ]
     },
     "execution_count": 111,
     "metadata": {},
     "output_type": "execute_result"
    }
   ],
   "source": [
    "padded = pad_sequences(encoded)\n",
    "padded"
   ]
  },
  {
   "cell_type": "markdown",
   "id": "9b26f971",
   "metadata": {},
   "source": [
    "    - pad_sequences는 문자를 뒤에 0을 채우는 것이 아니라 앞에 0으로 채우기 때문에, 뒤에 0을 채우고 싶다면 인자로 padding='post'를 주면 된다"
   ]
  },
  {
   "cell_type": "code",
   "execution_count": 112,
   "id": "1a4070a6",
   "metadata": {},
   "outputs": [
    {
     "data": {
      "text/plain": [
       "array([[ 1,  5,  0,  0,  0,  0,  0],\n",
       "       [ 1,  8,  5,  0,  0,  0,  0],\n",
       "       [ 1,  3,  5,  0,  0,  0,  0],\n",
       "       [ 9,  2,  0,  0,  0,  0,  0],\n",
       "       [ 2,  4,  3,  2,  0,  0,  0],\n",
       "       [ 3,  2,  0,  0,  0,  0,  0],\n",
       "       [ 1,  4,  6,  0,  0,  0,  0],\n",
       "       [ 1,  4,  6,  0,  0,  0,  0],\n",
       "       [ 1,  4,  2,  0,  0,  0,  0],\n",
       "       [ 7,  7,  3,  2, 10,  1, 11],\n",
       "       [ 1, 12,  3, 13,  0,  0,  0]])"
      ]
     },
     "execution_count": 112,
     "metadata": {},
     "output_type": "execute_result"
    }
   ],
   "source": [
    "padd = pad_sequences(encoded, padding=\"post\")\n",
    "padd"
   ]
  },
  {
   "cell_type": "code",
   "execution_count": 113,
   "id": "c8ae16d0",
   "metadata": {},
   "outputs": [
    {
     "data": {
      "text/plain": [
       "True"
      ]
     },
     "execution_count": 113,
     "metadata": {},
     "output_type": "execute_result"
    }
   ],
   "source": [
    "(padd == padd_np).all()"
   ]
  },
  {
   "cell_type": "code",
   "execution_count": 114,
   "id": "2b5a71ce",
   "metadata": {},
   "outputs": [
    {
     "data": {
      "text/plain": [
       "array([[ 1,  5,  0,  0,  0],\n",
       "       [ 1,  8,  5,  0,  0],\n",
       "       [ 1,  3,  5,  0,  0],\n",
       "       [ 9,  2,  0,  0,  0],\n",
       "       [ 2,  4,  3,  2,  0],\n",
       "       [ 3,  2,  0,  0,  0],\n",
       "       [ 1,  4,  6,  0,  0],\n",
       "       [ 1,  4,  6,  0,  0],\n",
       "       [ 1,  4,  2,  0,  0],\n",
       "       [ 3,  2, 10,  1, 11],\n",
       "       [ 1, 12,  3, 13,  0]])"
      ]
     },
     "execution_count": 114,
     "metadata": {},
     "output_type": "execute_result"
    }
   ],
   "source": [
    "padd = pad_sequences(encoded, padding=\"post\", maxlen=5)\n",
    "padd"
   ]
  },
  {
   "cell_type": "markdown",
   "id": "cdb90492",
   "metadata": {},
   "source": [
    "    - maxlen의 값보다 긴 값이 있다면 데이터 손실이 일어난다. 만약 데이터가 손실될 경우 앞의 단어가 아닌 뒤의 단어가 삭제 되도록 하고 싶다면 truncating이라는 인자를 사용한다"
   ]
  },
  {
   "cell_type": "code",
   "execution_count": 115,
   "id": "bc177133",
   "metadata": {},
   "outputs": [
    {
     "data": {
      "text/plain": [
       "array([[ 1,  5,  0,  0,  0],\n",
       "       [ 1,  8,  5,  0,  0],\n",
       "       [ 1,  3,  5,  0,  0],\n",
       "       [ 9,  2,  0,  0,  0],\n",
       "       [ 2,  4,  3,  2,  0],\n",
       "       [ 3,  2,  0,  0,  0],\n",
       "       [ 1,  4,  6,  0,  0],\n",
       "       [ 1,  4,  6,  0,  0],\n",
       "       [ 1,  4,  2,  0,  0],\n",
       "       [ 7,  7,  3,  2, 10],\n",
       "       [ 1, 12,  3, 13,  0]])"
      ]
     },
     "execution_count": 115,
     "metadata": {},
     "output_type": "execute_result"
    }
   ],
   "source": [
    "padd = pad_sequences(encoded, padding=\"post\",truncating=\"post\", maxlen=5)\n",
    "padd"
   ]
  },
  {
   "cell_type": "markdown",
   "id": "931ecbf0",
   "metadata": {},
   "source": [
    "    - 숫자 0으로 패딩하는 것이 관례하긴 하지만, 꼭 지킬 필요는 없다. \n",
    "    - 다른 숫자로 하는 것도 가능하다. 현재 사용된 정수들과 겹치지 않도록 단어집합에 +1한 수를 사용한다"
   ]
  },
  {
   "cell_type": "code",
   "execution_count": 116,
   "id": "dc3100b8",
   "metadata": {},
   "outputs": [
    {
     "name": "stdout",
     "output_type": "stream",
     "text": [
      "14\n"
     ]
    }
   ],
   "source": [
    "last_value = len(tokenizer.word_index) + 1\n",
    "print(last_value)"
   ]
  },
  {
   "cell_type": "code",
   "execution_count": 117,
   "id": "b562370a",
   "metadata": {},
   "outputs": [
    {
     "data": {
      "text/plain": [
       "array([[ 1,  5, 14, 14, 14, 14, 14],\n",
       "       [ 1,  8,  5, 14, 14, 14, 14],\n",
       "       [ 1,  3,  5, 14, 14, 14, 14],\n",
       "       [ 9,  2, 14, 14, 14, 14, 14],\n",
       "       [ 2,  4,  3,  2, 14, 14, 14],\n",
       "       [ 3,  2, 14, 14, 14, 14, 14],\n",
       "       [ 1,  4,  6, 14, 14, 14, 14],\n",
       "       [ 1,  4,  6, 14, 14, 14, 14],\n",
       "       [ 1,  4,  2, 14, 14, 14, 14],\n",
       "       [ 7,  7,  3,  2, 10,  1, 11],\n",
       "       [ 1, 12,  3, 13, 14, 14, 14]])"
      ]
     },
     "execution_count": 117,
     "metadata": {},
     "output_type": "execute_result"
    }
   ],
   "source": [
    "padd = pad_sequences(encoded, padding=\"post\", value=last_value)\n",
    "padd"
   ]
  },
  {
   "cell_type": "markdown",
   "id": "6d913de9",
   "metadata": {},
   "source": [
    "-----------------------"
   ]
  },
  {
   "cell_type": "code",
   "execution_count": 118,
   "id": "edc8766f",
   "metadata": {},
   "outputs": [
    {
     "name": "stdout",
     "output_type": "stream",
     "text": [
      "['나', '는', '자연어', '처리', '를', '배운다']\n"
     ]
    }
   ],
   "source": [
    "from konlpy.tag import Okt\n",
    "\n",
    "okt = Okt()\n",
    "tokens = okt.morphs(\"나는 자연어 처리를 배운다\")\n",
    "print(tokens)"
   ]
  },
  {
   "cell_type": "code",
   "execution_count": 119,
   "id": "ad198347",
   "metadata": {},
   "outputs": [
    {
     "name": "stdout",
     "output_type": "stream",
     "text": [
      "단어 집합: {'나': 0, '는': 1, '자연어': 2, '처리': 3, '를': 4, '배운다': 5}\n"
     ]
    }
   ],
   "source": [
    "word_to_index = {word : index for index, word in enumerate(tokens)}\n",
    "print(\"단어 집합:\", word_to_index)"
   ]
  },
  {
   "cell_type": "code",
   "execution_count": 120,
   "id": "c23f1640",
   "metadata": {},
   "outputs": [],
   "source": [
    "def one_hot_encoding(word, word_to_index):\n",
    "    one_hot_vector = [0]*(len(word_to_index))\n",
    "    index = word_to_index[word]\n",
    "    one_hot_vector[index] = 1\n",
    "    return one_hot_vector"
   ]
  },
  {
   "cell_type": "code",
   "execution_count": 121,
   "id": "b766689f",
   "metadata": {},
   "outputs": [
    {
     "data": {
      "text/plain": [
       "[0, 0, 1, 0, 0, 0]"
      ]
     },
     "execution_count": 121,
     "metadata": {},
     "output_type": "execute_result"
    }
   ],
   "source": [
    "one_hot_encoding(\"자연어\", word_to_index)"
   ]
  },
  {
   "cell_type": "markdown",
   "id": "7a3f2d05",
   "metadata": {},
   "source": [
    "    - 자연어는 정수 2이므로 원-핫 인덱스 2의 값이 1이며, 나머지는 0이다."
   ]
  },
  {
   "cell_type": "markdown",
   "id": "83afdf0a",
   "metadata": {},
   "source": [
    "#### 케라스를 이용한 원-핫 인코딩\n",
    "    - 케라스는 원핫 인코딩을 수행하는 to_categorical()를 지원한다. "
   ]
  },
  {
   "cell_type": "code",
   "execution_count": 122,
   "id": "03ffb317",
   "metadata": {},
   "outputs": [],
   "source": [
    "text = \"나랑 점심 먹으러 갈래 점심 메뉴는 햄버거 갈래 갈래 햄버거 최고야\""
   ]
  },
  {
   "cell_type": "code",
   "execution_count": 123,
   "id": "4bb132c1",
   "metadata": {},
   "outputs": [
    {
     "name": "stdout",
     "output_type": "stream",
     "text": [
      "단어 집합: {'갈래': 1, '점심': 2, '햄버거': 3, '나랑': 4, '먹으러': 5, '메뉴는': 6, '최고야': 7}\n"
     ]
    }
   ],
   "source": [
    "from tensorflow.keras.preprocessing.text import Tokenizer\n",
    "from tensorflow.keras.utils import to_categorical\n",
    "\n",
    "tokenizer = Tokenizer()\n",
    "tokenizer.fit_on_texts([text])\n",
    "print(\"단어 집합:\", tokenizer.word_index)"
   ]
  },
  {
   "cell_type": "code",
   "execution_count": 124,
   "id": "fb5b914d",
   "metadata": {},
   "outputs": [
    {
     "name": "stdout",
     "output_type": "stream",
     "text": [
      "[2, 5, 1, 6, 3, 7]\n"
     ]
    }
   ],
   "source": [
    "sub_text = \"점심 먹으러 갈래 메뉴는 햄버거 최고야\"\n",
    "encoded = tokenizer.texts_to_sequences([sub_text])[0]\n",
    "print(encoded)"
   ]
  },
  {
   "cell_type": "code",
   "execution_count": 125,
   "id": "4989d6c1",
   "metadata": {},
   "outputs": [
    {
     "name": "stdout",
     "output_type": "stream",
     "text": [
      "[[0. 0. 1. 0. 0. 0. 0. 0.]\n",
      " [0. 0. 0. 0. 0. 1. 0. 0.]\n",
      " [0. 1. 0. 0. 0. 0. 0. 0.]\n",
      " [0. 0. 0. 0. 0. 0. 1. 0.]\n",
      " [0. 0. 0. 1. 0. 0. 0. 0.]\n",
      " [0. 0. 0. 0. 0. 0. 0. 1.]]\n"
     ]
    }
   ],
   "source": [
    "one_hot = to_categorical(encoded)\n",
    "print(one_hot)"
   ]
  },
  {
   "cell_type": "markdown",
   "id": "1cbad5ec",
   "metadata": {},
   "source": [
    "----------------"
   ]
  },
  {
   "cell_type": "markdown",
   "id": "cde7be3b",
   "metadata": {},
   "source": [
    "### 데이터 분리"
   ]
  },
  {
   "cell_type": "code",
   "execution_count": 126,
   "id": "ba83c3e9",
   "metadata": {},
   "outputs": [],
   "source": [
    "import pandas as pd\n",
    "import numpy as np\n",
    "from sklearn.model_selection import train_test_split"
   ]
  },
  {
   "cell_type": "code",
   "execution_count": 127,
   "id": "783e53a0",
   "metadata": {},
   "outputs": [
    {
     "name": "stdout",
     "output_type": "stream",
     "text": [
      "X 데이터 ('a', 'b', 'c')\n",
      "y 데이터 (1, 2, 3)\n"
     ]
    }
   ],
   "source": [
    "x, y = zip(['a', 1], ['b', 2], ['c', 3])\n",
    "print('X 데이터', x)\n",
    "print('y 데이터', y)"
   ]
  },
  {
   "cell_type": "markdown",
   "id": "8dd84d05",
   "metadata": {},
   "source": [
    "각 데이터에서 첫번째로 등장한 원소들끼리 묶이고, 두번째로 등장한 원소들끼리 묶인 것을 볼 수 있다. "
   ]
  },
  {
   "cell_type": "code",
   "execution_count": 128,
   "id": "f0c5f0e7",
   "metadata": {},
   "outputs": [
    {
     "name": "stdout",
     "output_type": "stream",
     "text": [
      "X 데이터: ('a', 'b', 'c')\n",
      "y 데이터: (1, 2, 3)\n"
     ]
    }
   ],
   "source": [
    "# 리스트의 리스트 또는 행렬 또는 뒤에서 배울 개념인 2D 텐서\n",
    "sequences = [['a', 1], ['b', 2], ['c', 3]]\n",
    "x, y = zip(*sequences)\n",
    "\n",
    "print('X 데이터:', x)\n",
    "print('y 데이터:', y)"
   ]
  },
  {
   "cell_type": "markdown",
   "id": "df25b457",
   "metadata": {},
   "source": [
    "**데이터 프레임을 이용하여 분리하기**"
   ]
  },
  {
   "cell_type": "code",
   "execution_count": 129,
   "id": "0b400651",
   "metadata": {
    "scrolled": true
   },
   "outputs": [
    {
     "data": {
      "text/html": [
       "<div>\n",
       "<style scoped>\n",
       "    .dataframe tbody tr th:only-of-type {\n",
       "        vertical-align: middle;\n",
       "    }\n",
       "\n",
       "    .dataframe tbody tr th {\n",
       "        vertical-align: top;\n",
       "    }\n",
       "\n",
       "    .dataframe thead th {\n",
       "        text-align: right;\n",
       "    }\n",
       "</style>\n",
       "<table border=\"1\" class=\"dataframe\">\n",
       "  <thead>\n",
       "    <tr style=\"text-align: right;\">\n",
       "      <th></th>\n",
       "      <th>메일 본문</th>\n",
       "      <th>스팸 메일 유무</th>\n",
       "    </tr>\n",
       "  </thead>\n",
       "  <tbody>\n",
       "    <tr>\n",
       "      <th>0</th>\n",
       "      <td>당신에게 드리는 마지막 혜택!</td>\n",
       "      <td>1</td>\n",
       "    </tr>\n",
       "    <tr>\n",
       "      <th>1</th>\n",
       "      <td>내일 뵐 수 있을지 확인 부탁드 ...</td>\n",
       "      <td>0</td>\n",
       "    </tr>\n",
       "    <tr>\n",
       "      <th>2</th>\n",
       "      <td>도연씨, 잘 지내시죠? 오랜만 ...</td>\n",
       "      <td>0</td>\n",
       "    </tr>\n",
       "    <tr>\n",
       "      <th>3</th>\n",
       "      <td>(광고) AI로 주가를 예측할 수 있다!</td>\n",
       "      <td>1</td>\n",
       "    </tr>\n",
       "  </tbody>\n",
       "</table>\n",
       "</div>"
      ],
      "text/plain": [
       "                    메일 본문  스팸 메일 유무\n",
       "0        당신에게 드리는 마지막 혜택!         1\n",
       "1   내일 뵐 수 있을지 확인 부탁드 ...         0\n",
       "2    도연씨, 잘 지내시죠? 오랜만 ...         0\n",
       "3  (광고) AI로 주가를 예측할 수 있다!         1"
      ]
     },
     "execution_count": 129,
     "metadata": {},
     "output_type": "execute_result"
    }
   ],
   "source": [
    "values = [[\"당신에게 드리는 마지막 혜택!\", 1],\n",
    "         [\"내일 뵐 수 있을지 확인 부탁드 ...\", 0],\n",
    "         [\"도연씨, 잘 지내시죠? 오랜만 ...\", 0],\n",
    "         [\"(광고) AI로 주가를 예측할 수 있다!\", 1]]\n",
    "columns = ['메일 본문', '스팸 메일 유무']\n",
    "\n",
    "df = pd.DataFrame(values, columns=columns)\n",
    "df"
   ]
  },
  {
   "cell_type": "code",
   "execution_count": 130,
   "id": "f11de9c4",
   "metadata": {},
   "outputs": [],
   "source": [
    "x = df['메일 본문']\n",
    "y = df['스팸 메일 유무']"
   ]
  },
  {
   "cell_type": "code",
   "execution_count": 131,
   "id": "060e1c26",
   "metadata": {},
   "outputs": [
    {
     "name": "stdout",
     "output_type": "stream",
     "text": [
      "x 데이터: <bound method IndexOpsMixin.tolist of 0          당신에게 드리는 마지막 혜택!\n",
      "1     내일 뵐 수 있을지 확인 부탁드 ...\n",
      "2      도연씨, 잘 지내시죠? 오랜만 ...\n",
      "3    (광고) AI로 주가를 예측할 수 있다!\n",
      "Name: 메일 본문, dtype: object>\n",
      "y 데이터: <bound method IndexOpsMixin.tolist of 0    1\n",
      "1    0\n",
      "2    0\n",
      "3    1\n",
      "Name: 스팸 메일 유무, dtype: int64>\n"
     ]
    }
   ],
   "source": [
    "print(\"x 데이터:\", x.to_list)\n",
    "print(\"y 데이터:\", y.to_list)"
   ]
  },
  {
   "cell_type": "markdown",
   "id": "af397761",
   "metadata": {},
   "source": [
    "**numpy를 이용하여 분리하기**"
   ]
  },
  {
   "cell_type": "code",
   "execution_count": 132,
   "id": "88dfa9d0",
   "metadata": {},
   "outputs": [
    {
     "name": "stdout",
     "output_type": "stream",
     "text": [
      "전체 데이터:\n",
      "[[ 0  1  2  3]\n",
      " [ 4  5  6  7]\n",
      " [ 8  9 10 11]\n",
      " [12 13 14 15]]\n"
     ]
    }
   ],
   "source": [
    "np_array = np.arange(0, 16).reshape((4,4))\n",
    "print(\"전체 데이터:\")\n",
    "print(np_array)"
   ]
  },
  {
   "cell_type": "code",
   "execution_count": 133,
   "id": "8ced64cc",
   "metadata": {},
   "outputs": [
    {
     "name": "stdout",
     "output_type": "stream",
     "text": [
      "X 데이터:\n",
      " [[ 0  1  2]\n",
      " [ 4  5  6]\n",
      " [ 8  9 10]\n",
      " [12 13 14]]\n",
      "y 데이터: [ 3  7 11 15]\n"
     ]
    }
   ],
   "source": [
    "x = np_array[:, :3]\n",
    "y = np_array[:, 3]\n",
    "\n",
    "print(\"X 데이터:\\n\", x)\n",
    "print(\"y 데이터:\", y)"
   ]
  },
  {
   "cell_type": "markdown",
   "id": "b1626e27",
   "metadata": {},
   "source": [
    "### 테스트 데이터 분리하기\n",
    "#### 1. 사이킷런을 이용하여 분리하기"
   ]
  },
  {
   "cell_type": "code",
   "execution_count": 134,
   "id": "7d30b6ce",
   "metadata": {},
   "outputs": [],
   "source": [
    "x_train, x_test, y_train, y_test = train_test_split(x, y, test_size=0.2,\n",
    "                                                    random_state=1234)"
   ]
  },
  {
   "cell_type": "markdown",
   "id": "07a8181c",
   "metadata": {},
   "source": [
    "    - x: 독립변수 데이터(배열이나 데이터 프레임)\n",
    "    - y: 종속변수 데이터, 레이블 데이터\n",
    "    - test_size: 테스트용 데이터 개수를 지정, 1보다 작은 실수를 기재하면 비율을 나타냄\n",
    "    - train_size:학습용 데이터 개수를 지정, 1보다 작은 실수를 기재하면 비율을 나타냄\n",
    "    - random_state: 난수 시드"
   ]
  },
  {
   "cell_type": "code",
   "execution_count": 135,
   "id": "d565436f",
   "metadata": {},
   "outputs": [
    {
     "name": "stdout",
     "output_type": "stream",
     "text": [
      "X 전체 데이터\n",
      " [[0 1]\n",
      " [2 3]\n",
      " [4 5]\n",
      " [6 7]\n",
      " [8 9]]\n",
      "y 전체 데이터\n",
      " [0, 1, 2, 3, 4]\n"
     ]
    }
   ],
   "source": [
    "x, y = np.arange(10).reshape((5,2)), range(5)\n",
    "\n",
    "print(\"X 전체 데이터\\n\", x)\n",
    "print(\"y 전체 데이터\\n\", list(y))"
   ]
  },
  {
   "cell_type": "code",
   "execution_count": 136,
   "id": "d4a0893d",
   "metadata": {},
   "outputs": [],
   "source": [
    "# 7:3 비율로 훈련 데이터와 테스트 데이터 분리\n",
    "x_train, x_test, y_train, y_test = train_test_split(x, y, test_size=0.3,\n",
    "                                                    random_state=1234)"
   ]
  },
  {
   "cell_type": "code",
   "execution_count": 137,
   "id": "55f37ba7",
   "metadata": {},
   "outputs": [
    {
     "name": "stdout",
     "output_type": "stream",
     "text": [
      "X 훈련 데이터:\n",
      " [[2 3]\n",
      " [4 5]\n",
      " [6 7]]\n",
      "X 테스트 데이터:\n",
      " [[8 9]\n",
      " [0 1]]\n"
     ]
    }
   ],
   "source": [
    "print(\"X 훈련 데이터:\\n\", x_train)\n",
    "print(\"X 테스트 데이터:\\n\", x_test)"
   ]
  },
  {
   "cell_type": "code",
   "execution_count": 138,
   "id": "05d36603",
   "metadata": {},
   "outputs": [
    {
     "name": "stdout",
     "output_type": "stream",
     "text": [
      "y 훈련 데이터:\n",
      " [1, 2, 3]\n",
      "y 테스트 데이터:\n",
      " [4, 0]\n"
     ]
    }
   ],
   "source": [
    "print(\"y 훈련 데이터:\\n\", y_train)\n",
    "print(\"y 테스트 데이터:\\n\", y_test)"
   ]
  },
  {
   "cell_type": "markdown",
   "id": "459dfb35",
   "metadata": {},
   "source": [
    "    - 데이터의 순서가 바뀐것을 확인 할 수 있다. 이는 random_state의 역할을 이해하기 위해서 이번에는 random_state 값을 임의로 다른 값인 1을 주고 다시 분리해본다."
   ]
  },
  {
   "cell_type": "code",
   "execution_count": 139,
   "id": "8bb9d328",
   "metadata": {},
   "outputs": [],
   "source": [
    "# random_state의 값을 1로 변경\n",
    "x_train, x_test, y_train, y_test = train_test_split(x, y, test_size=0.3,\n",
    "                                                    random_state=1)"
   ]
  },
  {
   "cell_type": "code",
   "execution_count": 140,
   "id": "05d3f3c4",
   "metadata": {},
   "outputs": [
    {
     "name": "stdout",
     "output_type": "stream",
     "text": [
      "y 훈련 데이터:\n",
      " [4, 0, 3]\n",
      "y 테스트 데이터:\n",
      " [2, 1]\n"
     ]
    }
   ],
   "source": [
    "print(\"y 훈련 데이터:\\n\", y_train)\n",
    "print(\"y 테스트 데이터:\\n\", y_test)"
   ]
  },
  {
   "cell_type": "markdown",
   "id": "fe0b1f48",
   "metadata": {},
   "source": [
    "random_state = 1234일때와 다른 값이 결과로 나온다. 이는 데이터가 다른 순서로 섞였다는 의미이다. 다시 random_state를 다시 1234로 변경한 후 y를 출력한다"
   ]
  },
  {
   "cell_type": "code",
   "execution_count": 141,
   "id": "b4dba55e",
   "metadata": {},
   "outputs": [
    {
     "name": "stdout",
     "output_type": "stream",
     "text": [
      "y 훈련 데이터:\n",
      " [1, 2, 3]\n",
      "y 테스트 데이터:\n",
      " [4, 0]\n"
     ]
    }
   ],
   "source": [
    "# random_state의 값을 1234로 변경\n",
    "x_train, x_test, y_train, y_test = train_test_split(x, y, test_size=0.3,\n",
    "                                                    random_state=1234)\n",
    "\n",
    "print(\"y 훈련 데이터:\\n\", y_train)\n",
    "print(\"y 테스트 데이터:\\n\", y_test)"
   ]
  },
  {
   "cell_type": "markdown",
   "id": "e16e515b",
   "metadata": {},
   "source": [
    "    - 이전과 동일한 순서로 섞이는 것을 확인 할 수 있다. random_state의 값을 고정한다면 실행할 때마다 동일한 순서로 섞여, 동일한 코드를 다음에 재현하고자 할 때 사용할 수 있다. "
   ]
  },
  {
   "cell_type": "markdown",
   "id": "e04c1c6f",
   "metadata": {},
   "source": [
    "#### 수동으로 분리하기"
   ]
  },
  {
   "cell_type": "code",
   "execution_count": 142,
   "id": "24fde2e1",
   "metadata": {},
   "outputs": [
    {
     "name": "stdout",
     "output_type": "stream",
     "text": [
      "x 전체 데이터:\n",
      " [[ 0  1]\n",
      " [ 2  3]\n",
      " [ 4  5]\n",
      " [ 6  7]\n",
      " [ 8  9]\n",
      " [10 11]\n",
      " [12 13]\n",
      " [14 15]\n",
      " [16 17]\n",
      " [18 19]\n",
      " [20 21]\n",
      " [22 23]]\n",
      "y 전체 데이터:\n",
      " [0, 1, 2, 3, 4, 5, 6, 7, 8, 9, 10, 11]\n"
     ]
    }
   ],
   "source": [
    "# 실습을 위해 임의로 x와 y가 이미 분리 된 데이터를 생성\n",
    "x, y = np.arange(0, 24).reshape((12, 2)), range(12)\n",
    "\n",
    "print(\"x 전체 데이터:\\n\", x)\n",
    "print(\"y 전체 데이터:\\n\", list(y))"
   ]
  },
  {
   "cell_type": "code",
   "execution_count": 143,
   "id": "ab7be22a",
   "metadata": {},
   "outputs": [
    {
     "name": "stdout",
     "output_type": "stream",
     "text": [
      "훈련 데이터의 크기: 9\n",
      "테스트 데이터의 크기: 3\n"
     ]
    }
   ],
   "source": [
    "num_of_train = int(len(x) * 0.8) # 데이터의 80%에 해당하는 길이값\n",
    "num_of_test = int(len(x) - num_of_train) # 데이터의 20%에 해당하는 길이값\n",
    "\n",
    "print(\"훈련 데이터의 크기:\", num_of_train)\n",
    "print(\"테스트 데이터의 크기:\", num_of_test)"
   ]
  },
  {
   "cell_type": "markdown",
   "id": "fbc52545",
   "metadata": {},
   "source": [
    "    - 훈련 데이터와 테스트 데이터를 나눈 것이 아니라 이 두개의 개수를 몇 개로 할지 정하기만 한 상태이다. 여기서 테스트 데이터의 크기를 0.2를 곱하면 안된다. 단순히 비율만 본다면 데이터의 누락이 발생할 수 있기 때문에 학습 데이터가 정해지면 전체에서 학습 데이터를 제외하는 방식으로 가야한다."
   ]
  },
  {
   "cell_type": "code",
   "execution_count": 144,
   "id": "b34efcfd",
   "metadata": {},
   "outputs": [],
   "source": [
    "x_test = x[num_of_train:]\n",
    "y_test = y[num_of_train:]\n",
    "\n",
    "x_train = x[:num_of_train]\n",
    "y_train = y[:num_of_train]"
   ]
  },
  {
   "cell_type": "code",
   "execution_count": 145,
   "id": "28f8166c",
   "metadata": {},
   "outputs": [
    {
     "name": "stdout",
     "output_type": "stream",
     "text": [
      "x 테스트 데이터: \n",
      " [[18 19]\n",
      " [20 21]\n",
      " [22 23]]\n",
      "y 테스트 데이터: \n",
      " range(9, 12)\n"
     ]
    }
   ],
   "source": [
    "print(\"x 테스트 데이터: \\n\", x_test)\n",
    "print(\"y 테스트 데이터: \\n\", y_test)"
   ]
  },
  {
   "cell_type": "markdown",
   "id": "7221f261",
   "metadata": {},
   "source": [
    "    - 각 길이가 3인것을 확인했다. train_test_split()과 다른 점은 데이터가 섞이지 않은 채 어느 지점에서 데이터를 앞과 뒤로 분리했다는 점이다. 만약 수동으로 데이터를 분리하게 된다면 수동으로 섞는 과정이 필요할 수 있다."
   ]
  },
  {
   "cell_type": "markdown",
   "id": "7930fe7d",
   "metadata": {},
   "source": [
    "------"
   ]
  },
  {
   "cell_type": "markdown",
   "id": "b03ea0a3",
   "metadata": {},
   "source": [
    "### 한국어 전처리 패키지"
   ]
  },
  {
   "cell_type": "markdown",
   "id": "5585dbd3",
   "metadata": {},
   "source": [
    "#### 1. PyKoSpacing"
   ]
  },
  {
   "cell_type": "code",
   "execution_count": 146,
   "id": "2a624b4f",
   "metadata": {},
   "outputs": [],
   "source": [
    "sent = \"김철수는 극중 두 인격의 사나이 이광수 역을 맡았다. 철수는 한국 유일의 태권도 전승자를 가리는 결전의 날을 앞두고 10년간 함께 훈련한 사형인 유연재(김광수 분)을 찾으로 속세로 내려온 인물이다.\""
   ]
  },
  {
   "cell_type": "code",
   "execution_count": 147,
   "id": "4db22f84",
   "metadata": {
    "scrolled": true
   },
   "outputs": [
    {
     "name": "stdout",
     "output_type": "stream",
     "text": [
      "김철수는극중두인격의사나이이광수역을맡았다.철수는한국유일의태권도전승자를가리는결전의날을앞두고10년간함께훈련한사형인유연재(김광수분)을찾으로속세로내려온인물이다.\n"
     ]
    }
   ],
   "source": [
    "new_sent = sent.replace(\" \", \"\")\n",
    "print(new_sent)"
   ]
  },
  {
   "cell_type": "markdown",
   "id": "35ab7cc1",
   "metadata": {},
   "source": [
    "아래의 코드는 커널 죽음 오류가 발생하여 실행은 따로 시키지 않는다."
   ]
  },
  {
   "cell_type": "code",
   "execution_count": 149,
   "id": "c354f471",
   "metadata": {},
   "outputs": [
    {
     "data": {
      "text/plain": [
       "'\\nfrom pykospacing import Spacing\\nspacing = Spacing()\\nkospacing_sent = spacing(new_sent)\\n\\nprint(sent)\\nprint(kospacing_sent)from pykospacing import Spacing\\nspacing = Spacing()\\nkospacing_sent = spacing(new_sent)\\n\\nprint(sent)\\nprint(kospacing_sent)\\n'"
      ]
     },
     "execution_count": 149,
     "metadata": {},
     "output_type": "execute_result"
    }
   ],
   "source": [
    "\"\"\"\n",
    "from pykospacing import Spacing\n",
    "spacing = Spacing()\n",
    "kospacing_sent = spacing(new_sent)\n",
    "\n",
    "print(sent)\n",
    "print(kospacing_sent)from pykospacing import Spacing\n",
    "spacing = Spacing()\n",
    "kospacing_sent = spacing(new_sent)\n",
    "\n",
    "print(sent)\n",
    "print(kospacing_sent)\n",
    "\"\"\""
   ]
  },
  {
   "cell_type": "markdown",
   "id": "3dde8cd8",
   "metadata": {},
   "source": [
    "#### Py-Hanspell"
   ]
  },
  {
   "cell_type": "markdown",
   "id": "3f9c7932",
   "metadata": {},
   "source": [
    "Py-Hanspell은 네이버 한글 맞춤법 검사기를 바탕으로 만들어진 패키지"
   ]
  },
  {
   "cell_type": "code",
   "execution_count": 151,
   "id": "65f0edc2",
   "metadata": {},
   "outputs": [
    {
     "name": "stdout",
     "output_type": "stream",
     "text": [
      "맞춤법 틀리면 왜 안돼? 쓰고 싶은 대로 쓰면 되지\n"
     ]
    }
   ],
   "source": [
    "from hanspell import spell_checker\n",
    "\n",
    "sent = \"맞춤법 틀리면 외 않되? 쓰고싶은대로쓰면돼지\"\n",
    "spelled_sent = spell_checker.check(sent)\n",
    "\n",
    "han_spell_sent = spelled_sent.checked\n",
    "print(han_spell_sent)"
   ]
  },
  {
   "cell_type": "markdown",
   "id": "84d4ec67",
   "metadata": {},
   "source": [
    "해당 패키지는 띄어쓰기도 보정한다. PyKoSpacing이 사용한 예제를 그대로 사용해보자."
   ]
  },
  {
   "cell_type": "code",
   "execution_count": 152,
   "id": "9a077d91",
   "metadata": {},
   "outputs": [],
   "source": [
    "sent = \"김철수는 극중 두 인격의 사나이 이광수 역을 맡았다. 철수는 한국 유일의 태권도 전승자를 가리는 결전의 날을 앞두고 10년간 함께 훈련한 사형인 유연재(김광수 분)을 찾으로 속세로 내려온 인물이다.\""
   ]
  },
  {
   "cell_type": "code",
   "execution_count": 153,
   "id": "ff321f3b",
   "metadata": {},
   "outputs": [
    {
     "name": "stdout",
     "output_type": "stream",
     "text": [
      "김철수는극중두인격의사나이이광수역을맡았다.철수는한국유일의태권도전승자를가리는결전의날을앞두고10년간함께훈련한사형인유연재(김광수분)을찾으로속세로내려온인물이다.\n"
     ]
    }
   ],
   "source": [
    "new_sent = sent.replace(\" \", \"\")\n",
    "print(new_sent)"
   ]
  },
  {
   "cell_type": "code",
   "execution_count": 154,
   "id": "56668ace",
   "metadata": {},
   "outputs": [
    {
     "name": "stdout",
     "output_type": "stream",
     "text": [
      "김철수는 극중 두 인격의 사나이 이광수 역을 맡았다. 철수는 한국 유일의 태권도 전승자를 가리는 결전의 날을 앞두고 10년간 함께 훈련한 사형인 유연제(김광수 분)을 찾으로 속세로 내려온 인물이다.\n"
     ]
    }
   ],
   "source": [
    "spelled_sent = spell_checker.check(sent)\n",
    "han_spell_sent = spelled_sent.checked\n",
    "print(han_spell_sent)"
   ]
  },
  {
   "cell_type": "markdown",
   "id": "bab85918",
   "metadata": {},
   "source": [
    "#### SOYNLP를 이용한 단어 토큰화\n",
    "    - soynlp는 품사 태깅, 단어 토큰화 등을 지원하는 단어 토크나이저이다. 비지도 학습으로 단어 토큰화를 한다는 특징을 가지고 있으며, 데이터에 자주 등장하는 단어들을 단어로 분석한다. soynlp 단어 토크나이저는 내부적으로 단어 점수 표로 동작한다. 이 점수는 응집 확률(cohesion probability)과 브랜칭 엔트로피(branching entropy)를 활용한다."
   ]
  },
  {
   "cell_type": "markdown",
   "id": "753a39b2",
   "metadata": {},
   "source": [
    "**1. 신조어 문제** <br>\n",
    "soynlp를 소개하기 앞서 기존의 형태소 분석기의 문제가 무엇인지, soynlp가 어떤 점에서 유용한지 정리해보자. 기존의 형태소 분석기는 신조어나 형태소 분석기에 등록되지 않은 단어 같은 경우에는 제대로 구분하지 못하는 단점이 있다."
   ]
  },
  {
   "cell_type": "code",
   "execution_count": 156,
   "id": "304dff5d",
   "metadata": {},
   "outputs": [
    {
     "name": "stdout",
     "output_type": "stream",
     "text": [
      "['에이', '비식스', '이대', '휘', '1월', '최애', '돌', '기부', '요정']\n"
     ]
    }
   ],
   "source": [
    "from konlpy.tag import Okt\n",
    "\n",
    "okt = Okt()\n",
    "\n",
    "print(okt.morphs(\"에이비식스 이대휘 1월 최애돌 기부 요정\"))"
   ]
  },
  {
   "cell_type": "markdown",
   "id": "c517f271",
   "metadata": {},
   "source": [
    "    - 기존의 형태소 분석기인 okt는 에이비식스, 이대휘, 최애돌은 전부 한 단어지만 분리된 결과를 보여준다.\n",
    "    - soynlp는 텍스트 데이터에서 특정 문자 시퀀스가 함께 자주 등장하는 빈도가 높고, 앞 뒤로 조사 또는 완전히 다른 단어가 등장하는 것을 고려해서 해당 문자 시퀀스를 형태소라고 판단하는 단어 토크나이저 라는 아이디어를 가졌다.\n"
   ]
  },
  {
   "cell_type": "markdown",
   "id": "5c4750f6",
   "metadata": {},
   "source": [
    "**2. 학습하기**"
   ]
  },
  {
   "cell_type": "code",
   "execution_count": 160,
   "id": "54d3d3bd",
   "metadata": {},
   "outputs": [],
   "source": [
    "import urllib.request\n",
    "from soynlp import DoublespaceLineCorpus\n",
    "from soynlp.word import WordExtractor"
   ]
  },
  {
   "cell_type": "code",
   "execution_count": 162,
   "id": "3eb0240d",
   "metadata": {},
   "outputs": [
    {
     "data": {
      "text/plain": [
       "('2016-10-20.txt', <http.client.HTTPMessage at 0x2705382e748>)"
      ]
     },
     "execution_count": 162,
     "metadata": {},
     "output_type": "execute_result"
    }
   ],
   "source": [
    "urllib.request.urlretrieve(\"https://raw.githubusercontent.com/lovit/soynlp/master/tutorials/2016-10-20.txt\", filename=\"2016-10-20.txt\")"
   ]
  },
  {
   "cell_type": "code",
   "execution_count": 163,
   "id": "5817780e",
   "metadata": {},
   "outputs": [
    {
     "data": {
      "text/plain": [
       "30091"
      ]
     },
     "execution_count": 163,
     "metadata": {},
     "output_type": "execute_result"
    }
   ],
   "source": [
    "corpus = DoublespaceLineCorpus(\"2016-10-20.txt\")\n",
    "len(corpus)"
   ]
  },
  {
   "cell_type": "code",
   "execution_count": 164,
   "id": "a943bd52",
   "metadata": {
    "scrolled": true
   },
   "outputs": [
    {
     "name": "stdout",
     "output_type": "stream",
     "text": [
      "\n",
      "19  1990  52 1 22\n",
      "오패산터널 총격전 용의자 검거 서울 연합뉴스 경찰 관계자들이 19일 오후 서울 강북구 오패산 터널 인근에서 사제 총기를 발사해 경찰을 살해한 용의자 성모씨를 검거하고 있다 성씨는 검거 당시 서바이벌 게임에서 쓰는 방탄조끼에 헬멧까지 착용한 상태였다 독자제공 영상 캡처 연합뉴스  서울 연합뉴스 김은경 기자 사제 총기로 경찰을 살해한 범인 성모 46 씨는 주도면밀했다  경찰에 따르면 성씨는 19일 오후 강북경찰서 인근 부동산 업소 밖에서 부동산업자 이모 67 씨가 나오기를 기다렸다 이씨와는 평소에도 말다툼을 자주 한 것으로 알려졌다  이씨가 나와 걷기 시작하자 성씨는 따라가면서 미리 준비해온 사제 총기를 이씨에게 발사했다 총알이 빗나가면서 이씨는 도망갔다 그 빗나간 총알은 지나가던 행인 71 씨의 배를 스쳤다  성씨는 강북서 인근 치킨집까지 이씨 뒤를 쫓으며 실랑이하다 쓰러뜨린 후 총기와 함께 가져온 망치로 이씨 머리를 때렸다  이 과정에서 오후 6시 20분께 강북구 번동 길 위에서 사람들이 싸우고 있다 총소리가 났다 는 등의 신고가 여러건 들어왔다  5분 후에 성씨의 전자발찌가 훼손됐다는 신고가 보호관찰소 시스템을 통해 들어왔다 성범죄자로 전자발찌를 차고 있던 성씨는 부엌칼로 직접 자신의 발찌를 끊었다  용의자 소지 사제총기 2정 서울 연합뉴스 임헌정 기자 서울 시내에서 폭행 용의자가 현장 조사를 벌이던 경찰관에게 사제총기를 발사해 경찰관이 숨졌다 19일 오후 6시28분 강북구 번동에서 둔기로 맞았다 는 폭행 피해 신고가 접수돼 현장에서 조사하던 강북경찰서 번동파출소 소속 김모 54 경위가 폭행 용의자 성모 45 씨가 쏜 사제총기에 맞고 쓰러진 뒤 병원에 옮겨졌으나 숨졌다 사진은 용의자가 소지한 사제총기  신고를 받고 번동파출소에서 김창호 54 경위 등 경찰들이 오후 6시 29분께 현장으로 출동했다 성씨는 그사이 부동산 앞에 놓아뒀던 가방을 챙겨 오패산 쪽으로 도망간 후였다  김 경위는 오패산 터널 입구 오른쪽의 급경사에서 성씨에게 접근하다가 오후 6시 33분께 풀숲에 숨은 성씨가 허공에 난사한 10여발의 총알 중 일부를 왼쪽 어깨 뒷부분에 맞고 쓰러졌다  김 경위는 구급차가 도착했을 때 이미 의식이 없었고 심폐소생술을 하며 병원으로 옮겨졌으나 총알이 폐를 훼손해 오후 7시 40분께 사망했다  김 경위는 외근용 조끼를 입고 있었으나 총알을 막기에는 역부족이었다  머리에 부상을 입은 이씨도 함께 병원으로 이송됐으나 생명에는 지장이 없는 것으로 알려졌다  성씨는 오패산 터널 밑쪽 숲에서 오후 6시 45분께 잡혔다  총격현장 수색하는 경찰들 서울 연합뉴스 이효석 기자 19일 오후 서울 강북구 오패산 터널 인근에서 경찰들이 폭행 용의자가 사제총기를 발사해 경찰관이 사망한 사건을 조사 하고 있다  총 때문에 쫓던 경관들과 민간인들이 몸을 숨겼는데 인근 신발가게 직원 이모씨가 다가가 성씨를 덮쳤고 이어 현장에 있던 다른 상인들과 경찰이 가세해 체포했다  성씨는 경찰에 붙잡힌 직후 나 자살하려고 한 거다 맞아 죽어도 괜찮다 고 말한 것으로 전해졌다  성씨 자신도 경찰이 발사한 공포탄 1발 실탄 3발 중 실탄 1발을 배에 맞았으나 방탄조끼를 입은 상태여서 부상하지는 않았다  경찰은 인근을 수색해 성씨가 만든 사제총 16정과 칼 7개를 압수했다 실제 폭발할지는 알 수 없는 요구르트병에 무언가를 채워두고 심지를 꽂은 사제 폭탄도 발견됐다  일부는 숲에서 발견됐고 일부는 성씨가 소지한 가방 안에 있었다\n"
     ]
    }
   ],
   "source": [
    "i = 0 \n",
    "\n",
    "# 상위 3개의 문서만 출력해본다.\n",
    "for doc in corpus:\n",
    "    if len(corpus) > 0:\n",
    "        print(doc)\n",
    "        i += 1\n",
    "    if i == 3:\n",
    "        break"
   ]
  },
  {
   "cell_type": "markdown",
   "id": "23bb7e93",
   "metadata": {},
   "source": [
    "    - 정상 출력 되는 것을 확인하였다. soynlp는 학습 기반의 단어 토크나이저이므로 기존의 KoNLPy에서 제공하는 형태소 분석기들과 달리 학습 과정을 거쳐야한다.\n",
    "    - 전체 코퍼스로부터 응집 확률과 브랜칭 엔트로피 단어 점수표를 만드는 과정이다. WordExtractor.extract()를 토해서 전체 코퍼스에 대해 단어 점수표를 계산한다."
   ]
  },
  {
   "cell_type": "code",
   "execution_count": 165,
   "id": "d6435315",
   "metadata": {},
   "outputs": [
    {
     "name": "stdout",
     "output_type": "stream",
     "text": [
      "training was done. used memory 2.045 Gb\n",
      "all cohesion probabilities was computed. # words = 223348\n",
      "all branching entropies was computed # words = 361598\n",
      "all accessor variety was computed # words = 361598\n"
     ]
    }
   ],
   "source": [
    "word_extractor = WordExtractor()\n",
    "word_extractor.train(corpus)\n",
    "word_score_table = word_extractor.extract()"
   ]
  },
  {
   "attachments": {
    "image-2.png": {
     "image/png": "[encoded data removed]"
    },
    "image-3.png": {
     "image/png": "[encoded data removed]"
    }
   },
   "cell_type": "markdown",
   "id": "d87f3b97",
   "metadata": {},
   "source": [
    "**3. SOYNLP의 응집확률(choesion probability)**<br>\n",
    "    - 응집확률은 내부 문자열이 얼마나 응집하여 자주 등장하는지를 판단하는 척도이다. 응집확률은 문자열을 문자 단위로 분리하여 내부 문자열을 만드는 과정에서 왼쪽부터 순서대로 문자를 추가하면서 각 문자열이 주어졌을 때 그 다음의 문자가 나올 확률을 계산하면서 누적곱을 한 값이다. 이 값이 높을 수록 전체 코퍼스에서 이 문자열 시퀀스는 하나의 단어로 등장할 가능성이 높다.\n",
    "![image-2.png](attachment:image-2.png)\n",
    "![image-3.png](attachment:image-3.png)"
   ]
  },
  {
   "cell_type": "code",
   "execution_count": 166,
   "id": "fa1bacc8",
   "metadata": {},
   "outputs": [
    {
     "data": {
      "text/plain": [
       "0.08838002913645132"
      ]
     },
     "execution_count": 166,
     "metadata": {},
     "output_type": "execute_result"
    }
   ],
   "source": [
    "word_score_table[\"반포한\"].cohesion_forward"
   ]
  },
  {
   "cell_type": "code",
   "execution_count": 167,
   "id": "7538e15d",
   "metadata": {},
   "outputs": [
    {
     "data": {
      "text/plain": [
       "0.19841268168224552"
      ]
     },
     "execution_count": 167,
     "metadata": {},
     "output_type": "execute_result"
    }
   ],
   "source": [
    "word_score_table[\"반포한강\"].cohesion_forward"
   ]
  },
  {
   "cell_type": "code",
   "execution_count": 168,
   "id": "046c5b92",
   "metadata": {},
   "outputs": [
    {
     "data": {
      "text/plain": [
       "0.2972877884078849"
      ]
     },
     "execution_count": 168,
     "metadata": {},
     "output_type": "execute_result"
    }
   ],
   "source": [
    "word_score_table[\"반포한강공\"].cohesion_forward"
   ]
  },
  {
   "cell_type": "code",
   "execution_count": 169,
   "id": "fd17ab1c",
   "metadata": {},
   "outputs": [
    {
     "data": {
      "text/plain": [
       "0.37891487632839754"
      ]
     },
     "execution_count": 169,
     "metadata": {},
     "output_type": "execute_result"
    }
   ],
   "source": [
    "word_score_table[\"반포한강공원\"].cohesion_forward"
   ]
  },
  {
   "cell_type": "code",
   "execution_count": 170,
   "id": "d8296b44",
   "metadata": {},
   "outputs": [
    {
     "data": {
      "text/plain": [
       "0.33492963377557666"
      ]
     },
     "execution_count": 170,
     "metadata": {},
     "output_type": "execute_result"
    }
   ],
   "source": [
    "word_score_table[\"반포한강공원에\"].cohesion_forward"
   ]
  },
  {
   "cell_type": "markdown",
   "id": "ead24d15",
   "metadata": {},
   "source": [
    "    - '반포한강공원'이 응집확률이 가장 높았다. 이는 반포한강공원이 하나의 단어로 판단하기에 가장 적합한 문자열이 '반포한강공원'이라고 볼 수 있다."
   ]
  },
  {
   "cell_type": "markdown",
   "id": "d30ba57e",
   "metadata": {},
   "source": [
    "**4. SOYNLP의 브랜칭 엔트로피(branching enytropy)**<br>\n",
    "   - Branching Entropy는 확률 분포의 엔트로피값을 사용한다. 이는 주어진 문자열에서 얼마나 다음 문자가 등장할 수 있는지를 판단하는 척도이다. \n",
    "   -  브랜칭 엔트로피를 주어진 문자 시퀀스에서 다음 문자 예측을 위해 헷갈리는 정도로 비유해본다. 브랜칭 엔트로피의 값은 하나의 완성된 단어에 가까워질수록 문맥으로 인해 점점 정확히 예측할 수 있게 되면서 점점 줄어드는 양상을 보인다.\n"
   ]
  },
  {
   "cell_type": "code",
   "execution_count": 171,
   "id": "27991475",
   "metadata": {},
   "outputs": [
    {
     "data": {
      "text/plain": [
       "1.6371694761537934"
      ]
     },
     "execution_count": 171,
     "metadata": {},
     "output_type": "execute_result"
    }
   ],
   "source": [
    "word_score_table[\"디스\"].right_branching_entropy"
   ]
  },
  {
   "cell_type": "code",
   "execution_count": 172,
   "id": "2e8cb8bc",
   "metadata": {},
   "outputs": [
    {
     "data": {
      "text/plain": [
       "-0.0"
      ]
     },
     "execution_count": 172,
     "metadata": {},
     "output_type": "execute_result"
    }
   ],
   "source": [
    "word_score_table[\"디스플\"].right_branching_entropy"
   ]
  },
  {
   "cell_type": "markdown",
   "id": "586ad65b",
   "metadata": {},
   "source": [
    "\"디스\" 뒤에는 다양한 단어가 존재할 수 있어 1.63이라는 값을 가지는 반면, \"디스플\" 뒤에는 레가 오는 것이 명백하기 때문에 -0.0이라는 값을 가진다."
   ]
  },
  {
   "cell_type": "code",
   "execution_count": 173,
   "id": "c7afc339",
   "metadata": {},
   "outputs": [
    {
     "data": {
      "text/plain": [
       "-0.0"
      ]
     },
     "execution_count": 173,
     "metadata": {},
     "output_type": "execute_result"
    }
   ],
   "source": [
    "word_score_table[\"디스플레\"].right_branching_entropy"
   ]
  },
  {
   "cell_type": "code",
   "execution_count": 174,
   "id": "eb0a3ac0",
   "metadata": {},
   "outputs": [
    {
     "data": {
      "text/plain": [
       "3.1400392861792916"
      ]
     },
     "execution_count": 174,
     "metadata": {},
     "output_type": "execute_result"
    }
   ],
   "source": [
    "word_score_table[\"디스플레이\"].right_branching_entropy"
   ]
  },
  {
   "cell_type": "markdown",
   "id": "41db6970",
   "metadata": {},
   "source": [
    "값이 갑자기 증가하는 것을 볼 수 있다. 이는 문자 시퀀스 '디스플레이'라는 문자 시퀀스 다음에는 조사나 다른 단어와 같은 다양한 경우가 있을 수 있기 때문이다. 이는 하나의 단어가 끝나면 그 경계부분부터 다시 브랜칭 엔트로피 값이 증가함을 의미한다."
   ]
  },
  {
   "cell_type": "markdown",
   "id": "be0d43aa",
   "metadata": {},
   "source": [
    "**5. SOYNLP의 tokenizer**<br>\n",
    "한국어는 띄어쓰기 단위로 나눈 어절 토큰은 주로 L토큰 + R토큰의 형식을 가지는 경우가 많다. ex: 공원에 -> 공원 + 에 로 나눌 수 있다. <br>\n",
    "L 토크나이저는 L 토큰 + R 토큰으로 나누되, 분리 기준을 점수가 가장 높은 L 토큰을 찾아내는 원리를 가지고 있다."
   ]
  },
  {
   "cell_type": "code",
   "execution_count": 177,
   "id": "d6fd727b",
   "metadata": {},
   "outputs": [
    {
     "data": {
      "text/plain": [
       "[('국제사회', '와'), ('우리', '의'), ('노력', '들로'), ('범죄', '를'), ('척격하자', '')]"
      ]
     },
     "execution_count": 177,
     "metadata": {},
     "output_type": "execute_result"
    }
   ],
   "source": [
    "from soynlp.tokenizer import LTokenizer\n",
    "\n",
    "scores = {word:score.cohesion_forward for word, score in word_score_table.items()}\n",
    "\n",
    "l_tokenizer = LTokenizer(scores=scores)\n",
    "l_tokenizer.tokenize(\"국제사회와 우리의 노력들로 범죄를 척격하자\", flatten=False)"
   ]
  },
  {
   "cell_type": "markdown",
   "id": "1f89d2d3",
   "metadata": {},
   "source": [
    "**6. 최대 점수 토크나이저**<br>\n",
    "띄어쓰기가 되지 않는 문장에서 점수가 높은 글자 시퀀스를 순차적으로 찾아내는 토크나이저"
   ]
  },
  {
   "cell_type": "code",
   "execution_count": 178,
   "id": "8754a306",
   "metadata": {},
   "outputs": [
    {
     "data": {
      "text/plain": [
       "['국제사회', '와', '우리', '의', '노력', '들로', '범죄', '를', '척결', '하자']"
      ]
     },
     "execution_count": 178,
     "metadata": {},
     "output_type": "execute_result"
    }
   ],
   "source": [
    "from soynlp.tokenizer import MaxScoreTokenizer\n",
    "\n",
    "max_score_tokenizer = MaxScoreTokenizer(scores=scores)\n",
    "max_score_tokenizer.tokenize(\"국제사회와우리의노력들로범죄를척결하자\")"
   ]
  },
  {
   "cell_type": "markdown",
   "id": "6d6a955e",
   "metadata": {},
   "source": [
    "**SOYNLP를 이용한 반복되는 문자정제**\n",
    "<br>SNS나 채팅 데이터에는 ㅎㅎ 또는 ㅋㅋ와 같은 이모티콘의 경우 불필요하게 연속되는 경우가 많은데 ㅋㅋㅋㅋ,ㅋㅋㅋㅋㅋ,ㅋㅋㅋㅋㅋㅋ와 같은 경우를 모두 서로 다른 단어로 처리하는 것은 불필요하다. 이에 반복되는 것을 하나로 정규화 시킨다."
   ]
  },
  {
   "cell_type": "code",
   "execution_count": 179,
   "id": "1e3c87a8",
   "metadata": {},
   "outputs": [],
   "source": [
    "from soynlp.normalizer import *"
   ]
  },
  {
   "cell_type": "code",
   "execution_count": 180,
   "id": "8c6ecc7b",
   "metadata": {
    "scrolled": true
   },
   "outputs": [
    {
     "name": "stdout",
     "output_type": "stream",
     "text": [
      "아ㅋㅋ영화존잼쓰ㅠㅠ\n",
      "아ㅋㅋ영화존잼쓰ㅠㅠ\n",
      "아ㅋㅋ영화존잼쓰ㅠㅠ\n"
     ]
    }
   ],
   "source": [
    "print(emoticon_normalize(\"앜ㅋㅋㅋㅋㅋㅋㅋㅋㅋ이영화존잼쓰ㅠㅠㅠㅠ\", num_repeats=2))\n",
    "print(emoticon_normalize(\"앜ㅋㅋㅋㅋㅋㅋㅋㅋㅋㅋㅋㅋㅋㅋㅋㅋ이영화존잼쓰ㅠㅠㅠㅠㅠㅠㅠㅠㅠ\", num_repeats=2))\n",
    "print(emoticon_normalize(\"앜ㅋㅋㅋㅋㅋㅋㅋㅋㅋㅋㅋㅋㅋㅋㅋㅋㅋㅋㅋㅋㅋ이영화존잼쓰ㅠㅠㅠㅠㅠㅠㅠㅠㅠㅠㅠ\", num_repeats=2))"
   ]
  },
  {
   "cell_type": "markdown",
   "id": "9d0e6c0a",
   "metadata": {},
   "source": [
    "의미없게 반복되는 것은 이모티콘에 한정되지 않는다."
   ]
  },
  {
   "cell_type": "code",
   "execution_count": 181,
   "id": "d0ec69cb",
   "metadata": {},
   "outputs": [
    {
     "name": "stdout",
     "output_type": "stream",
     "text": [
      "와하하핫\n",
      "와하하핫\n",
      "와하하핫\n"
     ]
    }
   ],
   "source": [
    "print(emoticon_normalize(\"와하하하하하하하하핫\", num_repeats=2))\n",
    "print(emoticon_normalize(\"와하하하하하하핫\", num_repeats=2))\n",
    "print(emoticon_normalize(\"와하하하하핫\", num_repeats=2))"
   ]
  },
  {
   "cell_type": "markdown",
   "id": "2c13183f",
   "metadata": {},
   "source": [
    "**5. Customised KoNLPy**<br>\n",
    "   - 영어권 언어는 띄어쓰기만 하여도, 단어 분리가 쉽지만 한국어는 그렇지 않다.\n",
    "   - 형태소 분석기는 사용자 사전을 추가할 수 있다. "
   ]
  },
  {
   "cell_type": "code",
   "execution_count": 182,
   "id": "a2f790e7",
   "metadata": {},
   "outputs": [
    {
     "name": "stderr",
     "output_type": "stream",
     "text": [
      "E:\\yujin\\anaconda3\\envs\\py37\\lib\\site-packages\\konlpy\\tag\\_okt.py:17: UserWarning: \"Twitter\" has changed to \"Okt\" since KoNLPy v0.4.5.\n",
      "  warn('\"Twitter\" has changed to \"Okt\" since KoNLPy v0.4.5.')\n"
     ]
    },
    {
     "data": {
      "text/plain": [
       "['은', '경이', '는', '사무실', '로', '갔습니다', '.']"
      ]
     },
     "execution_count": 182,
     "metadata": {},
     "output_type": "execute_result"
    }
   ],
   "source": [
    "from ckonlpy.tag import Twitter\n",
    "twitter = Twitter()\n",
    "twitter.morphs(\"은경이는 사무실로 갔습니다.\")"
   ]
  },
  {
   "cell_type": "markdown",
   "id": "27627aef",
   "metadata": {},
   "source": [
    "    - \"은경이\" 라는 단어가 \"은\", \"경이\"와 같이 분리된다. 이때, 형태소 분석기 Twitter에 add_dictionary(\"단어\",\"품사\")와 같은 형식으로 사전을 추가해줄 수 있다."
   ]
  },
  {
   "cell_type": "code",
   "execution_count": 183,
   "id": "65468466",
   "metadata": {},
   "outputs": [],
   "source": [
    "twitter.add_dictionary(\"은경이\", \"Noun\")"
   ]
  },
  {
   "cell_type": "code",
   "execution_count": 184,
   "id": "fdb10ae1",
   "metadata": {
    "scrolled": true
   },
   "outputs": [
    {
     "data": {
      "text/plain": [
       "['은경이', '는', '사무실', '로', '갔습니다', '.']"
      ]
     },
     "execution_count": 184,
     "metadata": {},
     "output_type": "execute_result"
    }
   ],
   "source": [
    "twitter.morphs(\"은경이는 사무실로 갔습니다.\")"
   ]
  },
  {
   "cell_type": "markdown",
   "id": "23840b70",
   "metadata": {},
   "source": [
    "'은경이'라는 단어가 제대로 하나의 토큰으로 인식하는 것을 확인할 수 있다."
   ]
  }
 ],
 "metadata": {
  "kernelspec": {
   "display_name": "py37",
   "language": "python",
   "name": "py37"
  },
  "language_info": {
   "codemirror_mode": {
    "name": "ipython",
    "version": 3
   },
   "file_extension": ".py",
   "mimetype": "text/x-python",
   "name": "python",
   "nbconvert_exporter": "python",
   "pygments_lexer": "ipython3",
   "version": "3.7.15"
  }
 },
 "nbformat": 4,
 "nbformat_minor": 5
}
