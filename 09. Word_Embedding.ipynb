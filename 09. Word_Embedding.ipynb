{
 "cells": [
  {
   "cell_type": "markdown",
   "id": "dc2221c3",
   "metadata": {},
   "source": [
    "### 영어/한국어 Word2Vec 실습"
   ]
  },
  {
   "cell_type": "markdown",
   "id": "18ffdbcb",
   "metadata": {},
   "source": [
    "#### 1. 영어 word2vec 만들기"
   ]
  },
  {
   "cell_type": "code",
   "execution_count": 1,
   "id": "ff8fd46f",
   "metadata": {},
   "outputs": [],
   "source": [
    "import re\n",
    "import urllib.request\n",
    "import zipfile\n",
    "from lxml import etree\n",
    "from nltk.tokenize import word_tokenize, sent_tokenize\n",
    "from tqdm import tqdm"
   ]
  },
  {
   "cell_type": "code",
   "execution_count": 5,
   "id": "1a1269ce",
   "metadata": {
    "scrolled": true
   },
   "outputs": [
    {
     "data": {
      "text/plain": [
       "('ted_en-20160408.xml', <http.client.HTTPMessage at 0x232153efc08>)"
      ]
     },
     "execution_count": 5,
     "metadata": {},
     "output_type": "execute_result"
    }
   ],
   "source": [
    "urllib.request.urlretrieve(\"https://raw.githubusercontent.com/ukairia777/tensorflow-nlp-tutorial/main/09.%20Word%20Embedding/dataset/ted_en-20160408.xml\", filename=\"ted_en-20160408.xml\")"
   ]
  },
  {
   "cell_type": "code",
   "execution_count": 6,
   "id": "2d9c9e91",
   "metadata": {},
   "outputs": [],
   "source": [
    "%time\n",
    "targetXML = open('ted_en-20160408.xml', 'r', encoding='UTF8')\n",
    "target_text = etree.parse(targetXML)\n",
    "\n",
    "# xml 파일로부터 <content>와 </content> 사이의 내용만 가져온다\n",
    "parse_text = '\\n'.join(target_text.xpath('//content/text()'))\n",
    "\n",
    "# 정규표현식 sub을 이용해 중간중간 등장하는 (Audio), (Laugther)등의 배경 부분 제거\n",
    "content_text = re.sub(r'\\([^)]*\\)', '', parse_text)\n",
    "\n",
    "#입력 코퍼스에 대해서 NLTK를 이용하여 문장 토큰화 진행\n",
    "sent_text = sent_tokenize(content_text)\n",
    "\n",
    "# 각 문장의 구두점을 제거하고, 대문자를 소문자 전환\n",
    "normalized_text = []\n",
    "for string in tqdm(sent_text):\n",
    "    tokens = re.sub(r\"[^a-zA-Z0-9]+\", \" \", string.lower())\n",
    "    normalized_text.append(tokens)\n",
    "\n",
    "# 각 문장에 대해서 NLTK를 이용해 단어 토큰화를 진행\n",
    "results = [word_tokenize(sentence) for sentence in normalized_text]"
   ]
  },
  {
   "cell_type": "code",
   "execution_count": 7,
   "id": "241e1ad6",
   "metadata": {},
   "outputs": [
    {
     "name": "stdout",
     "output_type": "stream",
     "text": [
      "총 샘플의 개수: 273380\n"
     ]
    }
   ],
   "source": [
    "print(\"총 샘플의 개수: {}\".format(len(results)))"
   ]
  },
  {
   "cell_type": "code",
   "execution_count": 8,
   "id": "51c67d17",
   "metadata": {},
   "outputs": [
    {
     "name": "stdout",
     "output_type": "stream",
     "text": [
      "['here', 'are', 'two', 'reasons', 'companies', 'fail', 'they', 'only', 'do', 'more', 'of', 'the', 'same', 'or', 'they', 'only', 'do', 'what', 's', 'new']\n",
      "['to', 'me', 'the', 'real', 'real', 'solution', 'to', 'quality', 'growth', 'is', 'figuring', 'out', 'the', 'balance', 'between', 'two', 'activities', 'exploration', 'and', 'exploitation']\n",
      "['both', 'are', 'necessary', 'but', 'it', 'can', 'be', 'too', 'much', 'of', 'a', 'good', 'thing']\n"
     ]
    }
   ],
   "source": [
    "for line in results[:3]:\n",
    "    print(line)"
   ]
  }
 ],
 "metadata": {
  "kernelspec": {
   "display_name": "py37",
   "language": "python",
   "name": "py37"
  },
  "language_info": {
   "codemirror_mode": {
    "name": "ipython",
    "version": 3
   },
   "file_extension": ".py",
   "mimetype": "text/x-python",
   "name": "python",
   "nbconvert_exporter": "python",
   "pygments_lexer": "ipython3",
   "version": "3.7.15"
  }
 },
 "nbformat": 4,
 "nbformat_minor": 5
}
