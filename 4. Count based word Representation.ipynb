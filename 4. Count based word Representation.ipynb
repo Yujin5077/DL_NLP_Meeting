{
 "cells": [
  {
   "cell_type": "markdown",
   "id": "be07efee",
   "metadata": {},
   "source": [
    "### 04. 카운트 기반의 단어 표현(Count based word Representation)\n",
    "    - 텍스트를 표현 하는 방법 중에서 카운트 기반의 텍스트 표현 방법인 DTM(Document Term Matrix)과 TF-IDF(Term Frequency-Inverse Document Frequency)에 대해 다룬다.\n",
    "    - 텍스트를 수치화하면, 통계적인 접근 방법을 통해 여러 문서로 이루어진 텍스트 데이터가 있을 때 어떤 단위가 특정 문서 내에서 얼마나 중요한 것인지를 나타내고, 문서의 핵심 추출, 검색 엔진에서 검색 결과의 순위 결정, 문서들 간의 유사도를 구하는 등의 용도로 사용 가능하다."
   ]
  },
  {
   "cell_type": "markdown",
   "id": "4aab0a84",
   "metadata": {},
   "source": [
    "#### BoW\n",
    "    - 빈도수 기반 단어 표현 방법\n",
    "    - 단어의 순서는 고려하지 않고 단어의 출현 빈도에만 집중하는 텍스트 데이터 수치화 표현 방법"
   ]
  },
  {
   "cell_type": "code",
   "execution_count": 1,
   "id": "9b099698",
   "metadata": {},
   "outputs": [],
   "source": [
    "from konlpy.tag import Okt\n",
    "\n",
    "okt = Okt()\n",
    "\n",
    "def build_bag_of_words(doc):\n",
    "    # 온점 제거 및 형태소 분석\n",
    "    doc = doc.replace(\".\", \"\")\n",
    "    tokenized_doc = okt.morphs(doc)\n",
    "    \n",
    "    word_to_index = {}\n",
    "    bow = []\n",
    "    \n",
    "    for word in tokenized_doc:\n",
    "        if word not in word_to_index.keys():\n",
    "            word_to_index[word] = len(word_to_index)\n",
    "            #bow에 전부 기본값 1을 넣는다.\n",
    "            bow.insert(len(word_to_index) - 1, 1)\n",
    "        else:\n",
    "            #재등장하는 단어의 인덱스\n",
    "            index = word_to_index.get(word)\n",
    "            #재등장하는 단어는 해당하는 인덱스의 위치에 +1\n",
    "            bow[index] += 1\n",
    "    return word_to_index, bow"
   ]
  },
  {
   "cell_type": "code",
   "execution_count": 2,
   "id": "0a402b40",
   "metadata": {
    "scrolled": true
   },
   "outputs": [
    {
     "name": "stdout",
     "output_type": "stream",
     "text": [
      "vocabulary: {'정부': 0, '가': 1, '발표': 2, '하는': 3, '물가상승률': 4, '과': 5, '소비자': 6, '느끼는': 7, '은': 8, '다르다': 9}\n",
      "bag of words vector: [1, 2, 1, 1, 2, 1, 1, 1, 1, 1]\n"
     ]
    }
   ],
   "source": [
    "doc1 = \"정부가 발표하는 물가상승률과 소비자가 느끼는 물가상승률은 다르다.\"\n",
    "\n",
    "vocab, bow = build_bag_of_words(doc1)\n",
    "print(\"vocabulary:\", vocab)\n",
    "print(\"bag of words vector:\", bow)"
   ]
  },
  {
   "cell_type": "markdown",
   "id": "68688b77",
   "metadata": {},
   "source": [
    "    - 한국어에서 불용어에 해당되는 조사들을 제거한다면, 더 정제된 BoW를 만들 수 있다."
   ]
  },
  {
   "cell_type": "code",
   "execution_count": 3,
   "id": "fa34115d",
   "metadata": {},
   "outputs": [
    {
     "name": "stdout",
     "output_type": "stream",
     "text": [
      "vocabulary: {'소비자': 0, '는': 1, '주로': 2, '소비': 3, '하는': 4, '상품': 5, '을': 6, '기준': 7, '으로': 8, '물가': 9, '상': 10, '승률': 11, '느낀다': 12}\n",
      "bag of words vector: [1, 1, 1, 1, 1, 1, 2, 1, 1, 1, 1, 1, 1]\n"
     ]
    }
   ],
   "source": [
    "doc2 = \"소비자는 주로 소비하는 상품을 기준으로 물가 상승률을 느낀다.\"\n",
    "\n",
    "vocab, bow = build_bag_of_words(doc2)\n",
    "print(\"vocabulary:\",vocab)\n",
    "print(\"bag of words vector:\", bow)"
   ]
  },
  {
   "cell_type": "code",
   "execution_count": 4,
   "id": "4736897f",
   "metadata": {},
   "outputs": [
    {
     "name": "stdout",
     "output_type": "stream",
     "text": [
      "vocabulary: {'정부': 0, '가': 1, '발표': 2, '하는': 3, '물가상승률': 4, '과': 5, '소비자': 6, '느끼는': 7, '은': 8, '다르다': 9, '는': 10, '주로': 11, '소비': 12, '상품': 13, '을': 14, '기준': 15, '으로': 16, '물가': 17, '상': 18, '승률': 19, '느낀다': 20}\n",
      "bag of words vactor: [1, 2, 1, 2, 2, 1, 2, 1, 1, 1, 1, 1, 1, 1, 2, 1, 1, 1, 1, 1, 1]\n"
     ]
    }
   ],
   "source": [
    "doc3 = doc1 + ' ' + doc2\n",
    "\n",
    "vocab, bow = build_bag_of_words(doc3)\n",
    "print(\"vocabulary:\", vocab)\n",
    "print(\"bag of words vactor:\", bow)"
   ]
  },
  {
   "cell_type": "code",
   "execution_count": 5,
   "id": "9eacbf66",
   "metadata": {},
   "outputs": [],
   "source": [
    "#vocab이 존재하고 해당 vocab에 대한 BoW 구하기\n",
    "def build_bag_of_words(vocab, doc):\n",
    "    # 온점 제거 및 형태소 분석\n",
    "    doc = doc.replace(\".\", \"\")\n",
    "    tokenized_doc = okt.morphs(doc)\n",
    "    \n",
    "    word_to_index = vocab\n",
    "    bow = [0 for i in range(len(vocab))]\n",
    "    \n",
    "    for word in tokenized_doc:\n",
    "        index = word_to_index.get(word)\n",
    "        bow[index] += 1\n",
    "    return bow"
   ]
  },
  {
   "cell_type": "code",
   "execution_count": 6,
   "id": "a5638ef8",
   "metadata": {},
   "outputs": [
    {
     "name": "stdout",
     "output_type": "stream",
     "text": [
      "bag of words vactor: [1, 2, 1, 1, 2, 1, 1, 1, 1, 1, 0, 0, 0, 0, 0, 0, 0, 0, 0, 0, 0]\n"
     ]
    }
   ],
   "source": [
    "#doc3의 Vocab에 대한 doc1의 BoW\n",
    "bow = build_bag_of_words(vocab, doc1)\n",
    "print(\"bag of words vactor:\", bow)"
   ]
  },
  {
   "cell_type": "code",
   "execution_count": 7,
   "id": "e302668d",
   "metadata": {
    "scrolled": true
   },
   "outputs": [
    {
     "name": "stdout",
     "output_type": "stream",
     "text": [
      "bag of words vactor: [0, 0, 0, 1, 0, 0, 1, 0, 0, 0, 1, 1, 1, 1, 2, 1, 1, 1, 1, 1, 1]\n"
     ]
    }
   ],
   "source": [
    "#doc3의 Vocab에 대한 doc2의 BoW\n",
    "bow = build_bag_of_words(vocab, doc2)\n",
    "print(\"bag of words vactor:\", bow)"
   ]
  },
  {
   "cell_type": "markdown",
   "id": "e84032d5",
   "metadata": {},
   "source": [
    "BoW는 각 단어가 등장한 횟수를 수치화하는 텍스트 표현 방법이므로 주로 어떤 단어가 등장했는지를 기준으로 문서가 어떤 성격의 문서인지를 판단하는 작업에 쓰인다. "
   ]
  },
  {
   "cell_type": "markdown",
   "id": "220550e9",
   "metadata": {},
   "source": [
    "주로 분류 문제나 여러 문서 간의 유사도를 기준으로 어떤 성격의 문서인지를 판단하는 작업으로 쓰인다."
   ]
  },
  {
   "cell_type": "markdown",
   "id": "64c9938e",
   "metadata": {},
   "source": [
    "#### countVectorizer 클래스로 BoW 만들기\n",
    "    - 사이킷 런에서는 단어의 빈도를 Count하여 Vector로 만드는 CountVectorizer 클래스를 지원한다. "
   ]
  },
  {
   "cell_type": "code",
   "execution_count": 8,
   "id": "2c3052b4",
   "metadata": {},
   "outputs": [
    {
     "name": "stdout",
     "output_type": "stream",
     "text": [
      "bag of words vector: [[1 1 2 1 2 1]]\n",
      "vocabulary: {'you': 4, 'know': 1, 'want': 3, 'your': 5, 'love': 2, 'because': 0}\n"
     ]
    }
   ],
   "source": [
    "from sklearn.feature_extraction.text import CountVectorizer\n",
    "\n",
    "corpus = ['you know I want your love. because I love you.']\n",
    "vector = CountVectorizer()\n",
    "\n",
    "# 코퍼스로부터 각 단어의 빈도수를 기록\n",
    "print(\"bag of words vector:\", vector.fit_transform(corpus).toarray())\n",
    "\n",
    "# 각 단어의 인덱스가 어떻게 부여되었는지를 출력\n",
    "print('vocabulary:', vector.vocabulary_)"
   ]
  },
  {
   "cell_type": "markdown",
   "id": "48fb6130",
   "metadata": {},
   "source": [
    "    - you, love는 두 번씩 언급되었으므로 각각 인덱스2와 인덱스4에서 2의 값을 가짐\n",
    "    - 영어에서는 길이가 짧은 문자를 제거하는 것이 전처리 작업으로 고려됨\n",
    "    - 주의할 점은 CountVectorzier은 단지 띄어쓰기만을 기준으로 단어를 자르는 토큰화를 진행하여 BoW를 만든다. \n",
    "   **=> 이는 영어는 문제 없지만 한국어에서는 BoW가 제대로 만들어지지않음**"
   ]
  },
  {
   "cell_type": "markdown",
   "id": "8ae8c455",
   "metadata": {},
   "source": [
    "#### 불용어를 제거한 BoW 만들기\n",
    "    - 영어의 BoW를 만들기 위해 사용하는 CountVectorizer은 불용어를 지정하면, 제외하고 만들 수 있는 기능을 지원한다."
   ]
  },
  {
   "cell_type": "code",
   "execution_count": 9,
   "id": "ef16a9ac",
   "metadata": {},
   "outputs": [],
   "source": [
    "from sklearn.feature_extraction.text import CountVectorizer\n",
    "from nltk.corpus import stopwords"
   ]
  },
  {
   "cell_type": "code",
   "execution_count": 10,
   "id": "c719f918",
   "metadata": {},
   "outputs": [
    {
     "name": "stdout",
     "output_type": "stream",
     "text": [
      "bag of words vector: [[1 1 1 1 1]]\n",
      "vocabulary: {'family': 1, 'important': 2, 'thing': 4, 'it': 3, 'everything': 0}\n"
     ]
    }
   ],
   "source": [
    "# 사용자 지정 불용어\n",
    "text = [\"Family is not an important thing. It's everything.\"]\n",
    "vect = CountVectorizer(stop_words=[\"the\", \"a\", \"an\", \"is\", \"not\"])\n",
    "\n",
    "print(\"bag of words vector:\", vect.fit_transform(text).toarray())\n",
    "print(\"vocabulary:\", vect.vocabulary_)"
   ]
  },
  {
   "cell_type": "code",
   "execution_count": 11,
   "id": "1715243c",
   "metadata": {},
   "outputs": [
    {
     "name": "stdout",
     "output_type": "stream",
     "text": [
      "bag of words vector: [[1 1 1]]\n",
      "vocabulary: {'family': 0, 'important': 1, 'thing': 2}\n"
     ]
    }
   ],
   "source": [
    "# CountVectorizer 자체 지원 불용어\n",
    "text = [\"Family is not an important thing. It's everything.\"]\n",
    "vect = CountVectorizer(stop_words=\"english\")\n",
    "\n",
    "print(\"bag of words vector:\", vect.fit_transform(text).toarray())\n",
    "print(\"vocabulary:\", vect.vocabulary_)"
   ]
  },
  {
   "cell_type": "code",
   "execution_count": 12,
   "id": "51de0663",
   "metadata": {},
   "outputs": [
    {
     "name": "stdout",
     "output_type": "stream",
     "text": [
      "bag of words vector: [[1 1 1 1]]\n",
      "vocabulary: {'family': 1, 'important': 2, 'thing': 3, 'everything': 0}\n"
     ]
    }
   ],
   "source": [
    "# NLTK 지원 불용어\n",
    "text = [\"Family is not an important thing. It's everything.\"]\n",
    "stop_words = stopwords.words(\"english\")\n",
    "vect = CountVectorizer(stop_words=stop_words)\n",
    "\n",
    "print(\"bag of words vector:\", vect.fit_transform(text).toarray())\n",
    "print(\"vocabulary:\", vect.vocabulary_)"
   ]
  },
  {
   "cell_type": "markdown",
   "id": "b40c2bd4",
   "metadata": {},
   "source": [
    "----------"
   ]
  },
  {
   "cell_type": "markdown",
   "id": "459df9a9",
   "metadata": {},
   "source": [
    "### 문서 단어 행렬(Document-Term Matrix, DTM)\n",
    "    - 서로 다른 문서들의 BoW를 결합한 표현 문서 방법이다. \n",
    "    - 행과 열을 반대로 선택하면 TDM이라고 부르기도 한다.\n",
    "    - 서로 다른 문서들을 비교할 수 있게 된다."
   ]
  },
  {
   "cell_type": "code",
   "execution_count": 13,
   "id": "56f9ada1",
   "metadata": {},
   "outputs": [],
   "source": [
    "doc1 = \"먹고 싶은 사과\"\n",
    "doc2 = \"먹고 싶은 바나나\"\n",
    "doc3 = \"길고 노란 바나나 바나나\"\n",
    "doc4 = \"저는 과일이 좋아요\""
   ]
  },
  {
   "cell_type": "code",
   "execution_count": 14,
   "id": "576de33a",
   "metadata": {},
   "outputs": [
    {
     "name": "stdout",
     "output_type": "stream",
     "text": [
      "모든 단어 집합: 먹고 싶은 사과 먹고 싶은 바나나 길고 노란 바나나 바나나 저는 과일이 좋아요\n"
     ]
    }
   ],
   "source": [
    "all_doc = doc1 + \" \" + doc2 + \" \" + doc3 + \" \" + doc4\n",
    "\n",
    "print(\"모든 단어 집합:\", all_doc)"
   ]
  },
  {
   "cell_type": "markdown",
   "id": "711cc6c3",
   "metadata": {},
   "source": [
    "**교재의 예제상에서 띄어쓰기 단위 토큰화를 수행하여 해당 토큰화를 진행**"
   ]
  },
  {
   "cell_type": "code",
   "execution_count": 15,
   "id": "032947cc",
   "metadata": {},
   "outputs": [
    {
     "name": "stdout",
     "output_type": "stream",
     "text": [
      "겹치는 단어가 없는 단어 집합: {'먹고', '사과', '저는', '좋아요', '바나나', '싶은', '길고', '노란', '과일이'}\n"
     ]
    }
   ],
   "source": [
    "import re\n",
    "\n",
    "all_doc = set(re.split(\" \", all_doc))\n",
    "print(\"겹치는 단어가 없는 단어 집합:\", all_doc)"
   ]
  },
  {
   "cell_type": "markdown",
   "id": "129c1e3d",
   "metadata": {},
   "source": [
    "index를 달아줌"
   ]
  },
  {
   "cell_type": "code",
   "execution_count": 16,
   "id": "70519848",
   "metadata": {},
   "outputs": [
    {
     "data": {
      "text/plain": [
       "{'먹고': 0,\n",
       " '사과': 1,\n",
       " '저는': 2,\n",
       " '좋아요': 3,\n",
       " '바나나': 4,\n",
       " '싶은': 5,\n",
       " '길고': 6,\n",
       " '노란': 7,\n",
       " '과일이': 8}"
      ]
     },
     "execution_count": 16,
     "metadata": {},
     "output_type": "execute_result"
    }
   ],
   "source": [
    "vocab = {word: index for index, word in enumerate(all_doc)}\n",
    "vocab"
   ]
  },
  {
   "cell_type": "code",
   "execution_count": 17,
   "id": "1e8bcb4c",
   "metadata": {},
   "outputs": [],
   "source": [
    "def DTM(vocab, doc):\n",
    "    doc = doc.replace(\".\", \"\")\n",
    "    tokenized_doc = re.split(\" \", doc)\n",
    "    \n",
    "    vocab = vocab\n",
    "    DTM = [0 for i in range(len(all_doc))]\n",
    "    \n",
    "    for i in tokenized_doc:\n",
    "        index = vocab.get(i)\n",
    "        DTM[index] += 1\n",
    "    return DTM"
   ]
  },
  {
   "cell_type": "code",
   "execution_count": 18,
   "id": "c5daa8e9",
   "metadata": {},
   "outputs": [
    {
     "name": "stdout",
     "output_type": "stream",
     "text": [
      "문서 1의 DTM: [1, 1, 0, 0, 0, 1, 0, 0, 0]\n",
      "문서 2의 DTM: [1, 0, 0, 0, 1, 1, 0, 0, 0]\n",
      "문서 3의 DTM: [0, 0, 0, 0, 2, 0, 1, 1, 0]\n",
      "문서 4의 DTM: [0, 0, 1, 1, 0, 0, 0, 0, 1]\n"
     ]
    }
   ],
   "source": [
    "print(\"문서 1의 DTM:\", DTM(vocab, doc1))\n",
    "print(\"문서 2의 DTM:\", DTM(vocab, doc2))\n",
    "print(\"문서 3의 DTM:\", DTM(vocab, doc3))\n",
    "print(\"문서 4의 DTM:\", DTM(vocab, doc4))"
   ]
  },
  {
   "attachments": {
    "image.png": {
     "image/png": "[encoded data removed]"
    }
   },
   "cell_type": "markdown",
   "id": "b28c3917",
   "metadata": {},
   "source": [
    "![image.png](attachment:image.png)\n",
    "위의 이미지와는 단어의 순서가 달라 결과는 다르지만 해당 단어의 카운트를 보면 답이 일치하는 것을 확인 가능하다."
   ]
  },
  {
   "cell_type": "markdown",
   "id": "6cb62846",
   "metadata": {},
   "source": [
    "### TF-IDF\n",
    "    - DTM 내에 각 단어들에 대해 중요도를 계산 할 수 있는 것이 TF-IDF이다.\n",
    "    - TF-IDF를 사용하면 기존 DTM보다 많은 정보를 고려할 수 있다.\n",
    "위의 DTM은 TF가 된다."
   ]
  },
  {
   "cell_type": "code",
   "execution_count": 19,
   "id": "77eb8253",
   "metadata": {},
   "outputs": [],
   "source": [
    "import math\n",
    "import numpy as np"
   ]
  },
  {
   "cell_type": "code",
   "execution_count": 20,
   "id": "7b340c2e",
   "metadata": {},
   "outputs": [
    {
     "name": "stdout",
     "output_type": "stream",
     "text": [
      "[[1, 1, 0, 0, 0, 1, 0, 0, 0], [1, 0, 0, 0, 1, 1, 0, 0, 0], [0, 0, 0, 0, 2, 0, 1, 1, 0], [0, 0, 1, 1, 0, 0, 0, 0, 1]]\n"
     ]
    }
   ],
   "source": [
    "DTM = [DTM(vocab, doc1), DTM(vocab, doc2), DTM(vocab, doc3), DTM(vocab, doc4)]\n",
    "print(DTM)"
   ]
  },
  {
   "cell_type": "code",
   "execution_count": 21,
   "id": "28245d1e",
   "metadata": {},
   "outputs": [
    {
     "data": {
      "text/plain": [
       "4"
      ]
     },
     "execution_count": 21,
     "metadata": {},
     "output_type": "execute_result"
    }
   ],
   "source": [
    "len(DTM)"
   ]
  },
  {
   "cell_type": "code",
   "execution_count": 22,
   "id": "4af69ab3",
   "metadata": {},
   "outputs": [
    {
     "data": {
      "text/plain": [
       "[1, 1, 0, 0, 0, 1, 0, 0, 0]"
      ]
     },
     "execution_count": 22,
     "metadata": {},
     "output_type": "execute_result"
    }
   ],
   "source": [
    "DTM[0]"
   ]
  },
  {
   "cell_type": "code",
   "execution_count": 23,
   "id": "ea64588c",
   "metadata": {},
   "outputs": [],
   "source": [
    "def TF_IDF(DTM):\n",
    "    n = len(DTM)\n",
    "    word_index = len(DTM[0])\n",
    "    \n",
    "    IDF = [0 for i in range(len(DTM[0]))]\n",
    "    \n",
    "    for i in range(n):\n",
    "        for j in range(word_index):\n",
    "            if DTM[i][j] != 0:\n",
    "                IDF[j] += 1\n",
    "    for i in range(word_index):\n",
    "        DF = IDF[i] + 1\n",
    "        IDF[i] = np.log(n/(DF)) \n",
    "    return IDF"
   ]
  },
  {
   "cell_type": "code",
   "execution_count": 24,
   "id": "99984fb4",
   "metadata": {},
   "outputs": [
    {
     "data": {
      "text/plain": [
       "[0.28768207245178085,\n",
       " 0.6931471805599453,\n",
       " 0.6931471805599453,\n",
       " 0.6931471805599453,\n",
       " 0.28768207245178085,\n",
       " 0.28768207245178085,\n",
       " 0.6931471805599453,\n",
       " 0.6931471805599453,\n",
       " 0.6931471805599453]"
      ]
     },
     "execution_count": 24,
     "metadata": {},
     "output_type": "execute_result"
    }
   ],
   "source": [
    "TF_IDF(DTM)"
   ]
  },
  {
   "attachments": {
    "image.png": {
     "image/png": "[encoded data removed]"
    }
   },
   "cell_type": "markdown",
   "id": "75079970",
   "metadata": {},
   "source": [
    "![image.png](attachment:image.png)\n",
    "    \n",
    "    - '바나나', '길고', '노란', '저는', '먹고', '좋아요', '과일이', '사과', '싶은'\n",
    "    - TF-IDF를 위의 글자 순으로 표와 비교를 해보면 일치하는 것을 확인 할 수 있다.\n",
    "    - 이제 내가 만든 TF-IDF를 원래 문서 값들에 대한 벡터값에 넣어준다."
   ]
  },
  {
   "cell_type": "code",
   "execution_count": 25,
   "id": "7888c01c",
   "metadata": {},
   "outputs": [],
   "source": [
    "def TF_IDF(DTM):\n",
    "    n = len(DTM)\n",
    "    word_index = len(DTM[0])\n",
    "    \n",
    "    IDF = [0 for i in range(len(DTM[0]))]\n",
    "    \n",
    "    # 문서에 해당된 언급 갯수와 상관 없이 문서 개수만 추가\n",
    "    for i in range(n):\n",
    "        for j in range(word_index):\n",
    "            if DTM[i][j] != 0:\n",
    "                IDF[j] += 1\n",
    "    \n",
    "    # IDF 값을 계산\n",
    "    for i in range(word_index):\n",
    "        DF = IDF[i] + 1\n",
    "        IDF[i] = np.log(n/(DF))\n",
    "        \n",
    "    for i in range(n):\n",
    "        for j in range(word_index):\n",
    "            if DTM[i][j] != 0:\n",
    "                DTM[i][j] = IDF[j]\n",
    "    return IDF, DTM"
   ]
  },
  {
   "cell_type": "code",
   "execution_count": 26,
   "id": "37b99687",
   "metadata": {},
   "outputs": [
    {
     "name": "stdout",
     "output_type": "stream",
     "text": [
      "각 단어에 대한 IDF: [0.28768207245178085, 0.6931471805599453, 0.6931471805599453, 0.6931471805599453, 0.28768207245178085, 0.28768207245178085, 0.6931471805599453, 0.6931471805599453, 0.6931471805599453]\n",
      "\n",
      "doc1의 TF-IDF: [0.28768207245178085, 0.6931471805599453, 0, 0, 0, 0.28768207245178085, 0, 0, 0]\n",
      "doc2의 TF-IDF: [0.28768207245178085, 0, 0, 0, 0.28768207245178085, 0.28768207245178085, 0, 0, 0]\n",
      "doc3의 TF-IDF: [0, 0, 0, 0, 0.28768207245178085, 0, 0.6931471805599453, 0.6931471805599453, 0]\n",
      "doc4의 TF-IDF: [0, 0, 0.6931471805599453, 0.6931471805599453, 0, 0, 0, 0, 0.6931471805599453]\n"
     ]
    }
   ],
   "source": [
    "idf, dtm = TF_IDF(DTM)\n",
    "print(\"각 단어에 대한 IDF:\", idf)\n",
    "print(\"\\ndoc1의 TF-IDF:\", dtm[0])\n",
    "print(\"doc2의 TF-IDF:\", dtm[1])\n",
    "print(\"doc3의 TF-IDF:\", dtm[2])\n",
    "print(\"doc4의 TF-IDF:\", dtm[3])"
   ]
  },
  {
   "cell_type": "markdown",
   "id": "edb716c9",
   "metadata": {},
   "source": [
    "**여기까지 TF-IDF는 교재상의 코드가 아니라 직접 실습을 해본 결과이다**\n",
    "    \n",
    "    - 여기부터는 교재상의 코드로 실습을 진행해보겠다."
   ]
  },
  {
   "cell_type": "markdown",
   "id": "8f58a8e9",
   "metadata": {},
   "source": [
    "#### 파이썬으로 TF-IDF 직접 구현하기"
   ]
  },
  {
   "cell_type": "code",
   "execution_count": 27,
   "id": "bd3632ab",
   "metadata": {},
   "outputs": [],
   "source": [
    "import pandas as pd\n",
    "from math import log\n",
    "\n",
    "docs = [\n",
    "    \"먹고 싶은 사과\",\n",
    "    \"먹고 싶은 바나나\",\n",
    "    \"길고 노란 바나나 바나나\",\n",
    "    \"저는 과일이 좋아요\"\n",
    "]\n",
    "\n",
    "vocab = list(set(w for doc in docs for w in doc.split()))\n",
    "vocab.sort()"
   ]
  },
  {
   "cell_type": "code",
   "execution_count": 28,
   "id": "f1b4594e",
   "metadata": {},
   "outputs": [],
   "source": [
    "# 총 문서의 수\n",
    "N = len(docs)\n",
    "\n",
    "def tf(t, d):\n",
    "    return d.count(t)\n",
    "\n",
    "def idf(t):\n",
    "    df = 0\n",
    "    for doc in docs:\n",
    "        df += t in doc\n",
    "    return log(N/(df+1))\n",
    "\n",
    "def tfidf(t, d):\n",
    "    return tf(t,d) * idf(t)"
   ]
  },
  {
   "cell_type": "code",
   "execution_count": 29,
   "id": "7d7d2adc",
   "metadata": {},
   "outputs": [],
   "source": [
    "result = []\n",
    "\n",
    "# 각 문서에 대해서 아래 연산을 반복\n",
    "for i in range(N):\n",
    "    result.append([])\n",
    "    d = docs[i]\n",
    "    \n",
    "    for j in range(len(vocab)):\n",
    "        t = vocab[j]\n",
    "        result[-1].append(tf(t,d))\n",
    "        \n",
    "tf_ = pd.DataFrame(result, columns=vocab)"
   ]
  },
  {
   "cell_type": "code",
   "execution_count": 30,
   "id": "28948f74",
   "metadata": {
    "scrolled": true
   },
   "outputs": [
    {
     "data": {
      "text/html": [
       "<div>\n",
       "<style scoped>\n",
       "    .dataframe tbody tr th:only-of-type {\n",
       "        vertical-align: middle;\n",
       "    }\n",
       "\n",
       "    .dataframe tbody tr th {\n",
       "        vertical-align: top;\n",
       "    }\n",
       "\n",
       "    .dataframe thead th {\n",
       "        text-align: right;\n",
       "    }\n",
       "</style>\n",
       "<table border=\"1\" class=\"dataframe\">\n",
       "  <thead>\n",
       "    <tr style=\"text-align: right;\">\n",
       "      <th></th>\n",
       "      <th>과일이</th>\n",
       "      <th>길고</th>\n",
       "      <th>노란</th>\n",
       "      <th>먹고</th>\n",
       "      <th>바나나</th>\n",
       "      <th>사과</th>\n",
       "      <th>싶은</th>\n",
       "      <th>저는</th>\n",
       "      <th>좋아요</th>\n",
       "    </tr>\n",
       "  </thead>\n",
       "  <tbody>\n",
       "    <tr>\n",
       "      <th>0</th>\n",
       "      <td>0</td>\n",
       "      <td>0</td>\n",
       "      <td>0</td>\n",
       "      <td>1</td>\n",
       "      <td>0</td>\n",
       "      <td>1</td>\n",
       "      <td>1</td>\n",
       "      <td>0</td>\n",
       "      <td>0</td>\n",
       "    </tr>\n",
       "    <tr>\n",
       "      <th>1</th>\n",
       "      <td>0</td>\n",
       "      <td>0</td>\n",
       "      <td>0</td>\n",
       "      <td>1</td>\n",
       "      <td>1</td>\n",
       "      <td>0</td>\n",
       "      <td>1</td>\n",
       "      <td>0</td>\n",
       "      <td>0</td>\n",
       "    </tr>\n",
       "    <tr>\n",
       "      <th>2</th>\n",
       "      <td>0</td>\n",
       "      <td>1</td>\n",
       "      <td>1</td>\n",
       "      <td>0</td>\n",
       "      <td>2</td>\n",
       "      <td>0</td>\n",
       "      <td>0</td>\n",
       "      <td>0</td>\n",
       "      <td>0</td>\n",
       "    </tr>\n",
       "    <tr>\n",
       "      <th>3</th>\n",
       "      <td>1</td>\n",
       "      <td>0</td>\n",
       "      <td>0</td>\n",
       "      <td>0</td>\n",
       "      <td>0</td>\n",
       "      <td>0</td>\n",
       "      <td>0</td>\n",
       "      <td>1</td>\n",
       "      <td>1</td>\n",
       "    </tr>\n",
       "  </tbody>\n",
       "</table>\n",
       "</div>"
      ],
      "text/plain": [
       "   과일이  길고  노란  먹고  바나나  사과  싶은  저는  좋아요\n",
       "0    0   0   0   1    0   1   1   0    0\n",
       "1    0   0   0   1    1   0   1   0    0\n",
       "2    0   1   1   0    2   0   0   0    0\n",
       "3    1   0   0   0    0   0   0   1    1"
      ]
     },
     "execution_count": 30,
     "metadata": {},
     "output_type": "execute_result"
    }
   ],
   "source": [
    "tf_"
   ]
  },
  {
   "cell_type": "code",
   "execution_count": 31,
   "id": "d39a1bdd",
   "metadata": {},
   "outputs": [
    {
     "data": {
      "text/html": [
       "<div>\n",
       "<style scoped>\n",
       "    .dataframe tbody tr th:only-of-type {\n",
       "        vertical-align: middle;\n",
       "    }\n",
       "\n",
       "    .dataframe tbody tr th {\n",
       "        vertical-align: top;\n",
       "    }\n",
       "\n",
       "    .dataframe thead th {\n",
       "        text-align: right;\n",
       "    }\n",
       "</style>\n",
       "<table border=\"1\" class=\"dataframe\">\n",
       "  <thead>\n",
       "    <tr style=\"text-align: right;\">\n",
       "      <th></th>\n",
       "      <th>IDF</th>\n",
       "    </tr>\n",
       "  </thead>\n",
       "  <tbody>\n",
       "    <tr>\n",
       "      <th>과일이</th>\n",
       "      <td>0.693147</td>\n",
       "    </tr>\n",
       "    <tr>\n",
       "      <th>길고</th>\n",
       "      <td>0.693147</td>\n",
       "    </tr>\n",
       "    <tr>\n",
       "      <th>노란</th>\n",
       "      <td>0.693147</td>\n",
       "    </tr>\n",
       "    <tr>\n",
       "      <th>먹고</th>\n",
       "      <td>0.287682</td>\n",
       "    </tr>\n",
       "    <tr>\n",
       "      <th>바나나</th>\n",
       "      <td>0.287682</td>\n",
       "    </tr>\n",
       "    <tr>\n",
       "      <th>사과</th>\n",
       "      <td>0.693147</td>\n",
       "    </tr>\n",
       "    <tr>\n",
       "      <th>싶은</th>\n",
       "      <td>0.287682</td>\n",
       "    </tr>\n",
       "    <tr>\n",
       "      <th>저는</th>\n",
       "      <td>0.693147</td>\n",
       "    </tr>\n",
       "    <tr>\n",
       "      <th>좋아요</th>\n",
       "      <td>0.693147</td>\n",
       "    </tr>\n",
       "  </tbody>\n",
       "</table>\n",
       "</div>"
      ],
      "text/plain": [
       "          IDF\n",
       "과일이  0.693147\n",
       "길고   0.693147\n",
       "노란   0.693147\n",
       "먹고   0.287682\n",
       "바나나  0.287682\n",
       "사과   0.693147\n",
       "싶은   0.287682\n",
       "저는   0.693147\n",
       "좋아요  0.693147"
      ]
     },
     "execution_count": 31,
     "metadata": {},
     "output_type": "execute_result"
    }
   ],
   "source": [
    "result = []\n",
    "for j in range(len(vocab)):\n",
    "    t = vocab[j]\n",
    "    result.append(idf(t))\n",
    "    \n",
    "idf_ = pd.DataFrame(result, index=vocab, columns=[\"IDF\"])\n",
    "idf_"
   ]
  },
  {
   "cell_type": "code",
   "execution_count": 32,
   "id": "c91fcb92",
   "metadata": {
    "scrolled": true
   },
   "outputs": [
    {
     "data": {
      "text/html": [
       "<div>\n",
       "<style scoped>\n",
       "    .dataframe tbody tr th:only-of-type {\n",
       "        vertical-align: middle;\n",
       "    }\n",
       "\n",
       "    .dataframe tbody tr th {\n",
       "        vertical-align: top;\n",
       "    }\n",
       "\n",
       "    .dataframe thead th {\n",
       "        text-align: right;\n",
       "    }\n",
       "</style>\n",
       "<table border=\"1\" class=\"dataframe\">\n",
       "  <thead>\n",
       "    <tr style=\"text-align: right;\">\n",
       "      <th></th>\n",
       "      <th>과일이</th>\n",
       "      <th>길고</th>\n",
       "      <th>노란</th>\n",
       "      <th>먹고</th>\n",
       "      <th>바나나</th>\n",
       "      <th>사과</th>\n",
       "      <th>싶은</th>\n",
       "      <th>저는</th>\n",
       "      <th>좋아요</th>\n",
       "    </tr>\n",
       "  </thead>\n",
       "  <tbody>\n",
       "    <tr>\n",
       "      <th>0</th>\n",
       "      <td>0.000000</td>\n",
       "      <td>0.000000</td>\n",
       "      <td>0.000000</td>\n",
       "      <td>0.287682</td>\n",
       "      <td>0.000000</td>\n",
       "      <td>0.693147</td>\n",
       "      <td>0.287682</td>\n",
       "      <td>0.000000</td>\n",
       "      <td>0.000000</td>\n",
       "    </tr>\n",
       "    <tr>\n",
       "      <th>1</th>\n",
       "      <td>0.000000</td>\n",
       "      <td>0.000000</td>\n",
       "      <td>0.000000</td>\n",
       "      <td>0.287682</td>\n",
       "      <td>0.287682</td>\n",
       "      <td>0.000000</td>\n",
       "      <td>0.287682</td>\n",
       "      <td>0.000000</td>\n",
       "      <td>0.000000</td>\n",
       "    </tr>\n",
       "    <tr>\n",
       "      <th>2</th>\n",
       "      <td>0.000000</td>\n",
       "      <td>0.693147</td>\n",
       "      <td>0.693147</td>\n",
       "      <td>0.000000</td>\n",
       "      <td>0.575364</td>\n",
       "      <td>0.000000</td>\n",
       "      <td>0.000000</td>\n",
       "      <td>0.000000</td>\n",
       "      <td>0.000000</td>\n",
       "    </tr>\n",
       "    <tr>\n",
       "      <th>3</th>\n",
       "      <td>0.693147</td>\n",
       "      <td>0.000000</td>\n",
       "      <td>0.000000</td>\n",
       "      <td>0.000000</td>\n",
       "      <td>0.000000</td>\n",
       "      <td>0.000000</td>\n",
       "      <td>0.000000</td>\n",
       "      <td>0.693147</td>\n",
       "      <td>0.693147</td>\n",
       "    </tr>\n",
       "  </tbody>\n",
       "</table>\n",
       "</div>"
      ],
      "text/plain": [
       "        과일이        길고        노란        먹고       바나나        사과        싶은  \\\n",
       "0  0.000000  0.000000  0.000000  0.287682  0.000000  0.693147  0.287682   \n",
       "1  0.000000  0.000000  0.000000  0.287682  0.287682  0.000000  0.287682   \n",
       "2  0.000000  0.693147  0.693147  0.000000  0.575364  0.000000  0.000000   \n",
       "3  0.693147  0.000000  0.000000  0.000000  0.000000  0.000000  0.000000   \n",
       "\n",
       "         저는       좋아요  \n",
       "0  0.000000  0.000000  \n",
       "1  0.000000  0.000000  \n",
       "2  0.000000  0.000000  \n",
       "3  0.693147  0.693147  "
      ]
     },
     "execution_count": 32,
     "metadata": {},
     "output_type": "execute_result"
    }
   ],
   "source": [
    "result = []\n",
    "\n",
    "for i in range(N):\n",
    "    result.append([])\n",
    "    d = docs[i]\n",
    "    for j in range(len(vocab)):\n",
    "        t = vocab[j]\n",
    "        result[-1].append(tfidf(t, d))\n",
    "        \n",
    "tfidf_ = pd.DataFrame(result, columns=vocab)\n",
    "tfidf_"
   ]
  },
  {
   "cell_type": "markdown",
   "id": "f4e01ed4",
   "metadata": {},
   "source": [
    "    - TF-IDF 구현을 제공하는 많은 머신러닝 패키지들은 패키지마다 조금씩 상이하지만, 위에서 배운 식과 다른 조정된 식을 사용한다. \n",
    "    - 기본적인 식을 바탕으로 한 구현에는 문제점이 존재한다. \n",
    "    - if 문서의 수가 4개, df(t)의 값이 3일 경우 로그항의 분모와 분자가 같아진다. 이는 log의 진수값이 1이 되면서 idf(d,f)의 값이 0이 됨을 의미한다. \n",
    "    - 이와 같이 IDF값이 0이 된다면 가중치의 역할을 수행하지 못한다."
   ]
  },
  {
   "cell_type": "markdown",
   "id": "f8e28f67",
   "metadata": {},
   "source": [
    "#### 사이킷런을 이용한 DTM과 TF-IDF 실습"
   ]
  },
  {
   "cell_type": "code",
   "execution_count": 33,
   "id": "00ec737f",
   "metadata": {
    "scrolled": true
   },
   "outputs": [
    {
     "name": "stdout",
     "output_type": "stream",
     "text": [
      "[[0 1 0 1 0 1 0 1 1]\n",
      " [0 0 1 0 0 0 0 1 0]\n",
      " [1 0 0 0 1 0 1 0 0]]\n",
      "{'you': 7, 'know': 1, 'want': 5, 'your': 8, 'love': 3, 'like': 2, 'what': 6, 'should': 4, 'do': 0}\n"
     ]
    }
   ],
   "source": [
    "from sklearn.feature_extraction.text import CountVectorizer\n",
    "\n",
    "corpus = [\n",
    "    \"you know I want your love\",\n",
    "    \"I like you\",\n",
    "    \"what should I do\",\n",
    "]\n",
    "\n",
    "vector = CountVectorizer()\n",
    "\n",
    "# 코퍼스로부터 각 단어의 빈도수를 기록\n",
    "print(vector.fit_transform(corpus).toarray())\n",
    "\n",
    "# 각 단어와 맵핑된 인덱스를 출력\n",
    "print(vector.vocabulary_)"
   ]
  },
  {
   "cell_type": "code",
   "execution_count": 34,
   "id": "f440b848",
   "metadata": {
    "scrolled": true
   },
   "outputs": [
    {
     "name": "stdout",
     "output_type": "stream",
     "text": [
      "[[0.         0.46735098 0.         0.46735098 0.         0.46735098\n",
      "  0.         0.35543247 0.46735098]\n",
      " [0.         0.         0.79596054 0.         0.         0.\n",
      "  0.         0.60534851 0.        ]\n",
      " [0.57735027 0.         0.         0.         0.57735027 0.\n",
      "  0.57735027 0.         0.        ]]\n",
      "{'you': 7, 'know': 1, 'want': 5, 'your': 8, 'love': 3, 'like': 2, 'what': 6, 'should': 4, 'do': 0}\n"
     ]
    }
   ],
   "source": [
    "from sklearn.feature_extraction.text import TfidfVectorizer\n",
    "\n",
    "tfidfv = TfidfVectorizer().fit(corpus)\n",
    "print(tfidfv.transform(corpus).toarray())\n",
    "print(tfidfv.vocabulary_)"
   ]
  },
  {
   "cell_type": "markdown",
   "id": "69ada626",
   "metadata": {},
   "source": [
    "    - 사이킷런의 TF-IDF 수식은 기존의 수식과는 조금 다르니 확인 필요"
   ]
  }
 ],
 "metadata": {
  "kernelspec": {
   "display_name": "py37",
   "language": "python",
   "name": "py37"
  },
  "language_info": {
   "codemirror_mode": {
    "name": "ipython",
    "version": 3
   },
   "file_extension": ".py",
   "mimetype": "text/x-python",
   "name": "python",
   "nbconvert_exporter": "python",
   "pygments_lexer": "ipython3",
   "version": "3.7.15"
  }
 },
 "nbformat": 4,
 "nbformat_minor": 5
}
