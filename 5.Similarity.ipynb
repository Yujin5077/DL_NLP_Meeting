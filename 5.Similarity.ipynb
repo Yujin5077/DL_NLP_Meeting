{
 "cells": [
  {
   "cell_type": "markdown",
   "id": "71a14756",
   "metadata": {},
   "source": [
    "## Cosine Similarity"
   ]
  },
  {
   "cell_type": "markdown",
   "id": "7c7e5b59",
   "metadata": {},
   "source": [
    "### 코사인 유사도 "
   ]
  },
  {
   "attachments": {
    "image.png": {
     "image/png": "[encoded data removed]"
    }
   },
   "cell_type": "markdown",
   "id": "2a6f3ad4",
   "metadata": {},
   "source": [
    "    - 문서1: 저는 사과 좋아요\n",
    "    - 문서2: 저는 바나나 좋아요\n",
    "    - 문서3: 저는 바나나 좋아요 저는 바나나 좋아요\n",
    "    => 띄어쓰기 기준 토큰화, 문서 단어 행렬\n",
    "   ![image.png](attachment:image.png)"
   ]
  },
  {
   "cell_type": "code",
   "execution_count": 1,
   "id": "7c403b64",
   "metadata": {
    "scrolled": true
   },
   "outputs": [
    {
     "name": "stdout",
     "output_type": "stream",
     "text": [
      "문서 1과 문서 2의 코사인 유사도: 0.6666666666666667\n",
      "문서 1과 문서 3의 코사인 유사도: 0.6666666666666667\n",
      "문서 2과 문서 3의 코사인 유사도: 1.0000000000000002\n"
     ]
    }
   ],
   "source": [
    "import numpy as np\n",
    "from numpy import dot\n",
    "from numpy.linalg import norm\n",
    "\n",
    "def cos_sim(A, B):\n",
    "    return dot(A, B) / (norm(A)*norm(B))\n",
    "\n",
    "doc1 = np.array([0,1,1,1])\n",
    "doc2 = np.array([1,0,1,1])\n",
    "doc3 = np.array([2,0,2,2])\n",
    "\n",
    "print(\"문서 1과 문서 2의 코사인 유사도:\", cos_sim(doc1, doc2))\n",
    "print(\"문서 1과 문서 3의 코사인 유사도:\", cos_sim(doc1, doc3))\n",
    "print(\"문서 2과 문서 3의 코사인 유사도:\", cos_sim(doc2, doc3))"
   ]
  },
  {
   "cell_type": "markdown",
   "id": "e6cca35f",
   "metadata": {},
   "source": [
    "    - 문서1, 문서2간의 코사인 유사도와 문서1, 문서3의 유사도가 같다.\n",
    "    - 문서2와 문서3의 코사인 유사도는 1이 나온다 이는 빈도수가 동일하게 증가하는 경우느 기존의 문서와 빈도수가 증가한 유사도는 코사인 유사도가 같다는 뜻이다."
   ]
  },
  {
   "cell_type": "markdown",
   "id": "5e64f809",
   "metadata": {},
   "source": [
    "    - 코사인 유사도의 경우 유사도를 구할 때 벡터의 방향을 방향에 초점을 두어, 문서의 길이가 다른 상황에서 비교적 공정한 비교를 할 수 있다."
   ]
  },
  {
   "cell_type": "markdown",
   "id": "792d49cc",
   "metadata": {},
   "source": [
    "### 2. 유사도를 이용한 추천 시스템 구현하기"
   ]
  },
  {
   "cell_type": "code",
   "execution_count": 2,
   "id": "984bee39",
   "metadata": {},
   "outputs": [
    {
     "data": {
      "text/html": [
       "<div>\n",
       "<style scoped>\n",
       "    .dataframe tbody tr th:only-of-type {\n",
       "        vertical-align: middle;\n",
       "    }\n",
       "\n",
       "    .dataframe tbody tr th {\n",
       "        vertical-align: top;\n",
       "    }\n",
       "\n",
       "    .dataframe thead th {\n",
       "        text-align: right;\n",
       "    }\n",
       "</style>\n",
       "<table border=\"1\" class=\"dataframe\">\n",
       "  <thead>\n",
       "    <tr style=\"text-align: right;\">\n",
       "      <th></th>\n",
       "      <th>adult</th>\n",
       "      <th>belongs_to_collection</th>\n",
       "      <th>budget</th>\n",
       "      <th>genres</th>\n",
       "      <th>homepage</th>\n",
       "      <th>id</th>\n",
       "      <th>imdb_id</th>\n",
       "      <th>original_language</th>\n",
       "      <th>original_title</th>\n",
       "      <th>overview</th>\n",
       "      <th>...</th>\n",
       "      <th>release_date</th>\n",
       "      <th>revenue</th>\n",
       "      <th>runtime</th>\n",
       "      <th>spoken_languages</th>\n",
       "      <th>status</th>\n",
       "      <th>tagline</th>\n",
       "      <th>title</th>\n",
       "      <th>video</th>\n",
       "      <th>vote_average</th>\n",
       "      <th>vote_count</th>\n",
       "    </tr>\n",
       "  </thead>\n",
       "  <tbody>\n",
       "    <tr>\n",
       "      <th>0</th>\n",
       "      <td>False</td>\n",
       "      <td>{'id': 10194, 'name': 'Toy Story Collection', ...</td>\n",
       "      <td>30000000</td>\n",
       "      <td>[{'id': 16, 'name': 'Animation'}, {'id': 35, '...</td>\n",
       "      <td>http://toystory.disney.com/toy-story</td>\n",
       "      <td>862</td>\n",
       "      <td>tt0114709</td>\n",
       "      <td>en</td>\n",
       "      <td>Toy Story</td>\n",
       "      <td>Led by Woody, Andy's toys live happily in his ...</td>\n",
       "      <td>...</td>\n",
       "      <td>1995-10-30</td>\n",
       "      <td>373554033.0</td>\n",
       "      <td>81.0</td>\n",
       "      <td>[{'iso_639_1': 'en', 'name': 'English'}]</td>\n",
       "      <td>Released</td>\n",
       "      <td>NaN</td>\n",
       "      <td>Toy Story</td>\n",
       "      <td>False</td>\n",
       "      <td>7.7</td>\n",
       "      <td>5415.0</td>\n",
       "    </tr>\n",
       "    <tr>\n",
       "      <th>1</th>\n",
       "      <td>False</td>\n",
       "      <td>NaN</td>\n",
       "      <td>65000000</td>\n",
       "      <td>[{'id': 12, 'name': 'Adventure'}, {'id': 14, '...</td>\n",
       "      <td>NaN</td>\n",
       "      <td>8844</td>\n",
       "      <td>tt0113497</td>\n",
       "      <td>en</td>\n",
       "      <td>Jumanji</td>\n",
       "      <td>When siblings Judy and Peter discover an encha...</td>\n",
       "      <td>...</td>\n",
       "      <td>1995-12-15</td>\n",
       "      <td>262797249.0</td>\n",
       "      <td>104.0</td>\n",
       "      <td>[{'iso_639_1': 'en', 'name': 'English'}, {'iso...</td>\n",
       "      <td>Released</td>\n",
       "      <td>Roll the dice and unleash the excitement!</td>\n",
       "      <td>Jumanji</td>\n",
       "      <td>False</td>\n",
       "      <td>6.9</td>\n",
       "      <td>2413.0</td>\n",
       "    </tr>\n",
       "  </tbody>\n",
       "</table>\n",
       "<p>2 rows × 24 columns</p>\n",
       "</div>"
      ],
      "text/plain": [
       "   adult                              belongs_to_collection    budget  \\\n",
       "0  False  {'id': 10194, 'name': 'Toy Story Collection', ...  30000000   \n",
       "1  False                                                NaN  65000000   \n",
       "\n",
       "                                              genres  \\\n",
       "0  [{'id': 16, 'name': 'Animation'}, {'id': 35, '...   \n",
       "1  [{'id': 12, 'name': 'Adventure'}, {'id': 14, '...   \n",
       "\n",
       "                               homepage    id    imdb_id original_language  \\\n",
       "0  http://toystory.disney.com/toy-story   862  tt0114709                en   \n",
       "1                                   NaN  8844  tt0113497                en   \n",
       "\n",
       "  original_title                                           overview  ...  \\\n",
       "0      Toy Story  Led by Woody, Andy's toys live happily in his ...  ...   \n",
       "1        Jumanji  When siblings Judy and Peter discover an encha...  ...   \n",
       "\n",
       "  release_date      revenue runtime  \\\n",
       "0   1995-10-30  373554033.0    81.0   \n",
       "1   1995-12-15  262797249.0   104.0   \n",
       "\n",
       "                                    spoken_languages    status  \\\n",
       "0           [{'iso_639_1': 'en', 'name': 'English'}]  Released   \n",
       "1  [{'iso_639_1': 'en', 'name': 'English'}, {'iso...  Released   \n",
       "\n",
       "                                     tagline      title  video vote_average  \\\n",
       "0                                        NaN  Toy Story  False          7.7   \n",
       "1  Roll the dice and unleash the excitement!    Jumanji  False          6.9   \n",
       "\n",
       "  vote_count  \n",
       "0     5415.0  \n",
       "1     2413.0  \n",
       "\n",
       "[2 rows x 24 columns]"
      ]
     },
     "execution_count": 2,
     "metadata": {},
     "output_type": "execute_result"
    }
   ],
   "source": [
    "import pandas as pd\n",
    "from sklearn.feature_extraction.text import TfidfVectorizer\n",
    "from sklearn.metrics.pairwise import cosine_similarity\n",
    "\n",
    "data = pd.read_csv(\"movies_metadata.csv\", low_memory=False)\n",
    "data.head(2)"
   ]
  },
  {
   "cell_type": "code",
   "execution_count": 3,
   "id": "59fadef4",
   "metadata": {},
   "outputs": [],
   "source": [
    "# 상위 2만개의 샘플을 data에 저장\n",
    "data = data.head(20000)"
   ]
  },
  {
   "cell_type": "code",
   "execution_count": 4,
   "id": "1daa83bb",
   "metadata": {},
   "outputs": [
    {
     "name": "stdout",
     "output_type": "stream",
     "text": [
      "overview 열의 결측값의 수: 135\n"
     ]
    }
   ],
   "source": [
    "# overview 열에 존재하는 모든 결측값을 전부 카운트하여 출력\n",
    "print(\"overview 열의 결측값의 수:\", data[\"overview\"].isnull().sum())"
   ]
  },
  {
   "cell_type": "code",
   "execution_count": 5,
   "id": "52e64cbc",
   "metadata": {},
   "outputs": [],
   "source": [
    "# 결측값을 빈 값으로 대체\n",
    "data[\"overview\"] = data[\"overview\"].fillna(\"\")"
   ]
  },
  {
   "cell_type": "code",
   "execution_count": 6,
   "id": "b80b2e81",
   "metadata": {},
   "outputs": [
    {
     "name": "stdout",
     "output_type": "stream",
     "text": [
      "TF-IDF 행렬의 크기(shape): (20000, 47487)\n"
     ]
    }
   ],
   "source": [
    "tfidf = TfidfVectorizer(stop_words=\"english\")\n",
    "tfidf_matrix = tfidf.fit_transform(data[\"overview\"])\n",
    "print(\"TF-IDF 행렬의 크기(shape):\", tfidf_matrix.shape)"
   ]
  },
  {
   "cell_type": "markdown",
   "id": "56ca4a0e",
   "metadata": {},
   "source": [
    "TF-IDF의 행렬의 크기는 20,000개의 행을 가지고 47,847의 열을 가지는 행렬이다. 다시말해 20,000영화를 표현하기 위해서 총 47,487개의 단어가 사용되었음을 의미한다. 또는 47,847차원의 문서 벡터가 20,000개가 존재한다고 표현할 수 있다. "
   ]
  },
  {
   "cell_type": "code",
   "execution_count": 7,
   "id": "1a8855ef",
   "metadata": {
    "scrolled": true
   },
   "outputs": [
    {
     "name": "stdout",
     "output_type": "stream",
     "text": [
      "코사인 유사도 연산 결과: (20000, 20000)\n"
     ]
    }
   ],
   "source": [
    "cosine_sim = cosine_similarity(tfidf_matrix, tfidf_matrix)\n",
    "print(\"코사인 유사도 연산 결과:\", cosine_sim.shape)"
   ]
  },
  {
   "cell_type": "markdown",
   "id": "72485aa6",
   "metadata": {},
   "source": [
    "코사인 유사도의 결과로 20,000행, 20,000열의 행렬을 얻는다. 이는 20,000개의 각 문서벡터와 자기 자신을 포함한 20,000개의 문서 벡터간의 유사도가 기록된 행렬."
   ]
  },
  {
   "cell_type": "markdown",
   "id": "88a0b9d2",
   "metadata": {},
   "source": [
    "    - 기존 데이터 프레임으로부터 영황의 타이틀을 key, 영화의 인덱스를 value로 하는 딕셔너리 title_to_index를 만들어 준다."
   ]
  },
  {
   "cell_type": "code",
   "execution_count": 8,
   "id": "655b4623",
   "metadata": {},
   "outputs": [
    {
     "name": "stdout",
     "output_type": "stream",
     "text": [
      "4\n"
     ]
    }
   ],
   "source": [
    "title_to_index = dict(zip(data[\"title\"], data.index))\n",
    "\n",
    "# title이 Father of the Bride Part II인 인덱스 리턴\n",
    "idx = title_to_index[\"Father of the Bride Part II\"]\n",
    "print(idx)"
   ]
  },
  {
   "cell_type": "code",
   "execution_count": 9,
   "id": "141872d4",
   "metadata": {},
   "outputs": [],
   "source": [
    "def get_recommendations(title, cosine_sim=cosine_sim):\n",
    "    # 선택한 영화의 타이틀의 인덱스를 가지고 온다.\n",
    "    idx = title_to_index[title]\n",
    "    \n",
    "    # 해당 영화와 모든 영화와의 유사도를 가지고 온다.\n",
    "    sim_scores = list(enumerate(cosine_sim[idx]))\n",
    "    \n",
    "    #유사도에 따라 영화들을 정렬\n",
    "    sim_scores = sorted(sim_scores, key=lambda x: x[1], reverse=True)\n",
    "    \n",
    "    #가장 유사한 10개의 영화를 받아온다.\n",
    "    sim_scores = sim_scores[1:11]\n",
    "    \n",
    "    #가장 유사한 영화의 인덱스를 얻는다.\n",
    "    movies_indices = [idx[0] for idx in sim_scores]\n",
    "    \n",
    "    # 가장 유사한 10개의 영화의 제목을 리턴한다.\n",
    "    return data[\"title\"].iloc[movies_indices]"
   ]
  },
  {
   "cell_type": "code",
   "execution_count": 10,
   "id": "bfbb5a68",
   "metadata": {},
   "outputs": [
    {
     "data": {
      "text/plain": [
       "12481                            The Dark Knight\n",
       "150                               Batman Forever\n",
       "1328                              Batman Returns\n",
       "15511                 Batman: Under the Red Hood\n",
       "585                                       Batman\n",
       "9230          Batman Beyond: Return of the Joker\n",
       "18035                           Batman: Year One\n",
       "19792    Batman: The Dark Knight Returns, Part 1\n",
       "3095                Batman: Mask of the Phantasm\n",
       "10122                              Batman Begins\n",
       "Name: title, dtype: object"
      ]
     },
     "execution_count": 10,
     "metadata": {},
     "output_type": "execute_result"
    }
   ],
   "source": [
    "get_recommendations(\"The Dark Knight Rises\")"
   ]
  },
  {
   "cell_type": "markdown",
   "id": "9b445e7e",
   "metadata": {},
   "source": [
    "    - 처음의 영화가 다크나이트이고 그외에도 전부 배트맨 영황인것을 확인할 수 있다."
   ]
  },
  {
   "cell_type": "markdown",
   "id": "09606160",
   "metadata": {},
   "source": [
    "------"
   ]
  },
  {
   "attachments": {
    "image-2.png": {
     "image/png": "[encoded data removed]"
    },
    "image.png": {
     "image/png": "[encoded data removed]"
    }
   },
   "cell_type": "markdown",
   "id": "de8571c8",
   "metadata": {},
   "source": [
    "### 1. 유클리드 거리(Euclidiean distance)\n",
    "    - 두점 사이의 유클리드 거리의 공식은 다음과 같다.\n",
    "![image-2.png](attachment:image-2.png)\n",
    "\n",
    "    - 여러 문서에 대해서 유사도를 구하고자 유클리드 거리 공식을 사용하는 것은 단어의 총 개수만큼의 차원으로 확장하는 것과 같다\n",
    "    - 아래와 같은 DTM이 있다고 하자.\n",
    "   ![image.png](attachment:image.png)"
   ]
  },
  {
   "attachments": {
    "image.png": {
     "image/png": "[encoded data removed]"
    }
   },
   "cell_type": "markdown",
   "id": "0cd8f966",
   "metadata": {},
   "source": [
    "    - 단어의 개수가 4개이므로, 4차원 공간에서 3개의 문서를 배치하는 것과 같다\n",
    "    - 다음과 같은 문서Q가 있다고 할때 가장 유사한 문서를 찾고자 한다.\n",
    "   ![image.png](attachment:image.png)"
   ]
  },
  {
   "cell_type": "code",
   "execution_count": 11,
   "id": "63d5d4c7",
   "metadata": {},
   "outputs": [
    {
     "name": "stdout",
     "output_type": "stream",
     "text": [
      "문서 1과 문서 Q의 거리: 3.0\n",
      "문서 2과 문서 Q의 거리: 4.0\n",
      "문서 3과 문서 Q의 거리: 4.0\n"
     ]
    }
   ],
   "source": [
    "import numpy as np\n",
    "\n",
    "def dist(x, y):\n",
    "    return np.sqrt(np.sum(x - y)**2)\n",
    "\n",
    "doc1 = np.array((2, 3, 0, 1))\n",
    "doc2 = np.array((1, 2, 3, 1))\n",
    "doc3 = np.array((2, 1, 2, 2))\n",
    "\n",
    "docQ = np.array((1, 1, 0, 1))\n",
    "\n",
    "print(\"문서 1과 문서 Q의 거리:\", dist(doc1, docQ))\n",
    "print(\"문서 2과 문서 Q의 거리:\", dist(doc2, docQ))\n",
    "print(\"문서 3과 문서 Q의 거리:\", dist(doc3, docQ))"
   ]
  },
  {
   "cell_type": "markdown",
   "id": "d5949f1b",
   "metadata": {},
   "source": [
    "    - 유클리드 거리 값이 가장 작다는 것은 문서간의 거리가 가장 가깝다는 것을 뜻한다. 따라서 문서 1이 문서 Q와 가장 유사하다고 볼 수 있다."
   ]
  },
  {
   "cell_type": "markdown",
   "id": "5a2ceb6d",
   "metadata": {},
   "source": [
    "--------"
   ]
  },
  {
   "attachments": {
    "image.png": {
     "image/png": "[encoded data removed]"
    }
   },
   "cell_type": "markdown",
   "id": "61fb54ee",
   "metadata": {},
   "source": [
    "### 자카드 유사도(Jaccard similarity)\n",
    "    - A, B 두개의 집합이 있다고 할때, 합집합과 교집합의 비율을 구한다면 두 집합 A,B의 유사도를 구할 수 있다는 것이 자카드 유사도의 아이디어이다. \n",
    "    - 자카드 유사도는 0과 1사이의 값을 가지며, 두 집합이 동일하다면 1값을 가지고, 두집합의 공통 원소가 없다면 0을 가진다. \n",
    "    - 자카드 유사도를 구하는 함수를 J라고 할때 함수 J는 다음과 같다.\n",
    "   ![image.png](attachment:image.png)"
   ]
  },
  {
   "cell_type": "code",
   "execution_count": 12,
   "id": "0cf2c6bb",
   "metadata": {},
   "outputs": [
    {
     "name": "stdout",
     "output_type": "stream",
     "text": [
      "문서1: ['apple', 'banana', 'everyone', 'like', 'likey', 'watch', 'card', 'holder']\n",
      "문서2: ['apple', 'banana', 'counpon', 'passport', 'love', 'you']\n"
     ]
    }
   ],
   "source": [
    "doc1 = \"apple banana everyone like likey watch card holder\"\n",
    "doc2 = \"apple banana counpon passport love you\"\n",
    "\n",
    "# 토큰화\n",
    "tokenized_doc1 = doc1.split()\n",
    "tokenized_doc2 = doc2.split()\n",
    "\n",
    "print(\"문서1:\", tokenized_doc1)\n",
    "print(\"문서2:\", tokenized_doc2)"
   ]
  },
  {
   "cell_type": "code",
   "execution_count": 13,
   "id": "88b9f175",
   "metadata": {},
   "outputs": [
    {
     "name": "stdout",
     "output_type": "stream",
     "text": [
      "문서1과 문서2의 합집합: {'you', 'passport', 'apple', 'watch', 'holder', 'card', 'everyone', 'likey', 'like', 'love', 'banana', 'counpon'}\n",
      "문서1과 문서2의 합집합의 개수: 12\n"
     ]
    }
   ],
   "source": [
    "union = set(tokenized_doc1).union(set(tokenized_doc2))\n",
    "print(\"문서1과 문서2의 합집합:\", union)\n",
    "print(\"문서1과 문서2의 합집합의 개수:\", len(union))"
   ]
  },
  {
   "cell_type": "code",
   "execution_count": 14,
   "id": "225bd8c3",
   "metadata": {
    "scrolled": true
   },
   "outputs": [
    {
     "name": "stdout",
     "output_type": "stream",
     "text": [
      "문서1과 문서2의 교집합: {'banana', 'apple'}\n",
      "문서1과 문서2의 교집합의 개수: 2\n"
     ]
    }
   ],
   "source": [
    "intersection = set(tokenized_doc1).intersection(set(tokenized_doc2))\n",
    "print(\"문서1과 문서2의 교집합:\",intersection)\n",
    "print(\"문서1과 문서2의 교집합의 개수:\", len(intersection))"
   ]
  },
  {
   "cell_type": "markdown",
   "id": "a923346b",
   "metadata": {},
   "source": [
    "    - 문서1과 문서2의 합집합은 12개, 교집합은 2개이다. \n",
    "    - 교집합의 크기를 합집합의 크기로 나누면 자카드 유사도가 된다."
   ]
  },
  {
   "cell_type": "code",
   "execution_count": 15,
   "id": "b4ec75b3",
   "metadata": {},
   "outputs": [
    {
     "name": "stdout",
     "output_type": "stream",
     "text": [
      "자카드 유사도: 0.16666666666666666\n"
     ]
    }
   ],
   "source": [
    "print(\"자카드 유사도:\", len(intersection)/len(union))"
   ]
  }
 ],
 "metadata": {
  "kernelspec": {
   "display_name": "py37",
   "language": "python",
   "name": "py37"
  },
  "language_info": {
   "codemirror_mode": {
    "name": "ipython",
    "version": 3
   },
   "file_extension": ".py",
   "mimetype": "text/x-python",
   "name": "python",
   "nbconvert_exporter": "python",
   "pygments_lexer": "ipython3",
   "version": "3.7.15"
  }
 },
 "nbformat": 4,
 "nbformat_minor": 5
}
